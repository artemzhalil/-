{
 "cells": [
  {
   "cell_type": "markdown",
   "id": "5f2918ba",
   "metadata": {},
   "source": [
    "### Практика 05. Библиотека Pandas. Таблицы в Pandas"
   ]
  },
  {
   "cell_type": "code",
   "execution_count": 132,
   "id": "c4f55245",
   "metadata": {},
   "outputs": [],
   "source": [
    "import pandas as pd\n",
    "import seaborn as sns\n",
    "import matplotlib.pyplot as plt\n",
    "import numpy as np\n",
    "import str"
   ]
  },
  {
   "cell_type": "markdown",
   "id": "68619375",
   "metadata": {},
   "source": [
    "### 1. Создание датафрейма"
   ]
  },
  {
   "cell_type": "markdown",
   "id": "bee71bd2",
   "metadata": {},
   "source": [
    "**Задание.** Создайте датафрейм с информацией о странах и их столицах."
   ]
  },
  {
   "cell_type": "code",
   "execution_count": 9,
   "id": "0704cbef",
   "metadata": {},
   "outputs": [],
   "source": [
    "data_countries = [\n",
    "    ['Исландия', 'Рейкьявик', 45464575475.0, 546.399],\n",
    "    ['Норвегия', 'Осло', 436346734646.0, 7547.155],\n",
    "    ['Швеция', 'Стокгольм', 56876967949.0, 3243.234],\n",
    "    ['Нидерланды', 'Амстердам', 2442142142.0, 878.121],\n",
    "    ['Швейцария','Берн', 29182174204.0, 432.322]\n",
    "]"
   ]
  },
  {
   "cell_type": "code",
   "execution_count": 10,
   "id": "ba5f5521",
   "metadata": {},
   "outputs": [],
   "source": [
    "geography = ['country', 'capital', 'population', 'area']"
   ]
  },
  {
   "cell_type": "code",
   "execution_count": 11,
   "id": "310b0c72",
   "metadata": {},
   "outputs": [
    {
     "data": {
      "text/html": [
       "<div>\n",
       "<style scoped>\n",
       "    .dataframe tbody tr th:only-of-type {\n",
       "        vertical-align: middle;\n",
       "    }\n",
       "\n",
       "    .dataframe tbody tr th {\n",
       "        vertical-align: top;\n",
       "    }\n",
       "\n",
       "    .dataframe thead th {\n",
       "        text-align: right;\n",
       "    }\n",
       "</style>\n",
       "<table border=\"1\" class=\"dataframe\">\n",
       "  <thead>\n",
       "    <tr style=\"text-align: right;\">\n",
       "      <th></th>\n",
       "      <th>country</th>\n",
       "      <th>capital</th>\n",
       "      <th>population</th>\n",
       "      <th>area</th>\n",
       "    </tr>\n",
       "  </thead>\n",
       "  <tbody>\n",
       "    <tr>\n",
       "      <th>0</th>\n",
       "      <td>Исландия</td>\n",
       "      <td>Рейкьявик</td>\n",
       "      <td>4.546458e+10</td>\n",
       "      <td>546.399</td>\n",
       "    </tr>\n",
       "    <tr>\n",
       "      <th>1</th>\n",
       "      <td>Норвегия</td>\n",
       "      <td>Осло</td>\n",
       "      <td>4.363467e+11</td>\n",
       "      <td>7547.155</td>\n",
       "    </tr>\n",
       "    <tr>\n",
       "      <th>2</th>\n",
       "      <td>Швеция</td>\n",
       "      <td>Стокгольм</td>\n",
       "      <td>5.687697e+10</td>\n",
       "      <td>3243.234</td>\n",
       "    </tr>\n",
       "    <tr>\n",
       "      <th>3</th>\n",
       "      <td>Нидерланды</td>\n",
       "      <td>Амстердам</td>\n",
       "      <td>2.442142e+09</td>\n",
       "      <td>878.121</td>\n",
       "    </tr>\n",
       "    <tr>\n",
       "      <th>4</th>\n",
       "      <td>Швейцария</td>\n",
       "      <td>Берн</td>\n",
       "      <td>2.918217e+10</td>\n",
       "      <td>432.322</td>\n",
       "    </tr>\n",
       "  </tbody>\n",
       "</table>\n",
       "</div>"
      ],
      "text/plain": [
       "      country    capital    population      area\n",
       "0    Исландия  Рейкьявик  4.546458e+10   546.399\n",
       "1    Норвегия       Осло  4.363467e+11  7547.155\n",
       "2      Швеция  Стокгольм  5.687697e+10  3243.234\n",
       "3  Нидерланды  Амстердам  2.442142e+09   878.121\n",
       "4   Швейцария       Берн  2.918217e+10   432.322"
      ]
     },
     "execution_count": 11,
     "metadata": {},
     "output_type": "execute_result"
    }
   ],
   "source": [
    "mini_map = pd.DataFrame(data = data_countries, columns = geography)\n",
    "mini_map"
   ]
  },
  {
   "cell_type": "markdown",
   "id": "2be84f11",
   "metadata": {},
   "source": [
    "### 2. Извлечение и обзор данных "
   ]
  },
  {
   "cell_type": "markdown",
   "id": "3ba9c428",
   "metadata": {},
   "source": [
    "Сброс ограничений на количество выводимых столбцов."
   ]
  },
  {
   "cell_type": "code",
   "execution_count": 12,
   "id": "1230f26c",
   "metadata": {},
   "outputs": [],
   "source": [
    "pd.set_option('display.max_columns', None)"
   ]
  },
  {
   "cell_type": "markdown",
   "id": "ad2e4434",
   "metadata": {},
   "source": [
    "Установка единообразного отображения вещественных чисел с двумя знаками после запятой."
   ]
  },
  {
   "cell_type": "code",
   "execution_count": 13,
   "id": "a02e6c33",
   "metadata": {},
   "outputs": [],
   "source": [
    "pd.set_option('display.float_format', '{:,.2f}'.format)"
   ]
  },
  {
   "cell_type": "markdown",
   "id": "a420efe4",
   "metadata": {},
   "source": [
    "Знакомство с данными, вывод первых строк датафрейма."
   ]
  },
  {
   "cell_type": "code",
   "execution_count": 14,
   "id": "e0a8e8d8",
   "metadata": {},
   "outputs": [
    {
     "data": {
      "text/html": [
       "<div>\n",
       "<style scoped>\n",
       "    .dataframe tbody tr th:only-of-type {\n",
       "        vertical-align: middle;\n",
       "    }\n",
       "\n",
       "    .dataframe tbody tr th {\n",
       "        vertical-align: top;\n",
       "    }\n",
       "\n",
       "    .dataframe thead th {\n",
       "        text-align: right;\n",
       "    }\n",
       "</style>\n",
       "<table border=\"1\" class=\"dataframe\">\n",
       "  <thead>\n",
       "    <tr style=\"text-align: right;\">\n",
       "      <th></th>\n",
       "      <th>country</th>\n",
       "      <th>capital</th>\n",
       "      <th>population</th>\n",
       "      <th>area</th>\n",
       "    </tr>\n",
       "  </thead>\n",
       "  <tbody>\n",
       "    <tr>\n",
       "      <th>0</th>\n",
       "      <td>Исландия</td>\n",
       "      <td>Рейкьявик</td>\n",
       "      <td>45,464,575,475.00</td>\n",
       "      <td>546.40</td>\n",
       "    </tr>\n",
       "    <tr>\n",
       "      <th>1</th>\n",
       "      <td>Норвегия</td>\n",
       "      <td>Осло</td>\n",
       "      <td>436,346,734,646.00</td>\n",
       "      <td>7,547.15</td>\n",
       "    </tr>\n",
       "    <tr>\n",
       "      <th>2</th>\n",
       "      <td>Швеция</td>\n",
       "      <td>Стокгольм</td>\n",
       "      <td>56,876,967,949.00</td>\n",
       "      <td>3,243.23</td>\n",
       "    </tr>\n",
       "    <tr>\n",
       "      <th>3</th>\n",
       "      <td>Нидерланды</td>\n",
       "      <td>Амстердам</td>\n",
       "      <td>2,442,142,142.00</td>\n",
       "      <td>878.12</td>\n",
       "    </tr>\n",
       "    <tr>\n",
       "      <th>4</th>\n",
       "      <td>Швейцария</td>\n",
       "      <td>Берн</td>\n",
       "      <td>29,182,174,204.00</td>\n",
       "      <td>432.32</td>\n",
       "    </tr>\n",
       "  </tbody>\n",
       "</table>\n",
       "</div>"
      ],
      "text/plain": [
       "      country    capital         population     area\n",
       "0    Исландия  Рейкьявик  45,464,575,475.00   546.40\n",
       "1    Норвегия       Осло 436,346,734,646.00 7,547.15\n",
       "2      Швеция  Стокгольм  56,876,967,949.00 3,243.23\n",
       "3  Нидерланды  Амстердам   2,442,142,142.00   878.12\n",
       "4   Швейцария       Берн  29,182,174,204.00   432.32"
      ]
     },
     "execution_count": 14,
     "metadata": {},
     "output_type": "execute_result"
    }
   ],
   "source": [
    "# проверка на целостность\n",
    "mini_map.head()"
   ]
  },
  {
   "cell_type": "markdown",
   "id": "c2eb0ff5",
   "metadata": {},
   "source": [
    "Знакомство с данными, вывод первых десяти строк датафрейма."
   ]
  },
  {
   "cell_type": "code",
   "execution_count": 15,
   "id": "8d279237",
   "metadata": {},
   "outputs": [
    {
     "data": {
      "text/html": [
       "<div>\n",
       "<style scoped>\n",
       "    .dataframe tbody tr th:only-of-type {\n",
       "        vertical-align: middle;\n",
       "    }\n",
       "\n",
       "    .dataframe tbody tr th {\n",
       "        vertical-align: top;\n",
       "    }\n",
       "\n",
       "    .dataframe thead th {\n",
       "        text-align: right;\n",
       "    }\n",
       "</style>\n",
       "<table border=\"1\" class=\"dataframe\">\n",
       "  <thead>\n",
       "    <tr style=\"text-align: right;\">\n",
       "      <th></th>\n",
       "      <th>country</th>\n",
       "      <th>capital</th>\n",
       "      <th>population</th>\n",
       "      <th>area</th>\n",
       "    </tr>\n",
       "  </thead>\n",
       "  <tbody>\n",
       "    <tr>\n",
       "      <th>0</th>\n",
       "      <td>Исландия</td>\n",
       "      <td>Рейкьявик</td>\n",
       "      <td>45,464,575,475.00</td>\n",
       "      <td>546.40</td>\n",
       "    </tr>\n",
       "    <tr>\n",
       "      <th>1</th>\n",
       "      <td>Норвегия</td>\n",
       "      <td>Осло</td>\n",
       "      <td>436,346,734,646.00</td>\n",
       "      <td>7,547.15</td>\n",
       "    </tr>\n",
       "  </tbody>\n",
       "</table>\n",
       "</div>"
      ],
      "text/plain": [
       "    country    capital         population     area\n",
       "0  Исландия  Рейкьявик  45,464,575,475.00   546.40\n",
       "1  Норвегия       Осло 436,346,734,646.00 7,547.15"
      ]
     },
     "execution_count": 15,
     "metadata": {},
     "output_type": "execute_result"
    }
   ],
   "source": [
    "mini_map.head(2)"
   ]
  },
  {
   "cell_type": "markdown",
   "id": "3831d876",
   "metadata": {},
   "source": [
    "Знакомство с данными, вывод последних строк датафрейма."
   ]
  },
  {
   "cell_type": "code",
   "execution_count": 16,
   "id": "ad563b37",
   "metadata": {},
   "outputs": [
    {
     "data": {
      "text/html": [
       "<div>\n",
       "<style scoped>\n",
       "    .dataframe tbody tr th:only-of-type {\n",
       "        vertical-align: middle;\n",
       "    }\n",
       "\n",
       "    .dataframe tbody tr th {\n",
       "        vertical-align: top;\n",
       "    }\n",
       "\n",
       "    .dataframe thead th {\n",
       "        text-align: right;\n",
       "    }\n",
       "</style>\n",
       "<table border=\"1\" class=\"dataframe\">\n",
       "  <thead>\n",
       "    <tr style=\"text-align: right;\">\n",
       "      <th></th>\n",
       "      <th>country</th>\n",
       "      <th>capital</th>\n",
       "      <th>population</th>\n",
       "      <th>area</th>\n",
       "    </tr>\n",
       "  </thead>\n",
       "  <tbody>\n",
       "    <tr>\n",
       "      <th>3</th>\n",
       "      <td>Нидерланды</td>\n",
       "      <td>Амстердам</td>\n",
       "      <td>2,442,142,142.00</td>\n",
       "      <td>878.12</td>\n",
       "    </tr>\n",
       "    <tr>\n",
       "      <th>4</th>\n",
       "      <td>Швейцария</td>\n",
       "      <td>Берн</td>\n",
       "      <td>29,182,174,204.00</td>\n",
       "      <td>432.32</td>\n",
       "    </tr>\n",
       "  </tbody>\n",
       "</table>\n",
       "</div>"
      ],
      "text/plain": [
       "      country    capital        population   area\n",
       "3  Нидерланды  Амстердам  2,442,142,142.00 878.12\n",
       "4   Швейцария       Берн 29,182,174,204.00 432.32"
      ]
     },
     "execution_count": 16,
     "metadata": {},
     "output_type": "execute_result"
    }
   ],
   "source": [
    "mini_map.tail(2)"
   ]
  },
  {
   "cell_type": "markdown",
   "id": "db7fbb57",
   "metadata": {},
   "source": [
    "Знакомство с данными, вывод случайной выборки из датафрейма."
   ]
  },
  {
   "cell_type": "code",
   "execution_count": 17,
   "id": "94baaeb6-b813-4a3d-8315-ec29b98454eb",
   "metadata": {},
   "outputs": [
    {
     "data": {
      "text/html": [
       "<div>\n",
       "<style scoped>\n",
       "    .dataframe tbody tr th:only-of-type {\n",
       "        vertical-align: middle;\n",
       "    }\n",
       "\n",
       "    .dataframe tbody tr th {\n",
       "        vertical-align: top;\n",
       "    }\n",
       "\n",
       "    .dataframe thead th {\n",
       "        text-align: right;\n",
       "    }\n",
       "</style>\n",
       "<table border=\"1\" class=\"dataframe\">\n",
       "  <thead>\n",
       "    <tr style=\"text-align: right;\">\n",
       "      <th></th>\n",
       "      <th>country</th>\n",
       "      <th>capital</th>\n",
       "      <th>population</th>\n",
       "      <th>area</th>\n",
       "    </tr>\n",
       "  </thead>\n",
       "  <tbody>\n",
       "    <tr>\n",
       "      <th>0</th>\n",
       "      <td>Исландия</td>\n",
       "      <td>Рейкьявик</td>\n",
       "      <td>45,464,575,475.00</td>\n",
       "      <td>546.40</td>\n",
       "    </tr>\n",
       "    <tr>\n",
       "      <th>4</th>\n",
       "      <td>Швейцария</td>\n",
       "      <td>Берн</td>\n",
       "      <td>29,182,174,204.00</td>\n",
       "      <td>432.32</td>\n",
       "    </tr>\n",
       "    <tr>\n",
       "      <th>3</th>\n",
       "      <td>Нидерланды</td>\n",
       "      <td>Амстердам</td>\n",
       "      <td>2,442,142,142.00</td>\n",
       "      <td>878.12</td>\n",
       "    </tr>\n",
       "  </tbody>\n",
       "</table>\n",
       "</div>"
      ],
      "text/plain": [
       "      country    capital        population   area\n",
       "0    Исландия  Рейкьявик 45,464,575,475.00 546.40\n",
       "4   Швейцария       Берн 29,182,174,204.00 432.32\n",
       "3  Нидерланды  Амстердам  2,442,142,142.00 878.12"
      ]
     },
     "execution_count": 17,
     "metadata": {},
     "output_type": "execute_result"
    }
   ],
   "source": [
    "mini_map.sample(3)"
   ]
  },
  {
   "cell_type": "markdown",
   "id": "f8ba73b8",
   "metadata": {},
   "source": [
    "Знакомство с атрибутами датафрейма. Изучение общей информации о датафрейме, структуры данных."
   ]
  },
  {
   "cell_type": "code",
   "execution_count": 18,
   "id": "c5a29eb2",
   "metadata": {},
   "outputs": [
    {
     "data": {
      "text/plain": [
       "country        object\n",
       "capital        object\n",
       "population    float64\n",
       "area          float64\n",
       "dtype: object"
      ]
     },
     "execution_count": 18,
     "metadata": {},
     "output_type": "execute_result"
    }
   ],
   "source": [
    "mini_map.dtypes"
   ]
  },
  {
   "cell_type": "code",
   "execution_count": 19,
   "id": "f387e329",
   "metadata": {},
   "outputs": [
    {
     "data": {
      "text/plain": [
       "Index(['country', 'capital', 'population', 'area'], dtype='object')"
      ]
     },
     "execution_count": 19,
     "metadata": {},
     "output_type": "execute_result"
    }
   ],
   "source": [
    "mini_map.columns"
   ]
  },
  {
   "cell_type": "code",
   "execution_count": 20,
   "id": "6c3a1306",
   "metadata": {},
   "outputs": [
    {
     "data": {
      "text/plain": [
       "(5, 4)"
      ]
     },
     "execution_count": 20,
     "metadata": {},
     "output_type": "execute_result"
    }
   ],
   "source": [
    "# (строки, столбцы)\n",
    "mini_map.shape"
   ]
  },
  {
   "cell_type": "code",
   "execution_count": 21,
   "id": "199f13ed",
   "metadata": {},
   "outputs": [
    {
     "data": {
      "text/plain": [
       "5"
      ]
     },
     "execution_count": 21,
     "metadata": {},
     "output_type": "execute_result"
    }
   ],
   "source": [
    "rows_number = mini_map.shape[0]\n",
    "rows_number"
   ]
  },
  {
   "cell_type": "code",
   "execution_count": 22,
   "id": "8ad13976",
   "metadata": {},
   "outputs": [
    {
     "data": {
      "text/plain": [
       "4"
      ]
     },
     "execution_count": 22,
     "metadata": {},
     "output_type": "execute_result"
    }
   ],
   "source": [
    "columns_number = mini_map.shape[1]\n",
    "columns_number"
   ]
  },
  {
   "cell_type": "code",
   "execution_count": 23,
   "id": "840f3ed7",
   "metadata": {},
   "outputs": [
    {
     "data": {
      "text/plain": [
       "<bound method DataFrame.info of       country    capital         population     area\n",
       "0    Исландия  Рейкьявик  45,464,575,475.00   546.40\n",
       "1    Норвегия       Осло 436,346,734,646.00 7,547.15\n",
       "2      Швеция  Стокгольм  56,876,967,949.00 3,243.23\n",
       "3  Нидерланды  Амстердам   2,442,142,142.00   878.12\n",
       "4   Швейцария       Берн  29,182,174,204.00   432.32>"
      ]
     },
     "execution_count": 23,
     "metadata": {},
     "output_type": "execute_result"
    }
   ],
   "source": [
    "mini_map.info"
   ]
  },
  {
   "cell_type": "code",
   "execution_count": 24,
   "id": "baf25c79",
   "metadata": {},
   "outputs": [
    {
     "name": "stdout",
     "output_type": "stream",
     "text": [
      "<class 'pandas.core.frame.DataFrame'>\n",
      "RangeIndex: 5 entries, 0 to 4\n",
      "Data columns (total 4 columns):\n",
      " #   Column      Non-Null Count  Dtype  \n",
      "---  ------      --------------  -----  \n",
      " 0   country     5 non-null      object \n",
      " 1   capital     5 non-null      object \n",
      " 2   population  5 non-null      float64\n",
      " 3   area        5 non-null      float64\n",
      "dtypes: float64(2), object(2)\n",
      "memory usage: 292.0+ bytes\n"
     ]
    }
   ],
   "source": [
    "mini_map.info()"
   ]
  },
  {
   "cell_type": "markdown",
   "id": "765bed37",
   "metadata": {},
   "source": [
    "### 3. Предварительные выводы о данных"
   ]
  },
  {
   "cell_type": "markdown",
   "id": "e7e11942",
   "metadata": {},
   "source": [
    "Согласно документации к данным.\n",
    "\n",
    "Датасет **_** содержит информацию _.<br>\n"
   ]
  },
  {
   "cell_type": "markdown",
   "id": "44440d76-9c71-4d65-b9d6-72c528bd4c58",
   "metadata": {},
   "source": [
    "Выводы<br><br>\n",
    "1. В датафрейме **_ записей, _ столбцов**.\n",
    "2. В _ столбцах имеются **пропущенные значения**.\n",
    "3. Нарушение стиля в заголовке столбца **_**, следует изменить регистр.\n",
    "4. Для ряда столбцов видится возможным **изменение типа данных** для снижения нагрузки и удобства визуализации данных (отсутствия дробных частей в лейблах/подписях).\n",
    "5. Из столбца **_** для более детального анализа данных следует выделить месяц/год.\n",
    "6. В столбцах **_**, **_**, **_**, **_** возможны дубликаты.\n",
    "7. Более детально необходимо посмотреть на строковые значения в столбцах **_** (в некоторых наименованиях в конце строки - лишний символ точки); **_** (использование различных символов для разделения нескольких стран); в столбце **_** различается принцип ввода имен собственных для иностранных и отечественных режиссеров, аналогичная ситуация со столбцом **_**.\n",
    "8. ..."
   ]
  },
  {
   "cell_type": "markdown",
   "id": "e44b2a2c-fbf3-4e3e-9916-921bd7424330",
   "metadata": {},
   "source": [
    "### 4. Работа с датафреймом"
   ]
  },
  {
   "cell_type": "code",
   "execution_count": 25,
   "id": "47e4b8a9-7993-46ab-8c86-3b9608011c90",
   "metadata": {},
   "outputs": [],
   "source": [
    "mini_map.rename(columns = {'capital': 'city'}, inplace = True)\n",
    "mini_map.rename(columns = {'area': 'area_kv_km'}, inplace = True)"
   ]
  },
  {
   "cell_type": "code",
   "execution_count": 26,
   "id": "09a02343-8683-4e55-91fa-a2b481f77c8e",
   "metadata": {},
   "outputs": [
    {
     "data": {
      "text/plain": [
       "country        object\n",
       "city           object\n",
       "population    float64\n",
       "area_kv_km    float64\n",
       "dtype: object"
      ]
     },
     "execution_count": 26,
     "metadata": {},
     "output_type": "execute_result"
    }
   ],
   "source": [
    "mini_map.dtypes"
   ]
  },
  {
   "cell_type": "code",
   "execution_count": 27,
   "id": "7ef99cbc-f3e9-4529-a58d-1362ebdad704",
   "metadata": {},
   "outputs": [],
   "source": [
    "mini_map.population = mini_map.population.astype('int')"
   ]
  },
  {
   "cell_type": "code",
   "execution_count": 28,
   "id": "c43b1726-6325-423c-9437-10cfa5fae1c2",
   "metadata": {},
   "outputs": [
    {
     "data": {
      "text/plain": [
       "country        object\n",
       "city           object\n",
       "population      int64\n",
       "area_kv_km    float64\n",
       "dtype: object"
      ]
     },
     "execution_count": 28,
     "metadata": {},
     "output_type": "execute_result"
    }
   ],
   "source": [
    "mini_map.dtypes"
   ]
  },
  {
   "cell_type": "code",
   "execution_count": 29,
   "id": "3465e6b2-e0d5-4d82-9274-0bb99ea71ddd",
   "metadata": {},
   "outputs": [],
   "source": [
    "mini_map = mini_map.astype({'population': 'float', 'area_kv_km': 'int'})\n",
    "mini_map = mini_map.astype({'population': 'int', 'area_kv_km': 'float'})"
   ]
  },
  {
   "cell_type": "code",
   "execution_count": 30,
   "id": "937ec792-d9fc-4cbc-a558-0dc5298b381f",
   "metadata": {},
   "outputs": [
    {
     "data": {
      "text/html": [
       "<div>\n",
       "<style scoped>\n",
       "    .dataframe tbody tr th:only-of-type {\n",
       "        vertical-align: middle;\n",
       "    }\n",
       "\n",
       "    .dataframe tbody tr th {\n",
       "        vertical-align: top;\n",
       "    }\n",
       "\n",
       "    .dataframe thead th {\n",
       "        text-align: right;\n",
       "    }\n",
       "</style>\n",
       "<table border=\"1\" class=\"dataframe\">\n",
       "  <thead>\n",
       "    <tr style=\"text-align: right;\">\n",
       "      <th></th>\n",
       "      <th>country</th>\n",
       "      <th>city</th>\n",
       "      <th>population</th>\n",
       "      <th>area_kv_km</th>\n",
       "    </tr>\n",
       "  </thead>\n",
       "  <tbody>\n",
       "    <tr>\n",
       "      <th>0</th>\n",
       "      <td>Исландия</td>\n",
       "      <td>Рейкьявик</td>\n",
       "      <td>45464575475</td>\n",
       "      <td>546.00</td>\n",
       "    </tr>\n",
       "    <tr>\n",
       "      <th>1</th>\n",
       "      <td>Норвегия</td>\n",
       "      <td>Осло</td>\n",
       "      <td>436346734646</td>\n",
       "      <td>7,547.00</td>\n",
       "    </tr>\n",
       "    <tr>\n",
       "      <th>2</th>\n",
       "      <td>Швеция</td>\n",
       "      <td>Стокгольм</td>\n",
       "      <td>56876967949</td>\n",
       "      <td>3,243.00</td>\n",
       "    </tr>\n",
       "    <tr>\n",
       "      <th>3</th>\n",
       "      <td>Нидерланды</td>\n",
       "      <td>Амстердам</td>\n",
       "      <td>2442142142</td>\n",
       "      <td>878.00</td>\n",
       "    </tr>\n",
       "    <tr>\n",
       "      <th>4</th>\n",
       "      <td>Швейцария</td>\n",
       "      <td>Берн</td>\n",
       "      <td>29182174204</td>\n",
       "      <td>432.00</td>\n",
       "    </tr>\n",
       "  </tbody>\n",
       "</table>\n",
       "</div>"
      ],
      "text/plain": [
       "      country       city    population  area_kv_km\n",
       "0    Исландия  Рейкьявик   45464575475      546.00\n",
       "1    Норвегия       Осло  436346734646    7,547.00\n",
       "2      Швеция  Стокгольм   56876967949    3,243.00\n",
       "3  Нидерланды  Амстердам    2442142142      878.00\n",
       "4   Швейцария       Берн   29182174204      432.00"
      ]
     },
     "execution_count": 30,
     "metadata": {},
     "output_type": "execute_result"
    }
   ],
   "source": [
    "mini_map"
   ]
  },
  {
   "cell_type": "code",
   "execution_count": 31,
   "id": "30b0a6ef-be35-4ebf-9ad0-afce6ee4b61c",
   "metadata": {},
   "outputs": [
    {
     "data": {
      "text/html": [
       "<div>\n",
       "<style scoped>\n",
       "    .dataframe tbody tr th:only-of-type {\n",
       "        vertical-align: middle;\n",
       "    }\n",
       "\n",
       "    .dataframe tbody tr th {\n",
       "        vertical-align: top;\n",
       "    }\n",
       "\n",
       "    .dataframe thead th {\n",
       "        text-align: right;\n",
       "    }\n",
       "</style>\n",
       "<table border=\"1\" class=\"dataframe\">\n",
       "  <thead>\n",
       "    <tr style=\"text-align: right;\">\n",
       "      <th></th>\n",
       "      <th>population</th>\n",
       "      <th>area_kv_km</th>\n",
       "    </tr>\n",
       "  </thead>\n",
       "  <tbody>\n",
       "    <tr>\n",
       "      <th>0</th>\n",
       "      <td>45464575475</td>\n",
       "      <td>546.00</td>\n",
       "    </tr>\n",
       "    <tr>\n",
       "      <th>1</th>\n",
       "      <td>436346734646</td>\n",
       "      <td>7,547.00</td>\n",
       "    </tr>\n",
       "    <tr>\n",
       "      <th>2</th>\n",
       "      <td>56876967949</td>\n",
       "      <td>3,243.00</td>\n",
       "    </tr>\n",
       "    <tr>\n",
       "      <th>3</th>\n",
       "      <td>2442142142</td>\n",
       "      <td>878.00</td>\n",
       "    </tr>\n",
       "    <tr>\n",
       "      <th>4</th>\n",
       "      <td>29182174204</td>\n",
       "      <td>432.00</td>\n",
       "    </tr>\n",
       "  </tbody>\n",
       "</table>\n",
       "</div>"
      ],
      "text/plain": [
       "     population  area_kv_km\n",
       "0   45464575475      546.00\n",
       "1  436346734646    7,547.00\n",
       "2   56876967949    3,243.00\n",
       "3    2442142142      878.00\n",
       "4   29182174204      432.00"
      ]
     },
     "execution_count": 31,
     "metadata": {},
     "output_type": "execute_result"
    }
   ],
   "source": [
    "mini_map.select_dtypes(include = ['int64', 'float64'])"
   ]
  },
  {
   "cell_type": "code",
   "execution_count": 32,
   "id": "de6e54b8-73ec-42c2-9f78-561135ed3b68",
   "metadata": {},
   "outputs": [
    {
     "data": {
      "text/html": [
       "<div>\n",
       "<style scoped>\n",
       "    .dataframe tbody tr th:only-of-type {\n",
       "        vertical-align: middle;\n",
       "    }\n",
       "\n",
       "    .dataframe tbody tr th {\n",
       "        vertical-align: top;\n",
       "    }\n",
       "\n",
       "    .dataframe thead th {\n",
       "        text-align: right;\n",
       "    }\n",
       "</style>\n",
       "<table border=\"1\" class=\"dataframe\">\n",
       "  <thead>\n",
       "    <tr style=\"text-align: right;\">\n",
       "      <th></th>\n",
       "      <th>country</th>\n",
       "      <th>city</th>\n",
       "    </tr>\n",
       "  </thead>\n",
       "  <tbody>\n",
       "    <tr>\n",
       "      <th>0</th>\n",
       "      <td>Исландия</td>\n",
       "      <td>Рейкьявик</td>\n",
       "    </tr>\n",
       "    <tr>\n",
       "      <th>1</th>\n",
       "      <td>Норвегия</td>\n",
       "      <td>Осло</td>\n",
       "    </tr>\n",
       "    <tr>\n",
       "      <th>2</th>\n",
       "      <td>Швеция</td>\n",
       "      <td>Стокгольм</td>\n",
       "    </tr>\n",
       "    <tr>\n",
       "      <th>3</th>\n",
       "      <td>Нидерланды</td>\n",
       "      <td>Амстердам</td>\n",
       "    </tr>\n",
       "    <tr>\n",
       "      <th>4</th>\n",
       "      <td>Швейцария</td>\n",
       "      <td>Берн</td>\n",
       "    </tr>\n",
       "  </tbody>\n",
       "</table>\n",
       "</div>"
      ],
      "text/plain": [
       "      country       city\n",
       "0    Исландия  Рейкьявик\n",
       "1    Норвегия       Осло\n",
       "2      Швеция  Стокгольм\n",
       "3  Нидерланды  Амстердам\n",
       "4   Швейцария       Берн"
      ]
     },
     "execution_count": 32,
     "metadata": {},
     "output_type": "execute_result"
    }
   ],
   "source": [
    "mini_map.select_dtypes(exclude = ['int64', 'float64'])"
   ]
  },
  {
   "cell_type": "code",
   "execution_count": 33,
   "id": "0abb77e0-30e2-42bd-b211-9e3adb2c6718",
   "metadata": {},
   "outputs": [
    {
     "data": {
      "text/html": [
       "<div>\n",
       "<style scoped>\n",
       "    .dataframe tbody tr th:only-of-type {\n",
       "        vertical-align: middle;\n",
       "    }\n",
       "\n",
       "    .dataframe tbody tr th {\n",
       "        vertical-align: top;\n",
       "    }\n",
       "\n",
       "    .dataframe thead th {\n",
       "        text-align: right;\n",
       "    }\n",
       "</style>\n",
       "<table border=\"1\" class=\"dataframe\">\n",
       "  <thead>\n",
       "    <tr style=\"text-align: right;\">\n",
       "      <th></th>\n",
       "      <th>country</th>\n",
       "      <th>city</th>\n",
       "      <th>population</th>\n",
       "      <th>area_kv_km</th>\n",
       "    </tr>\n",
       "  </thead>\n",
       "  <tbody>\n",
       "    <tr>\n",
       "      <th>0</th>\n",
       "      <td>Исландия</td>\n",
       "      <td>Рейкьявик</td>\n",
       "      <td>45464575475</td>\n",
       "      <td>546.00</td>\n",
       "    </tr>\n",
       "    <tr>\n",
       "      <th>1</th>\n",
       "      <td>Норвегия</td>\n",
       "      <td>Осло</td>\n",
       "      <td>436346734646</td>\n",
       "      <td>7,547.00</td>\n",
       "    </tr>\n",
       "    <tr>\n",
       "      <th>2</th>\n",
       "      <td>Швеция</td>\n",
       "      <td>Стокгольм</td>\n",
       "      <td>56876967949</td>\n",
       "      <td>3,243.00</td>\n",
       "    </tr>\n",
       "    <tr>\n",
       "      <th>3</th>\n",
       "      <td>Нидерланды</td>\n",
       "      <td>Амстердам</td>\n",
       "      <td>2442142142</td>\n",
       "      <td>878.00</td>\n",
       "    </tr>\n",
       "    <tr>\n",
       "      <th>4</th>\n",
       "      <td>Швейцария</td>\n",
       "      <td>Берн</td>\n",
       "      <td>29182174204</td>\n",
       "      <td>432.00</td>\n",
       "    </tr>\n",
       "  </tbody>\n",
       "</table>\n",
       "</div>"
      ],
      "text/plain": [
       "      country       city    population  area_kv_km\n",
       "0    Исландия  Рейкьявик   45464575475      546.00\n",
       "1    Норвегия       Осло  436346734646    7,547.00\n",
       "2      Швеция  Стокгольм   56876967949    3,243.00\n",
       "3  Нидерланды  Амстердам    2442142142      878.00\n",
       "4   Швейцария       Берн   29182174204      432.00"
      ]
     },
     "execution_count": 33,
     "metadata": {},
     "output_type": "execute_result"
    }
   ],
   "source": [
    "mini_map"
   ]
  },
  {
   "cell_type": "code",
   "execution_count": 34,
   "id": "dca0515e-b2e6-463a-872d-41bc604532ce",
   "metadata": {},
   "outputs": [],
   "source": [
    "# добавление значений(строк)\n",
    "dict = {'country': 'Belgium', 'city': 'Brussel', 'population': 4354643, 'area_kv_km': 123.6}"
   ]
  },
  {
   "cell_type": "code",
   "execution_count": 35,
   "id": "57fe27a9-6fa3-4168-b6c4-8c41d50c2212",
   "metadata": {},
   "outputs": [],
   "source": [
    "# mini_map = mini_map.append(dict, ignore_index = True)"
   ]
  },
  {
   "cell_type": "code",
   "execution_count": 36,
   "id": "436b3742-c5d6-4a7d-bb2a-1538fabd3482",
   "metadata": {},
   "outputs": [],
   "source": [
    "mini_map['pop_density'] = [32, 2433, 536, 577, 968]"
   ]
  },
  {
   "cell_type": "code",
   "execution_count": 37,
   "id": "04926ed4-784a-4490-a604-50aaaf4796c0",
   "metadata": {},
   "outputs": [
    {
     "data": {
      "text/html": [
       "<div>\n",
       "<style scoped>\n",
       "    .dataframe tbody tr th:only-of-type {\n",
       "        vertical-align: middle;\n",
       "    }\n",
       "\n",
       "    .dataframe tbody tr th {\n",
       "        vertical-align: top;\n",
       "    }\n",
       "\n",
       "    .dataframe thead th {\n",
       "        text-align: right;\n",
       "    }\n",
       "</style>\n",
       "<table border=\"1\" class=\"dataframe\">\n",
       "  <thead>\n",
       "    <tr style=\"text-align: right;\">\n",
       "      <th></th>\n",
       "      <th>country</th>\n",
       "      <th>city</th>\n",
       "      <th>population</th>\n",
       "      <th>area_kv_km</th>\n",
       "      <th>pop_density</th>\n",
       "    </tr>\n",
       "  </thead>\n",
       "  <tbody>\n",
       "    <tr>\n",
       "      <th>0</th>\n",
       "      <td>Исландия</td>\n",
       "      <td>Рейкьявик</td>\n",
       "      <td>45464575475</td>\n",
       "      <td>546.00</td>\n",
       "      <td>32</td>\n",
       "    </tr>\n",
       "    <tr>\n",
       "      <th>1</th>\n",
       "      <td>Норвегия</td>\n",
       "      <td>Осло</td>\n",
       "      <td>436346734646</td>\n",
       "      <td>7,547.00</td>\n",
       "      <td>2433</td>\n",
       "    </tr>\n",
       "    <tr>\n",
       "      <th>2</th>\n",
       "      <td>Швеция</td>\n",
       "      <td>Стокгольм</td>\n",
       "      <td>56876967949</td>\n",
       "      <td>3,243.00</td>\n",
       "      <td>536</td>\n",
       "    </tr>\n",
       "    <tr>\n",
       "      <th>3</th>\n",
       "      <td>Нидерланды</td>\n",
       "      <td>Амстердам</td>\n",
       "      <td>2442142142</td>\n",
       "      <td>878.00</td>\n",
       "      <td>577</td>\n",
       "    </tr>\n",
       "    <tr>\n",
       "      <th>4</th>\n",
       "      <td>Швейцария</td>\n",
       "      <td>Берн</td>\n",
       "      <td>29182174204</td>\n",
       "      <td>432.00</td>\n",
       "      <td>968</td>\n",
       "    </tr>\n",
       "  </tbody>\n",
       "</table>\n",
       "</div>"
      ],
      "text/plain": [
       "      country       city    population  area_kv_km  pop_density\n",
       "0    Исландия  Рейкьявик   45464575475      546.00           32\n",
       "1    Норвегия       Осло  436346734646    7,547.00         2433\n",
       "2      Швеция  Стокгольм   56876967949    3,243.00          536\n",
       "3  Нидерланды  Амстердам    2442142142      878.00          577\n",
       "4   Швейцария       Берн   29182174204      432.00          968"
      ]
     },
     "execution_count": 37,
     "metadata": {},
     "output_type": "execute_result"
    }
   ],
   "source": [
    "mini_map"
   ]
  },
  {
   "cell_type": "code",
   "execution_count": 38,
   "id": "dbfe1016-5cfc-445e-b0dc-1b15657344b6",
   "metadata": {},
   "outputs": [],
   "source": [
    "mini_map = mini_map.assign(area_miles = mini_map.area_kv_km / 1.61).round(2)"
   ]
  },
  {
   "cell_type": "code",
   "execution_count": 39,
   "id": "36ece85c-fb53-470a-a1a4-2835d43c1ab3",
   "metadata": {},
   "outputs": [
    {
     "data": {
      "text/html": [
       "<div>\n",
       "<style scoped>\n",
       "    .dataframe tbody tr th:only-of-type {\n",
       "        vertical-align: middle;\n",
       "    }\n",
       "\n",
       "    .dataframe tbody tr th {\n",
       "        vertical-align: top;\n",
       "    }\n",
       "\n",
       "    .dataframe thead th {\n",
       "        text-align: right;\n",
       "    }\n",
       "</style>\n",
       "<table border=\"1\" class=\"dataframe\">\n",
       "  <thead>\n",
       "    <tr style=\"text-align: right;\">\n",
       "      <th></th>\n",
       "      <th>country</th>\n",
       "      <th>city</th>\n",
       "      <th>population</th>\n",
       "      <th>area_kv_km</th>\n",
       "      <th>pop_density</th>\n",
       "      <th>area_miles</th>\n",
       "    </tr>\n",
       "  </thead>\n",
       "  <tbody>\n",
       "    <tr>\n",
       "      <th>0</th>\n",
       "      <td>Исландия</td>\n",
       "      <td>Рейкьявик</td>\n",
       "      <td>45464575475</td>\n",
       "      <td>546.00</td>\n",
       "      <td>32</td>\n",
       "      <td>339.13</td>\n",
       "    </tr>\n",
       "    <tr>\n",
       "      <th>1</th>\n",
       "      <td>Норвегия</td>\n",
       "      <td>Осло</td>\n",
       "      <td>436346734646</td>\n",
       "      <td>7,547.00</td>\n",
       "      <td>2433</td>\n",
       "      <td>4,687.58</td>\n",
       "    </tr>\n",
       "    <tr>\n",
       "      <th>2</th>\n",
       "      <td>Швеция</td>\n",
       "      <td>Стокгольм</td>\n",
       "      <td>56876967949</td>\n",
       "      <td>3,243.00</td>\n",
       "      <td>536</td>\n",
       "      <td>2,014.29</td>\n",
       "    </tr>\n",
       "    <tr>\n",
       "      <th>3</th>\n",
       "      <td>Нидерланды</td>\n",
       "      <td>Амстердам</td>\n",
       "      <td>2442142142</td>\n",
       "      <td>878.00</td>\n",
       "      <td>577</td>\n",
       "      <td>545.34</td>\n",
       "    </tr>\n",
       "    <tr>\n",
       "      <th>4</th>\n",
       "      <td>Швейцария</td>\n",
       "      <td>Берн</td>\n",
       "      <td>29182174204</td>\n",
       "      <td>432.00</td>\n",
       "      <td>968</td>\n",
       "      <td>268.32</td>\n",
       "    </tr>\n",
       "  </tbody>\n",
       "</table>\n",
       "</div>"
      ],
      "text/plain": [
       "      country       city    population  area_kv_km  pop_density  area_miles\n",
       "0    Исландия  Рейкьявик   45464575475      546.00           32      339.13\n",
       "1    Норвегия       Осло  436346734646    7,547.00         2433    4,687.58\n",
       "2      Швеция  Стокгольм   56876967949    3,243.00          536    2,014.29\n",
       "3  Нидерланды  Амстердам    2442142142      878.00          577      545.34\n",
       "4   Швейцария       Берн   29182174204      432.00          968      268.32"
      ]
     },
     "execution_count": 39,
     "metadata": {},
     "output_type": "execute_result"
    }
   ],
   "source": [
    "mini_map"
   ]
  },
  {
   "cell_type": "code",
   "execution_count": 40,
   "id": "4ca99c9a-9f2f-465f-b2ec-7a06a6430560",
   "metadata": {},
   "outputs": [
    {
     "data": {
      "text/html": [
       "<div>\n",
       "<style scoped>\n",
       "    .dataframe tbody tr th:only-of-type {\n",
       "        vertical-align: middle;\n",
       "    }\n",
       "\n",
       "    .dataframe tbody tr th {\n",
       "        vertical-align: top;\n",
       "    }\n",
       "\n",
       "    .dataframe thead th {\n",
       "        text-align: right;\n",
       "    }\n",
       "</style>\n",
       "<table border=\"1\" class=\"dataframe\">\n",
       "  <thead>\n",
       "    <tr style=\"text-align: right;\">\n",
       "      <th></th>\n",
       "      <th>country</th>\n",
       "      <th>city</th>\n",
       "      <th>population</th>\n",
       "      <th>area_kv_km</th>\n",
       "      <th>pop_density</th>\n",
       "    </tr>\n",
       "  </thead>\n",
       "  <tbody>\n",
       "    <tr>\n",
       "      <th>0</th>\n",
       "      <td>Исландия</td>\n",
       "      <td>Рейкьявик</td>\n",
       "      <td>45464575475</td>\n",
       "      <td>546.00</td>\n",
       "      <td>32</td>\n",
       "    </tr>\n",
       "    <tr>\n",
       "      <th>1</th>\n",
       "      <td>Норвегия</td>\n",
       "      <td>Осло</td>\n",
       "      <td>436346734646</td>\n",
       "      <td>7,547.00</td>\n",
       "      <td>2433</td>\n",
       "    </tr>\n",
       "    <tr>\n",
       "      <th>2</th>\n",
       "      <td>Швеция</td>\n",
       "      <td>Стокгольм</td>\n",
       "      <td>56876967949</td>\n",
       "      <td>3,243.00</td>\n",
       "      <td>536</td>\n",
       "    </tr>\n",
       "    <tr>\n",
       "      <th>3</th>\n",
       "      <td>Нидерланды</td>\n",
       "      <td>Амстердам</td>\n",
       "      <td>2442142142</td>\n",
       "      <td>878.00</td>\n",
       "      <td>577</td>\n",
       "    </tr>\n",
       "    <tr>\n",
       "      <th>4</th>\n",
       "      <td>Швейцария</td>\n",
       "      <td>Берн</td>\n",
       "      <td>29182174204</td>\n",
       "      <td>432.00</td>\n",
       "      <td>968</td>\n",
       "    </tr>\n",
       "  </tbody>\n",
       "</table>\n",
       "</div>"
      ],
      "text/plain": [
       "      country       city    population  area_kv_km  pop_density\n",
       "0    Исландия  Рейкьявик   45464575475      546.00           32\n",
       "1    Норвегия       Осло  436346734646    7,547.00         2433\n",
       "2      Швеция  Стокгольм   56876967949    3,243.00          536\n",
       "3  Нидерланды  Амстердам    2442142142      878.00          577\n",
       "4   Швейцария       Берн   29182174204      432.00          968"
      ]
     },
     "execution_count": 40,
     "metadata": {},
     "output_type": "execute_result"
    }
   ],
   "source": [
    "# axis = 1 - столбцы\n",
    "# axis = 0 - строки\n",
    "mini_map.drop(labels = 'area_miles', axis = 1, inplace = True)\n",
    "mini_map"
   ]
  },
  {
   "cell_type": "code",
   "execution_count": 41,
   "id": "ac0a64cc-0f59-4daa-a453-f3eb0f770fef",
   "metadata": {},
   "outputs": [
    {
     "data": {
      "text/html": [
       "<div>\n",
       "<style scoped>\n",
       "    .dataframe tbody tr th:only-of-type {\n",
       "        vertical-align: middle;\n",
       "    }\n",
       "\n",
       "    .dataframe tbody tr th {\n",
       "        vertical-align: top;\n",
       "    }\n",
       "\n",
       "    .dataframe thead th {\n",
       "        text-align: right;\n",
       "    }\n",
       "</style>\n",
       "<table border=\"1\" class=\"dataframe\">\n",
       "  <thead>\n",
       "    <tr style=\"text-align: right;\">\n",
       "      <th></th>\n",
       "      <th>country</th>\n",
       "      <th>city</th>\n",
       "      <th>population</th>\n",
       "      <th>area_kv_km</th>\n",
       "      <th>pop_density</th>\n",
       "    </tr>\n",
       "  </thead>\n",
       "  <tbody>\n",
       "    <tr>\n",
       "      <th>2</th>\n",
       "      <td>Швеция</td>\n",
       "      <td>Стокгольм</td>\n",
       "      <td>56876967949</td>\n",
       "      <td>3,243.00</td>\n",
       "      <td>536</td>\n",
       "    </tr>\n",
       "    <tr>\n",
       "      <th>3</th>\n",
       "      <td>Нидерланды</td>\n",
       "      <td>Амстердам</td>\n",
       "      <td>2442142142</td>\n",
       "      <td>878.00</td>\n",
       "      <td>577</td>\n",
       "    </tr>\n",
       "    <tr>\n",
       "      <th>4</th>\n",
       "      <td>Швейцария</td>\n",
       "      <td>Берн</td>\n",
       "      <td>29182174204</td>\n",
       "      <td>432.00</td>\n",
       "      <td>968</td>\n",
       "    </tr>\n",
       "  </tbody>\n",
       "</table>\n",
       "</div>"
      ],
      "text/plain": [
       "      country       city   population  area_kv_km  pop_density\n",
       "2      Швеция  Стокгольм  56876967949    3,243.00          536\n",
       "3  Нидерланды  Амстердам   2442142142      878.00          577\n",
       "4   Швейцария       Берн  29182174204      432.00          968"
      ]
     },
     "execution_count": 41,
     "metadata": {},
     "output_type": "execute_result"
    }
   ],
   "source": [
    "mini_map.drop(labels = [0, 1], axis = 0) "
   ]
  },
  {
   "cell_type": "markdown",
   "id": "d446bf51",
   "metadata": {},
   "source": [
    "# Индексация в DataFrame"
   ]
  },
  {
   "cell_type": "markdown",
   "id": "150a52f3",
   "metadata": {},
   "source": [
    "### 5. Индексация по координатам"
   ]
  },
  {
   "cell_type": "markdown",
   "id": "61b9b471",
   "metadata": {},
   "source": [
    "**Задание.** Выполните поиск данных в датафрейме с помощью индексации по координатам."
   ]
  },
  {
   "cell_type": "markdown",
   "id": "900cbde2",
   "metadata": {},
   "source": [
    "Содержимое ячейки из пятой строки, колонки 'title'. Доступ к индексации открывает атрибут **loc[строка, столбец]**."
   ]
  },
  {
   "cell_type": "code",
   "execution_count": 42,
   "id": "3debee90",
   "metadata": {},
   "outputs": [
    {
     "data": {
      "text/plain": [
       "'Берн'"
      ]
     },
     "execution_count": 42,
     "metadata": {},
     "output_type": "execute_result"
    }
   ],
   "source": [
    "# сначала указывается строка, потом столбец\n",
    "mini_map.loc[4, 'city']"
   ]
  },
  {
   "cell_type": "markdown",
   "id": "440a9d40",
   "metadata": {},
   "source": [
    "Содержимое конкретной строки."
   ]
  },
  {
   "cell_type": "code",
   "execution_count": 43,
   "id": "85faaff7",
   "metadata": {},
   "outputs": [
    {
     "data": {
      "text/plain": [
       "country          Швейцария\n",
       "city                  Берн\n",
       "population     29182174204\n",
       "area_kv_km          432.00\n",
       "pop_density            968\n",
       "Name: 4, dtype: object"
      ]
     },
     "execution_count": 43,
     "metadata": {},
     "output_type": "execute_result"
    }
   ],
   "source": [
    "mini_map.loc[4]"
   ]
  },
  {
   "cell_type": "code",
   "execution_count": 44,
   "id": "c9f481aa",
   "metadata": {},
   "outputs": [
    {
     "data": {
      "text/html": [
       "<div>\n",
       "<style scoped>\n",
       "    .dataframe tbody tr th:only-of-type {\n",
       "        vertical-align: middle;\n",
       "    }\n",
       "\n",
       "    .dataframe tbody tr th {\n",
       "        vertical-align: top;\n",
       "    }\n",
       "\n",
       "    .dataframe thead th {\n",
       "        text-align: right;\n",
       "    }\n",
       "</style>\n",
       "<table border=\"1\" class=\"dataframe\">\n",
       "  <thead>\n",
       "    <tr style=\"text-align: right;\">\n",
       "      <th></th>\n",
       "      <th>country</th>\n",
       "      <th>city</th>\n",
       "      <th>population</th>\n",
       "      <th>area_kv_km</th>\n",
       "      <th>pop_density</th>\n",
       "    </tr>\n",
       "  </thead>\n",
       "  <tbody>\n",
       "    <tr>\n",
       "      <th>2</th>\n",
       "      <td>Швеция</td>\n",
       "      <td>Стокгольм</td>\n",
       "      <td>56876967949</td>\n",
       "      <td>3,243.00</td>\n",
       "      <td>536</td>\n",
       "    </tr>\n",
       "    <tr>\n",
       "      <th>3</th>\n",
       "      <td>Нидерланды</td>\n",
       "      <td>Амстердам</td>\n",
       "      <td>2442142142</td>\n",
       "      <td>878.00</td>\n",
       "      <td>577</td>\n",
       "    </tr>\n",
       "  </tbody>\n",
       "</table>\n",
       "</div>"
      ],
      "text/plain": [
       "      country       city   population  area_kv_km  pop_density\n",
       "2      Швеция  Стокгольм  56876967949    3,243.00          536\n",
       "3  Нидерланды  Амстердам   2442142142      878.00          577"
      ]
     },
     "execution_count": 44,
     "metadata": {},
     "output_type": "execute_result"
    }
   ],
   "source": [
    "mini_map.loc[2:3]"
   ]
  },
  {
   "cell_type": "markdown",
   "id": "92e58d26",
   "metadata": {},
   "source": [
    "Содержимое нескольких строк внутри датафрейма (**среза строк**)."
   ]
  },
  {
   "cell_type": "code",
   "execution_count": 45,
   "id": "d5d80f5e",
   "metadata": {},
   "outputs": [
    {
     "data": {
      "text/html": [
       "<div>\n",
       "<style scoped>\n",
       "    .dataframe tbody tr th:only-of-type {\n",
       "        vertical-align: middle;\n",
       "    }\n",
       "\n",
       "    .dataframe tbody tr th {\n",
       "        vertical-align: top;\n",
       "    }\n",
       "\n",
       "    .dataframe thead th {\n",
       "        text-align: right;\n",
       "    }\n",
       "</style>\n",
       "<table border=\"1\" class=\"dataframe\">\n",
       "  <thead>\n",
       "    <tr style=\"text-align: right;\">\n",
       "      <th></th>\n",
       "      <th>country</th>\n",
       "      <th>city</th>\n",
       "      <th>population</th>\n",
       "      <th>area_kv_km</th>\n",
       "      <th>pop_density</th>\n",
       "    </tr>\n",
       "  </thead>\n",
       "  <tbody>\n",
       "    <tr>\n",
       "      <th>0</th>\n",
       "      <td>Исландия</td>\n",
       "      <td>Рейкьявик</td>\n",
       "      <td>45464575475</td>\n",
       "      <td>546.00</td>\n",
       "      <td>32</td>\n",
       "    </tr>\n",
       "    <tr>\n",
       "      <th>1</th>\n",
       "      <td>Норвегия</td>\n",
       "      <td>Осло</td>\n",
       "      <td>436346734646</td>\n",
       "      <td>7,547.00</td>\n",
       "      <td>2433</td>\n",
       "    </tr>\n",
       "    <tr>\n",
       "      <th>2</th>\n",
       "      <td>Швеция</td>\n",
       "      <td>Стокгольм</td>\n",
       "      <td>56876967949</td>\n",
       "      <td>3,243.00</td>\n",
       "      <td>536</td>\n",
       "    </tr>\n",
       "    <tr>\n",
       "      <th>3</th>\n",
       "      <td>Нидерланды</td>\n",
       "      <td>Амстердам</td>\n",
       "      <td>2442142142</td>\n",
       "      <td>878.00</td>\n",
       "      <td>577</td>\n",
       "    </tr>\n",
       "    <tr>\n",
       "      <th>4</th>\n",
       "      <td>Швейцария</td>\n",
       "      <td>Берн</td>\n",
       "      <td>29182174204</td>\n",
       "      <td>432.00</td>\n",
       "      <td>968</td>\n",
       "    </tr>\n",
       "  </tbody>\n",
       "</table>\n",
       "</div>"
      ],
      "text/plain": [
       "      country       city    population  area_kv_km  pop_density\n",
       "0    Исландия  Рейкьявик   45464575475      546.00           32\n",
       "1    Норвегия       Осло  436346734646    7,547.00         2433\n",
       "2      Швеция  Стокгольм   56876967949    3,243.00          536\n",
       "3  Нидерланды  Амстердам    2442142142      878.00          577\n",
       "4   Швейцария       Берн   29182174204      432.00          968"
      ]
     },
     "execution_count": 45,
     "metadata": {},
     "output_type": "execute_result"
    }
   ],
   "source": [
    "mini_map"
   ]
  },
  {
   "cell_type": "markdown",
   "id": "524d570c",
   "metadata": {},
   "source": [
    "Содержимое последних трех строк."
   ]
  },
  {
   "cell_type": "code",
   "execution_count": 46,
   "id": "c5740c78",
   "metadata": {},
   "outputs": [
    {
     "data": {
      "text/html": [
       "<div>\n",
       "<style scoped>\n",
       "    .dataframe tbody tr th:only-of-type {\n",
       "        vertical-align: middle;\n",
       "    }\n",
       "\n",
       "    .dataframe tbody tr th {\n",
       "        vertical-align: top;\n",
       "    }\n",
       "\n",
       "    .dataframe thead th {\n",
       "        text-align: right;\n",
       "    }\n",
       "</style>\n",
       "<table border=\"1\" class=\"dataframe\">\n",
       "  <thead>\n",
       "    <tr style=\"text-align: right;\">\n",
       "      <th></th>\n",
       "      <th>country</th>\n",
       "      <th>city</th>\n",
       "      <th>population</th>\n",
       "      <th>area_kv_km</th>\n",
       "      <th>pop_density</th>\n",
       "    </tr>\n",
       "  </thead>\n",
       "  <tbody>\n",
       "    <tr>\n",
       "      <th>0</th>\n",
       "      <td>Исландия</td>\n",
       "      <td>Рейкьявик</td>\n",
       "      <td>45464575475</td>\n",
       "      <td>546.00</td>\n",
       "      <td>32</td>\n",
       "    </tr>\n",
       "    <tr>\n",
       "      <th>1</th>\n",
       "      <td>Норвегия</td>\n",
       "      <td>Осло</td>\n",
       "      <td>436346734646</td>\n",
       "      <td>7,547.00</td>\n",
       "      <td>2433</td>\n",
       "    </tr>\n",
       "  </tbody>\n",
       "</table>\n",
       "</div>"
      ],
      "text/plain": [
       "    country       city    population  area_kv_km  pop_density\n",
       "0  Исландия  Рейкьявик   45464575475      546.00           32\n",
       "1  Норвегия       Осло  436346734646    7,547.00         2433"
      ]
     },
     "execution_count": 46,
     "metadata": {},
     "output_type": "execute_result"
    }
   ],
   "source": [
    "mini_map.loc[:1]"
   ]
  },
  {
   "cell_type": "markdown",
   "id": "f14a6593",
   "metadata": {},
   "source": [
    "**Что не так с данными? Верно ли получен результат?**"
   ]
  },
  {
   "cell_type": "code",
   "execution_count": null,
   "id": "95ded647",
   "metadata": {},
   "outputs": [],
   "source": []
  },
  {
   "cell_type": "markdown",
   "id": "0a0421ac",
   "metadata": {},
   "source": [
    "Содержимое нескольких строк внутри датафрейма и конкретного столбца."
   ]
  },
  {
   "cell_type": "code",
   "execution_count": 47,
   "id": "9b53d46e",
   "metadata": {},
   "outputs": [
    {
     "data": {
      "text/plain": [
       "1         Осло\n",
       "2    Стокгольм\n",
       "3    Амстердам\n",
       "4         Берн\n",
       "Name: city, dtype: object"
      ]
     },
     "execution_count": 47,
     "metadata": {},
     "output_type": "execute_result"
    }
   ],
   "source": [
    "mini_map.loc[1:4, 'city']"
   ]
  },
  {
   "cell_type": "markdown",
   "id": "777377fc",
   "metadata": {},
   "source": [
    "Содержимое конкретного столбца."
   ]
  },
  {
   "cell_type": "code",
   "execution_count": 48,
   "id": "99882640",
   "metadata": {},
   "outputs": [
    {
     "data": {
      "text/plain": [
       "0    Рейкьявик\n",
       "1         Осло\n",
       "2    Стокгольм\n",
       "3    Амстердам\n",
       "4         Берн\n",
       "Name: city, dtype: object"
      ]
     },
     "execution_count": 48,
     "metadata": {},
     "output_type": "execute_result"
    }
   ],
   "source": [
    "mini_map.loc[:, 'city']"
   ]
  },
  {
   "cell_type": "markdown",
   "id": "e5efee1a",
   "metadata": {},
   "source": [
    "Содержимое конкретных столбцов."
   ]
  },
  {
   "cell_type": "code",
   "execution_count": 49,
   "id": "583ad0ce",
   "metadata": {},
   "outputs": [
    {
     "data": {
      "text/html": [
       "<div>\n",
       "<style scoped>\n",
       "    .dataframe tbody tr th:only-of-type {\n",
       "        vertical-align: middle;\n",
       "    }\n",
       "\n",
       "    .dataframe tbody tr th {\n",
       "        vertical-align: top;\n",
       "    }\n",
       "\n",
       "    .dataframe thead th {\n",
       "        text-align: right;\n",
       "    }\n",
       "</style>\n",
       "<table border=\"1\" class=\"dataframe\">\n",
       "  <thead>\n",
       "    <tr style=\"text-align: right;\">\n",
       "      <th></th>\n",
       "      <th>city</th>\n",
       "    </tr>\n",
       "  </thead>\n",
       "  <tbody>\n",
       "    <tr>\n",
       "      <th>0</th>\n",
       "      <td>Рейкьявик</td>\n",
       "    </tr>\n",
       "    <tr>\n",
       "      <th>1</th>\n",
       "      <td>Осло</td>\n",
       "    </tr>\n",
       "    <tr>\n",
       "      <th>2</th>\n",
       "      <td>Стокгольм</td>\n",
       "    </tr>\n",
       "    <tr>\n",
       "      <th>3</th>\n",
       "      <td>Амстердам</td>\n",
       "    </tr>\n",
       "    <tr>\n",
       "      <th>4</th>\n",
       "      <td>Берн</td>\n",
       "    </tr>\n",
       "  </tbody>\n",
       "</table>\n",
       "</div>"
      ],
      "text/plain": [
       "        city\n",
       "0  Рейкьявик\n",
       "1       Осло\n",
       "2  Стокгольм\n",
       "3  Амстердам\n",
       "4       Берн"
      ]
     },
     "execution_count": 49,
     "metadata": {},
     "output_type": "execute_result"
    }
   ],
   "source": [
    "mini_map.loc[:, ['city']]"
   ]
  },
  {
   "cell_type": "markdown",
   "id": "6b760b03",
   "metadata": {},
   "source": [
    "Содержимое среза нескольких столбцов."
   ]
  },
  {
   "cell_type": "code",
   "execution_count": 50,
   "id": "23550cb0",
   "metadata": {},
   "outputs": [
    {
     "data": {
      "text/html": [
       "<div>\n",
       "<style scoped>\n",
       "    .dataframe tbody tr th:only-of-type {\n",
       "        vertical-align: middle;\n",
       "    }\n",
       "\n",
       "    .dataframe tbody tr th {\n",
       "        vertical-align: top;\n",
       "    }\n",
       "\n",
       "    .dataframe thead th {\n",
       "        text-align: right;\n",
       "    }\n",
       "</style>\n",
       "<table border=\"1\" class=\"dataframe\">\n",
       "  <thead>\n",
       "    <tr style=\"text-align: right;\">\n",
       "      <th></th>\n",
       "      <th>city</th>\n",
       "      <th>population</th>\n",
       "      <th>area_kv_km</th>\n",
       "    </tr>\n",
       "  </thead>\n",
       "  <tbody>\n",
       "    <tr>\n",
       "      <th>0</th>\n",
       "      <td>Рейкьявик</td>\n",
       "      <td>45464575475</td>\n",
       "      <td>546.00</td>\n",
       "    </tr>\n",
       "    <tr>\n",
       "      <th>1</th>\n",
       "      <td>Осло</td>\n",
       "      <td>436346734646</td>\n",
       "      <td>7,547.00</td>\n",
       "    </tr>\n",
       "    <tr>\n",
       "      <th>2</th>\n",
       "      <td>Стокгольм</td>\n",
       "      <td>56876967949</td>\n",
       "      <td>3,243.00</td>\n",
       "    </tr>\n",
       "    <tr>\n",
       "      <th>3</th>\n",
       "      <td>Амстердам</td>\n",
       "      <td>2442142142</td>\n",
       "      <td>878.00</td>\n",
       "    </tr>\n",
       "    <tr>\n",
       "      <th>4</th>\n",
       "      <td>Берн</td>\n",
       "      <td>29182174204</td>\n",
       "      <td>432.00</td>\n",
       "    </tr>\n",
       "  </tbody>\n",
       "</table>\n",
       "</div>"
      ],
      "text/plain": [
       "        city    population  area_kv_km\n",
       "0  Рейкьявик   45464575475      546.00\n",
       "1       Осло  436346734646    7,547.00\n",
       "2  Стокгольм   56876967949    3,243.00\n",
       "3  Амстердам    2442142142      878.00\n",
       "4       Берн   29182174204      432.00"
      ]
     },
     "execution_count": 50,
     "metadata": {},
     "output_type": "execute_result"
    }
   ],
   "source": [
    "mini_map.loc[:, 'city':'area_kv_km'] "
   ]
  },
  {
   "cell_type": "markdown",
   "id": "d8cd9ad2",
   "metadata": {},
   "source": [
    "**Примеры индексации**\n",
    "\n",
    "| Данные                            | Индексация                     |\n",
    "|-----------------------------------|--------------------------------|\n",
    "| Одна ячейка                       | .loc[7, 'genre']               |\n",
    "| Один столбец                      | .loc[:, 'genre']               |\n",
    "| Несколько столбцов                | .loc[:, ['genre', 'artist']]   |\n",
    "| Несколько столбцов подряд (срез)  | .loc[:, 'total play': 'genre'] |\n",
    "| Одна строка                       | .loc[1]                        |\n",
    "| Все строки, начиная с заданной    | .loc[1:]                       |\n",
    "| Все строки до заданной            | .loc[:3]                       |\n",
    "| Несколько строк подряд (срез)     | .loc[2:5]                      |"
   ]
  },
  {
   "cell_type": "markdown",
   "id": "b3e910ff",
   "metadata": {},
   "source": [
    "# Задание\n",
    "Используйте все представленные в таблице варианты индексации и выведите результаты срезов (*используйте собственные примеры*)."
   ]
  },
  {
   "cell_type": "code",
   "execution_count": 51,
   "id": "246dfdbc-ad66-4540-8113-54de2e1e3357",
   "metadata": {},
   "outputs": [
    {
     "data": {
      "text/html": [
       "<div>\n",
       "<style scoped>\n",
       "    .dataframe tbody tr th:only-of-type {\n",
       "        vertical-align: middle;\n",
       "    }\n",
       "\n",
       "    .dataframe tbody tr th {\n",
       "        vertical-align: top;\n",
       "    }\n",
       "\n",
       "    .dataframe thead th {\n",
       "        text-align: right;\n",
       "    }\n",
       "</style>\n",
       "<table border=\"1\" class=\"dataframe\">\n",
       "  <thead>\n",
       "    <tr style=\"text-align: right;\">\n",
       "      <th></th>\n",
       "      <th>country</th>\n",
       "      <th>city</th>\n",
       "      <th>population</th>\n",
       "      <th>area_kv_km</th>\n",
       "      <th>pop_density</th>\n",
       "    </tr>\n",
       "  </thead>\n",
       "  <tbody>\n",
       "    <tr>\n",
       "      <th>0</th>\n",
       "      <td>Исландия</td>\n",
       "      <td>Рейкьявик</td>\n",
       "      <td>45464575475</td>\n",
       "      <td>546.00</td>\n",
       "      <td>32</td>\n",
       "    </tr>\n",
       "    <tr>\n",
       "      <th>1</th>\n",
       "      <td>Норвегия</td>\n",
       "      <td>Осло</td>\n",
       "      <td>436346734646</td>\n",
       "      <td>7,547.00</td>\n",
       "      <td>2433</td>\n",
       "    </tr>\n",
       "    <tr>\n",
       "      <th>2</th>\n",
       "      <td>Швеция</td>\n",
       "      <td>Стокгольм</td>\n",
       "      <td>56876967949</td>\n",
       "      <td>3,243.00</td>\n",
       "      <td>536</td>\n",
       "    </tr>\n",
       "    <tr>\n",
       "      <th>3</th>\n",
       "      <td>Нидерланды</td>\n",
       "      <td>Амстердам</td>\n",
       "      <td>2442142142</td>\n",
       "      <td>878.00</td>\n",
       "      <td>577</td>\n",
       "    </tr>\n",
       "    <tr>\n",
       "      <th>4</th>\n",
       "      <td>Швейцария</td>\n",
       "      <td>Берн</td>\n",
       "      <td>29182174204</td>\n",
       "      <td>432.00</td>\n",
       "      <td>968</td>\n",
       "    </tr>\n",
       "  </tbody>\n",
       "</table>\n",
       "</div>"
      ],
      "text/plain": [
       "      country       city    population  area_kv_km  pop_density\n",
       "0    Исландия  Рейкьявик   45464575475      546.00           32\n",
       "1    Норвегия       Осло  436346734646    7,547.00         2433\n",
       "2      Швеция  Стокгольм   56876967949    3,243.00          536\n",
       "3  Нидерланды  Амстердам    2442142142      878.00          577\n",
       "4   Швейцария       Берн   29182174204      432.00          968"
      ]
     },
     "execution_count": 51,
     "metadata": {},
     "output_type": "execute_result"
    }
   ],
   "source": [
    "mini_map"
   ]
  },
  {
   "cell_type": "code",
   "execution_count": 52,
   "id": "9a8d05ea",
   "metadata": {},
   "outputs": [
    {
     "data": {
      "text/plain": [
       "'Стокгольм'"
      ]
     },
     "execution_count": 52,
     "metadata": {},
     "output_type": "execute_result"
    }
   ],
   "source": [
    "# получение одной ячейки\n",
    "\n",
    "mini_map.loc[2, 'city']"
   ]
  },
  {
   "cell_type": "code",
   "execution_count": 53,
   "id": "ba4e9a17",
   "metadata": {},
   "outputs": [
    {
     "data": {
      "text/plain": [
       "0    Рейкьявик\n",
       "1         Осло\n",
       "2    Стокгольм\n",
       "3    Амстердам\n",
       "4         Берн\n",
       "Name: city, dtype: object"
      ]
     },
     "execution_count": 53,
     "metadata": {},
     "output_type": "execute_result"
    }
   ],
   "source": [
    "# срез столбца\n",
    "mini_map.loc[:, 'city']"
   ]
  },
  {
   "cell_type": "code",
   "execution_count": 54,
   "id": "fb00c84c",
   "metadata": {},
   "outputs": [
    {
     "data": {
      "text/html": [
       "<div>\n",
       "<style scoped>\n",
       "    .dataframe tbody tr th:only-of-type {\n",
       "        vertical-align: middle;\n",
       "    }\n",
       "\n",
       "    .dataframe tbody tr th {\n",
       "        vertical-align: top;\n",
       "    }\n",
       "\n",
       "    .dataframe thead th {\n",
       "        text-align: right;\n",
       "    }\n",
       "</style>\n",
       "<table border=\"1\" class=\"dataframe\">\n",
       "  <thead>\n",
       "    <tr style=\"text-align: right;\">\n",
       "      <th></th>\n",
       "      <th>country</th>\n",
       "      <th>area_kv_km</th>\n",
       "    </tr>\n",
       "  </thead>\n",
       "  <tbody>\n",
       "    <tr>\n",
       "      <th>0</th>\n",
       "      <td>Исландия</td>\n",
       "      <td>546.00</td>\n",
       "    </tr>\n",
       "    <tr>\n",
       "      <th>1</th>\n",
       "      <td>Норвегия</td>\n",
       "      <td>7,547.00</td>\n",
       "    </tr>\n",
       "    <tr>\n",
       "      <th>2</th>\n",
       "      <td>Швеция</td>\n",
       "      <td>3,243.00</td>\n",
       "    </tr>\n",
       "    <tr>\n",
       "      <th>3</th>\n",
       "      <td>Нидерланды</td>\n",
       "      <td>878.00</td>\n",
       "    </tr>\n",
       "    <tr>\n",
       "      <th>4</th>\n",
       "      <td>Швейцария</td>\n",
       "      <td>432.00</td>\n",
       "    </tr>\n",
       "  </tbody>\n",
       "</table>\n",
       "</div>"
      ],
      "text/plain": [
       "      country  area_kv_km\n",
       "0    Исландия      546.00\n",
       "1    Норвегия    7,547.00\n",
       "2      Швеция    3,243.00\n",
       "3  Нидерланды      878.00\n",
       "4   Швейцария      432.00"
      ]
     },
     "execution_count": 54,
     "metadata": {},
     "output_type": "execute_result"
    }
   ],
   "source": [
    "# срез нескольких столбцов по их названиям\n",
    "mini_map.loc[:,['country', 'area_kv_km']]"
   ]
  },
  {
   "cell_type": "code",
   "execution_count": 55,
   "id": "1ca0da73",
   "metadata": {},
   "outputs": [
    {
     "data": {
      "text/html": [
       "<div>\n",
       "<style scoped>\n",
       "    .dataframe tbody tr th:only-of-type {\n",
       "        vertical-align: middle;\n",
       "    }\n",
       "\n",
       "    .dataframe tbody tr th {\n",
       "        vertical-align: top;\n",
       "    }\n",
       "\n",
       "    .dataframe thead th {\n",
       "        text-align: right;\n",
       "    }\n",
       "</style>\n",
       "<table border=\"1\" class=\"dataframe\">\n",
       "  <thead>\n",
       "    <tr style=\"text-align: right;\">\n",
       "      <th></th>\n",
       "      <th>population</th>\n",
       "      <th>area_kv_km</th>\n",
       "      <th>pop_density</th>\n",
       "    </tr>\n",
       "  </thead>\n",
       "  <tbody>\n",
       "    <tr>\n",
       "      <th>0</th>\n",
       "      <td>45464575475</td>\n",
       "      <td>546.00</td>\n",
       "      <td>32</td>\n",
       "    </tr>\n",
       "    <tr>\n",
       "      <th>1</th>\n",
       "      <td>436346734646</td>\n",
       "      <td>7,547.00</td>\n",
       "      <td>2433</td>\n",
       "    </tr>\n",
       "    <tr>\n",
       "      <th>2</th>\n",
       "      <td>56876967949</td>\n",
       "      <td>3,243.00</td>\n",
       "      <td>536</td>\n",
       "    </tr>\n",
       "    <tr>\n",
       "      <th>3</th>\n",
       "      <td>2442142142</td>\n",
       "      <td>878.00</td>\n",
       "      <td>577</td>\n",
       "    </tr>\n",
       "    <tr>\n",
       "      <th>4</th>\n",
       "      <td>29182174204</td>\n",
       "      <td>432.00</td>\n",
       "      <td>968</td>\n",
       "    </tr>\n",
       "  </tbody>\n",
       "</table>\n",
       "</div>"
      ],
      "text/plain": [
       "     population  area_kv_km  pop_density\n",
       "0   45464575475      546.00           32\n",
       "1  436346734646    7,547.00         2433\n",
       "2   56876967949    3,243.00          536\n",
       "3    2442142142      878.00          577\n",
       "4   29182174204      432.00          968"
      ]
     },
     "execution_count": 55,
     "metadata": {},
     "output_type": "execute_result"
    }
   ],
   "source": [
    "# срез нескольких столбцов от одного до другого\n",
    "mini_map.loc[:, 'population' : 'pop_density']"
   ]
  },
  {
   "cell_type": "code",
   "execution_count": 56,
   "id": "c003ec41",
   "metadata": {},
   "outputs": [
    {
     "data": {
      "text/plain": [
       "country        Нидерланды\n",
       "city            Амстердам\n",
       "population     2442142142\n",
       "area_kv_km         878.00\n",
       "pop_density           577\n",
       "Name: 3, dtype: object"
      ]
     },
     "execution_count": 56,
     "metadata": {},
     "output_type": "execute_result"
    }
   ],
   "source": [
    "# одна строка\n",
    "mini_map.loc[3]"
   ]
  },
  {
   "cell_type": "code",
   "execution_count": 57,
   "id": "b5b7cc8c",
   "metadata": {},
   "outputs": [
    {
     "data": {
      "text/html": [
       "<div>\n",
       "<style scoped>\n",
       "    .dataframe tbody tr th:only-of-type {\n",
       "        vertical-align: middle;\n",
       "    }\n",
       "\n",
       "    .dataframe tbody tr th {\n",
       "        vertical-align: top;\n",
       "    }\n",
       "\n",
       "    .dataframe thead th {\n",
       "        text-align: right;\n",
       "    }\n",
       "</style>\n",
       "<table border=\"1\" class=\"dataframe\">\n",
       "  <thead>\n",
       "    <tr style=\"text-align: right;\">\n",
       "      <th></th>\n",
       "      <th>country</th>\n",
       "      <th>city</th>\n",
       "      <th>population</th>\n",
       "      <th>area_kv_km</th>\n",
       "      <th>pop_density</th>\n",
       "    </tr>\n",
       "  </thead>\n",
       "  <tbody>\n",
       "    <tr>\n",
       "      <th>3</th>\n",
       "      <td>Нидерланды</td>\n",
       "      <td>Амстердам</td>\n",
       "      <td>2442142142</td>\n",
       "      <td>878.00</td>\n",
       "      <td>577</td>\n",
       "    </tr>\n",
       "    <tr>\n",
       "      <th>4</th>\n",
       "      <td>Швейцария</td>\n",
       "      <td>Берн</td>\n",
       "      <td>29182174204</td>\n",
       "      <td>432.00</td>\n",
       "      <td>968</td>\n",
       "    </tr>\n",
       "  </tbody>\n",
       "</table>\n",
       "</div>"
      ],
      "text/plain": [
       "      country       city   population  area_kv_km  pop_density\n",
       "3  Нидерланды  Амстердам   2442142142      878.00          577\n",
       "4   Швейцария       Берн  29182174204      432.00          968"
      ]
     },
     "execution_count": 57,
     "metadata": {},
     "output_type": "execute_result"
    }
   ],
   "source": [
    "# срез всех строк, начиная с заданной\n",
    "mini_map.loc[3:]"
   ]
  },
  {
   "cell_type": "code",
   "execution_count": 58,
   "id": "b8efec35",
   "metadata": {},
   "outputs": [
    {
     "data": {
      "text/html": [
       "<div>\n",
       "<style scoped>\n",
       "    .dataframe tbody tr th:only-of-type {\n",
       "        vertical-align: middle;\n",
       "    }\n",
       "\n",
       "    .dataframe tbody tr th {\n",
       "        vertical-align: top;\n",
       "    }\n",
       "\n",
       "    .dataframe thead th {\n",
       "        text-align: right;\n",
       "    }\n",
       "</style>\n",
       "<table border=\"1\" class=\"dataframe\">\n",
       "  <thead>\n",
       "    <tr style=\"text-align: right;\">\n",
       "      <th></th>\n",
       "      <th>country</th>\n",
       "      <th>city</th>\n",
       "      <th>population</th>\n",
       "      <th>area_kv_km</th>\n",
       "      <th>pop_density</th>\n",
       "    </tr>\n",
       "  </thead>\n",
       "  <tbody>\n",
       "    <tr>\n",
       "      <th>0</th>\n",
       "      <td>Исландия</td>\n",
       "      <td>Рейкьявик</td>\n",
       "      <td>45464575475</td>\n",
       "      <td>546.00</td>\n",
       "      <td>32</td>\n",
       "    </tr>\n",
       "    <tr>\n",
       "      <th>1</th>\n",
       "      <td>Норвегия</td>\n",
       "      <td>Осло</td>\n",
       "      <td>436346734646</td>\n",
       "      <td>7,547.00</td>\n",
       "      <td>2433</td>\n",
       "    </tr>\n",
       "    <tr>\n",
       "      <th>2</th>\n",
       "      <td>Швеция</td>\n",
       "      <td>Стокгольм</td>\n",
       "      <td>56876967949</td>\n",
       "      <td>3,243.00</td>\n",
       "      <td>536</td>\n",
       "    </tr>\n",
       "    <tr>\n",
       "      <th>3</th>\n",
       "      <td>Нидерланды</td>\n",
       "      <td>Амстердам</td>\n",
       "      <td>2442142142</td>\n",
       "      <td>878.00</td>\n",
       "      <td>577</td>\n",
       "    </tr>\n",
       "  </tbody>\n",
       "</table>\n",
       "</div>"
      ],
      "text/plain": [
       "      country       city    population  area_kv_km  pop_density\n",
       "0    Исландия  Рейкьявик   45464575475      546.00           32\n",
       "1    Норвегия       Осло  436346734646    7,547.00         2433\n",
       "2      Швеция  Стокгольм   56876967949    3,243.00          536\n",
       "3  Нидерланды  Амстердам    2442142142      878.00          577"
      ]
     },
     "execution_count": 58,
     "metadata": {},
     "output_type": "execute_result"
    }
   ],
   "source": [
    "# срез всех строк до заданной\n",
    "mini_map.loc[:3]"
   ]
  },
  {
   "cell_type": "code",
   "execution_count": 59,
   "id": "e8eef824",
   "metadata": {},
   "outputs": [
    {
     "data": {
      "text/html": [
       "<div>\n",
       "<style scoped>\n",
       "    .dataframe tbody tr th:only-of-type {\n",
       "        vertical-align: middle;\n",
       "    }\n",
       "\n",
       "    .dataframe tbody tr th {\n",
       "        vertical-align: top;\n",
       "    }\n",
       "\n",
       "    .dataframe thead th {\n",
       "        text-align: right;\n",
       "    }\n",
       "</style>\n",
       "<table border=\"1\" class=\"dataframe\">\n",
       "  <thead>\n",
       "    <tr style=\"text-align: right;\">\n",
       "      <th></th>\n",
       "      <th>country</th>\n",
       "      <th>city</th>\n",
       "      <th>population</th>\n",
       "      <th>area_kv_km</th>\n",
       "      <th>pop_density</th>\n",
       "    </tr>\n",
       "  </thead>\n",
       "  <tbody>\n",
       "    <tr>\n",
       "      <th>0</th>\n",
       "      <td>Исландия</td>\n",
       "      <td>Рейкьявик</td>\n",
       "      <td>45464575475</td>\n",
       "      <td>546.00</td>\n",
       "      <td>32</td>\n",
       "    </tr>\n",
       "    <tr>\n",
       "      <th>1</th>\n",
       "      <td>Норвегия</td>\n",
       "      <td>Осло</td>\n",
       "      <td>436346734646</td>\n",
       "      <td>7,547.00</td>\n",
       "      <td>2433</td>\n",
       "    </tr>\n",
       "    <tr>\n",
       "      <th>2</th>\n",
       "      <td>Швеция</td>\n",
       "      <td>Стокгольм</td>\n",
       "      <td>56876967949</td>\n",
       "      <td>3,243.00</td>\n",
       "      <td>536</td>\n",
       "    </tr>\n",
       "    <tr>\n",
       "      <th>3</th>\n",
       "      <td>Нидерланды</td>\n",
       "      <td>Амстердам</td>\n",
       "      <td>2442142142</td>\n",
       "      <td>878.00</td>\n",
       "      <td>577</td>\n",
       "    </tr>\n",
       "  </tbody>\n",
       "</table>\n",
       "</div>"
      ],
      "text/plain": [
       "      country       city    population  area_kv_km  pop_density\n",
       "0    Исландия  Рейкьявик   45464575475      546.00           32\n",
       "1    Норвегия       Осло  436346734646    7,547.00         2433\n",
       "2      Швеция  Стокгольм   56876967949    3,243.00          536\n",
       "3  Нидерланды  Амстердам    2442142142      878.00          577"
      ]
     },
     "execution_count": 59,
     "metadata": {},
     "output_type": "execute_result"
    }
   ],
   "source": [
    "# срез нескольких строк подряд\n",
    "mini_map.loc[0:3]"
   ]
  },
  {
   "cell_type": "markdown",
   "id": "201a4f9f",
   "metadata": {},
   "source": [
    "**Срезы по номерам строк и списки столбцов можно сочетать**\n",
    "\n",
    "| Данные                                                          | Индексация                          |\n",
    "|-----------------------------------------------------------------|-------------------------------------|\n",
    "| Срез строк в заданном диапазоне и выбор определённого столбца   | .loc[2:10, 'genre']                 |\n",
    "| Срез нескольких столбцов подряд и выбор определённой строки     | .loc[5, 'total play': 'genre']      |\n",
    "| Выбор заданных столбцов и определённой строки                   | .loc[10, ['total play', 'artist']]  |\n",
    "| Выбор заданных столбцов и срез нескольких строк подряд          | .loc[7:10, ['total play', 'genre']] |"
   ]
  },
  {
   "cell_type": "markdown",
   "id": "bde3065e",
   "metadata": {},
   "source": [
    "# Задание\n",
    "Используйте все представленные в таблице варианты индексации и выведите результаты срезов (*используйте собственные примеры*)."
   ]
  },
  {
   "cell_type": "code",
   "execution_count": 60,
   "id": "b79066cd",
   "metadata": {},
   "outputs": [
    {
     "data": {
      "text/plain": [
       "0      Исландия\n",
       "1      Норвегия\n",
       "2        Швеция\n",
       "3    Нидерланды\n",
       "4     Швейцария\n",
       "Name: country, dtype: object"
      ]
     },
     "execution_count": 60,
     "metadata": {},
     "output_type": "execute_result"
    }
   ],
   "source": [
    "#срез строк в заданном диапазоне и выбор определённого столбца\n",
    "mini_map.loc[0:4, 'country']"
   ]
  },
  {
   "cell_type": "code",
   "execution_count": 61,
   "id": "35fb953f-74cd-4b63-8b23-4ca2d8e07e6c",
   "metadata": {},
   "outputs": [
    {
     "data": {
      "text/plain": [
       "country       Швеция\n",
       "city       Стокгольм\n",
       "Name: 2, dtype: object"
      ]
     },
     "execution_count": 61,
     "metadata": {},
     "output_type": "execute_result"
    }
   ],
   "source": [
    "#срез нескольких столбцов подряд и выбор определённой строки\n",
    "mini_map.loc[2, 'country': 'city']"
   ]
  },
  {
   "cell_type": "code",
   "execution_count": 62,
   "id": "58707050",
   "metadata": {},
   "outputs": [
    {
     "data": {
      "text/plain": [
       "country         Швейцария\n",
       "population    29182174204\n",
       "Name: 4, dtype: object"
      ]
     },
     "execution_count": 62,
     "metadata": {},
     "output_type": "execute_result"
    }
   ],
   "source": [
    "#выбор заданных столбцов и определённой строки\n",
    "mini_map.loc[4, ['country','population']]"
   ]
  },
  {
   "cell_type": "code",
   "execution_count": 63,
   "id": "b13901a1",
   "metadata": {},
   "outputs": [
    {
     "data": {
      "text/html": [
       "<div>\n",
       "<style scoped>\n",
       "    .dataframe tbody tr th:only-of-type {\n",
       "        vertical-align: middle;\n",
       "    }\n",
       "\n",
       "    .dataframe tbody tr th {\n",
       "        vertical-align: top;\n",
       "    }\n",
       "\n",
       "    .dataframe thead th {\n",
       "        text-align: right;\n",
       "    }\n",
       "</style>\n",
       "<table border=\"1\" class=\"dataframe\">\n",
       "  <thead>\n",
       "    <tr style=\"text-align: right;\">\n",
       "      <th></th>\n",
       "      <th>country</th>\n",
       "      <th>area_kv_km</th>\n",
       "    </tr>\n",
       "  </thead>\n",
       "  <tbody>\n",
       "    <tr>\n",
       "      <th>0</th>\n",
       "      <td>Исландия</td>\n",
       "      <td>546.00</td>\n",
       "    </tr>\n",
       "    <tr>\n",
       "      <th>1</th>\n",
       "      <td>Норвегия</td>\n",
       "      <td>7,547.00</td>\n",
       "    </tr>\n",
       "    <tr>\n",
       "      <th>2</th>\n",
       "      <td>Швеция</td>\n",
       "      <td>3,243.00</td>\n",
       "    </tr>\n",
       "    <tr>\n",
       "      <th>3</th>\n",
       "      <td>Нидерланды</td>\n",
       "      <td>878.00</td>\n",
       "    </tr>\n",
       "  </tbody>\n",
       "</table>\n",
       "</div>"
      ],
      "text/plain": [
       "      country  area_kv_km\n",
       "0    Исландия      546.00\n",
       "1    Норвегия    7,547.00\n",
       "2      Швеция    3,243.00\n",
       "3  Нидерланды      878.00"
      ]
     },
     "execution_count": 63,
     "metadata": {},
     "output_type": "execute_result"
    }
   ],
   "source": [
    "#выбор заданных столбцов и срез нескольких строк подряд\n",
    "mini_map.loc[0:3, ['country', 'area_kv_km']]"
   ]
  },
  {
   "attachments": {
    "image.png": {
     "image/png": "[encoded data removed]"
    }
   },
   "cell_type": "markdown",
   "id": "bea5df33",
   "metadata": {},
   "source": [
    "**Сокращённая запись при индексации**<br>\n",
    "![image.png](attachment:image.png)"
   ]
  },
  {
   "cell_type": "markdown",
   "id": "74357542",
   "metadata": {},
   "source": [
    "# Задание\n",
    "Перепишите срезы из заданий 6-7 в сокращенном виде (там, где это возможно)."
   ]
  },
  {
   "cell_type": "code",
   "execution_count": 74,
   "id": "f9d25e39",
   "metadata": {},
   "outputs": [
    {
     "data": {
      "text/plain": [
       "0    Рейкьявик\n",
       "1         Осло\n",
       "2    Стокгольм\n",
       "3    Амстердам\n",
       "4         Берн\n",
       "Name: city, dtype: object"
      ]
     },
     "execution_count": 74,
     "metadata": {},
     "output_type": "execute_result"
    }
   ],
   "source": [
    "# срез столбца\n",
    "mini_map['city']"
   ]
  },
  {
   "cell_type": "code",
   "execution_count": 80,
   "id": "0c8bbacd",
   "metadata": {},
   "outputs": [
    {
     "data": {
      "text/html": [
       "<div>\n",
       "<style scoped>\n",
       "    .dataframe tbody tr th:only-of-type {\n",
       "        vertical-align: middle;\n",
       "    }\n",
       "\n",
       "    .dataframe tbody tr th {\n",
       "        vertical-align: top;\n",
       "    }\n",
       "\n",
       "    .dataframe thead th {\n",
       "        text-align: right;\n",
       "    }\n",
       "</style>\n",
       "<table border=\"1\" class=\"dataframe\">\n",
       "  <thead>\n",
       "    <tr style=\"text-align: right;\">\n",
       "      <th></th>\n",
       "      <th>country</th>\n",
       "      <th>area_kv_km</th>\n",
       "    </tr>\n",
       "  </thead>\n",
       "  <tbody>\n",
       "    <tr>\n",
       "      <th>0</th>\n",
       "      <td>Исландия</td>\n",
       "      <td>546.00</td>\n",
       "    </tr>\n",
       "    <tr>\n",
       "      <th>1</th>\n",
       "      <td>Норвегия</td>\n",
       "      <td>7,547.00</td>\n",
       "    </tr>\n",
       "    <tr>\n",
       "      <th>2</th>\n",
       "      <td>Швеция</td>\n",
       "      <td>3,243.00</td>\n",
       "    </tr>\n",
       "    <tr>\n",
       "      <th>3</th>\n",
       "      <td>Нидерланды</td>\n",
       "      <td>878.00</td>\n",
       "    </tr>\n",
       "    <tr>\n",
       "      <th>4</th>\n",
       "      <td>Швейцария</td>\n",
       "      <td>432.00</td>\n",
       "    </tr>\n",
       "  </tbody>\n",
       "</table>\n",
       "</div>"
      ],
      "text/plain": [
       "      country  area_kv_km\n",
       "0    Исландия      546.00\n",
       "1    Норвегия    7,547.00\n",
       "2      Швеция    3,243.00\n",
       "3  Нидерланды      878.00\n",
       "4   Швейцария      432.00"
      ]
     },
     "execution_count": 80,
     "metadata": {},
     "output_type": "execute_result"
    }
   ],
   "source": [
    "# срез нескольких столбцов по их названиям\n",
    "mini_map[['country', 'area_kv_km']]"
   ]
  },
  {
   "cell_type": "code",
   "execution_count": 81,
   "id": "36c8bcff",
   "metadata": {},
   "outputs": [
    {
     "data": {
      "text/html": [
       "<div>\n",
       "<style scoped>\n",
       "    .dataframe tbody tr th:only-of-type {\n",
       "        vertical-align: middle;\n",
       "    }\n",
       "\n",
       "    .dataframe tbody tr th {\n",
       "        vertical-align: top;\n",
       "    }\n",
       "\n",
       "    .dataframe thead th {\n",
       "        text-align: right;\n",
       "    }\n",
       "</style>\n",
       "<table border=\"1\" class=\"dataframe\">\n",
       "  <thead>\n",
       "    <tr style=\"text-align: right;\">\n",
       "      <th></th>\n",
       "      <th>country</th>\n",
       "      <th>city</th>\n",
       "      <th>population</th>\n",
       "      <th>area_kv_km</th>\n",
       "      <th>pop_density</th>\n",
       "    </tr>\n",
       "  </thead>\n",
       "  <tbody>\n",
       "    <tr>\n",
       "      <th>3</th>\n",
       "      <td>Нидерланды</td>\n",
       "      <td>Амстердам</td>\n",
       "      <td>2442142142</td>\n",
       "      <td>878.00</td>\n",
       "      <td>577</td>\n",
       "    </tr>\n",
       "    <tr>\n",
       "      <th>4</th>\n",
       "      <td>Швейцария</td>\n",
       "      <td>Берн</td>\n",
       "      <td>29182174204</td>\n",
       "      <td>432.00</td>\n",
       "      <td>968</td>\n",
       "    </tr>\n",
       "  </tbody>\n",
       "</table>\n",
       "</div>"
      ],
      "text/plain": [
       "      country       city   population  area_kv_km  pop_density\n",
       "3  Нидерланды  Амстердам   2442142142      878.00          577\n",
       "4   Швейцария       Берн  29182174204      432.00          968"
      ]
     },
     "execution_count": 81,
     "metadata": {},
     "output_type": "execute_result"
    }
   ],
   "source": [
    "# срез всех строк, начиная с заданной\n",
    "mini_map[3:]"
   ]
  },
  {
   "cell_type": "code",
   "execution_count": 79,
   "id": "7dda5c11",
   "metadata": {},
   "outputs": [
    {
     "data": {
      "text/html": [
       "<div>\n",
       "<style scoped>\n",
       "    .dataframe tbody tr th:only-of-type {\n",
       "        vertical-align: middle;\n",
       "    }\n",
       "\n",
       "    .dataframe tbody tr th {\n",
       "        vertical-align: top;\n",
       "    }\n",
       "\n",
       "    .dataframe thead th {\n",
       "        text-align: right;\n",
       "    }\n",
       "</style>\n",
       "<table border=\"1\" class=\"dataframe\">\n",
       "  <thead>\n",
       "    <tr style=\"text-align: right;\">\n",
       "      <th></th>\n",
       "      <th>country</th>\n",
       "      <th>city</th>\n",
       "      <th>population</th>\n",
       "      <th>area_kv_km</th>\n",
       "      <th>pop_density</th>\n",
       "    </tr>\n",
       "  </thead>\n",
       "  <tbody>\n",
       "    <tr>\n",
       "      <th>0</th>\n",
       "      <td>Исландия</td>\n",
       "      <td>Рейкьявик</td>\n",
       "      <td>45464575475</td>\n",
       "      <td>546.00</td>\n",
       "      <td>32</td>\n",
       "    </tr>\n",
       "    <tr>\n",
       "      <th>1</th>\n",
       "      <td>Норвегия</td>\n",
       "      <td>Осло</td>\n",
       "      <td>436346734646</td>\n",
       "      <td>7,547.00</td>\n",
       "      <td>2433</td>\n",
       "    </tr>\n",
       "    <tr>\n",
       "      <th>2</th>\n",
       "      <td>Швеция</td>\n",
       "      <td>Стокгольм</td>\n",
       "      <td>56876967949</td>\n",
       "      <td>3,243.00</td>\n",
       "      <td>536</td>\n",
       "    </tr>\n",
       "  </tbody>\n",
       "</table>\n",
       "</div>"
      ],
      "text/plain": [
       "    country       city    population  area_kv_km  pop_density\n",
       "0  Исландия  Рейкьявик   45464575475      546.00           32\n",
       "1  Норвегия       Осло  436346734646    7,547.00         2433\n",
       "2    Швеция  Стокгольм   56876967949    3,243.00          536"
      ]
     },
     "execution_count": 79,
     "metadata": {},
     "output_type": "execute_result"
    }
   ],
   "source": [
    "# срез всех строк до заданной\n",
    "mini_map[:3]"
   ]
  },
  {
   "cell_type": "code",
   "execution_count": 82,
   "id": "8e0a5df0",
   "metadata": {},
   "outputs": [
    {
     "data": {
      "text/html": [
       "<div>\n",
       "<style scoped>\n",
       "    .dataframe tbody tr th:only-of-type {\n",
       "        vertical-align: middle;\n",
       "    }\n",
       "\n",
       "    .dataframe tbody tr th {\n",
       "        vertical-align: top;\n",
       "    }\n",
       "\n",
       "    .dataframe thead th {\n",
       "        text-align: right;\n",
       "    }\n",
       "</style>\n",
       "<table border=\"1\" class=\"dataframe\">\n",
       "  <thead>\n",
       "    <tr style=\"text-align: right;\">\n",
       "      <th></th>\n",
       "      <th>country</th>\n",
       "      <th>city</th>\n",
       "      <th>population</th>\n",
       "      <th>area_kv_km</th>\n",
       "      <th>pop_density</th>\n",
       "    </tr>\n",
       "  </thead>\n",
       "  <tbody>\n",
       "    <tr>\n",
       "      <th>0</th>\n",
       "      <td>Исландия</td>\n",
       "      <td>Рейкьявик</td>\n",
       "      <td>45464575475</td>\n",
       "      <td>546.00</td>\n",
       "      <td>32</td>\n",
       "    </tr>\n",
       "    <tr>\n",
       "      <th>1</th>\n",
       "      <td>Норвегия</td>\n",
       "      <td>Осло</td>\n",
       "      <td>436346734646</td>\n",
       "      <td>7,547.00</td>\n",
       "      <td>2433</td>\n",
       "    </tr>\n",
       "    <tr>\n",
       "      <th>2</th>\n",
       "      <td>Швеция</td>\n",
       "      <td>Стокгольм</td>\n",
       "      <td>56876967949</td>\n",
       "      <td>3,243.00</td>\n",
       "      <td>536</td>\n",
       "    </tr>\n",
       "  </tbody>\n",
       "</table>\n",
       "</div>"
      ],
      "text/plain": [
       "    country       city    population  area_kv_km  pop_density\n",
       "0  Исландия  Рейкьявик   45464575475      546.00           32\n",
       "1  Норвегия       Осло  436346734646    7,547.00         2433\n",
       "2    Швеция  Стокгольм   56876967949    3,243.00          536"
      ]
     },
     "execution_count": 82,
     "metadata": {},
     "output_type": "execute_result"
    }
   ],
   "source": [
    "# срез нескольких строк подряд\n",
    "mini_map[0:3]"
   ]
  },
  {
   "cell_type": "markdown",
   "id": "40d4ee52",
   "metadata": {},
   "source": [
    "### 6. Логическая индексация"
   ]
  },
  {
   "cell_type": "code",
   "execution_count": 83,
   "id": "5a785efc-b5ed-401b-8a3c-306cbc9f0b66",
   "metadata": {},
   "outputs": [
    {
     "data": {
      "text/html": [
       "<div>\n",
       "<style scoped>\n",
       "    .dataframe tbody tr th:only-of-type {\n",
       "        vertical-align: middle;\n",
       "    }\n",
       "\n",
       "    .dataframe tbody tr th {\n",
       "        vertical-align: top;\n",
       "    }\n",
       "\n",
       "    .dataframe thead th {\n",
       "        text-align: right;\n",
       "    }\n",
       "</style>\n",
       "<table border=\"1\" class=\"dataframe\">\n",
       "  <thead>\n",
       "    <tr style=\"text-align: right;\">\n",
       "      <th></th>\n",
       "      <th>country</th>\n",
       "      <th>city</th>\n",
       "      <th>population</th>\n",
       "      <th>area_kv_km</th>\n",
       "      <th>pop_density</th>\n",
       "    </tr>\n",
       "  </thead>\n",
       "  <tbody>\n",
       "    <tr>\n",
       "      <th>0</th>\n",
       "      <td>Исландия</td>\n",
       "      <td>Рейкьявик</td>\n",
       "      <td>45464575475</td>\n",
       "      <td>546.00</td>\n",
       "      <td>32</td>\n",
       "    </tr>\n",
       "    <tr>\n",
       "      <th>1</th>\n",
       "      <td>Норвегия</td>\n",
       "      <td>Осло</td>\n",
       "      <td>436346734646</td>\n",
       "      <td>7,547.00</td>\n",
       "      <td>2433</td>\n",
       "    </tr>\n",
       "    <tr>\n",
       "      <th>2</th>\n",
       "      <td>Швеция</td>\n",
       "      <td>Стокгольм</td>\n",
       "      <td>56876967949</td>\n",
       "      <td>3,243.00</td>\n",
       "      <td>536</td>\n",
       "    </tr>\n",
       "    <tr>\n",
       "      <th>3</th>\n",
       "      <td>Нидерланды</td>\n",
       "      <td>Амстердам</td>\n",
       "      <td>2442142142</td>\n",
       "      <td>878.00</td>\n",
       "      <td>577</td>\n",
       "    </tr>\n",
       "    <tr>\n",
       "      <th>4</th>\n",
       "      <td>Швейцария</td>\n",
       "      <td>Берн</td>\n",
       "      <td>29182174204</td>\n",
       "      <td>432.00</td>\n",
       "      <td>968</td>\n",
       "    </tr>\n",
       "  </tbody>\n",
       "</table>\n",
       "</div>"
      ],
      "text/plain": [
       "      country       city    population  area_kv_km  pop_density\n",
       "0    Исландия  Рейкьявик   45464575475      546.00           32\n",
       "1    Норвегия       Осло  436346734646    7,547.00         2433\n",
       "2      Швеция  Стокгольм   56876967949    3,243.00          536\n",
       "3  Нидерланды  Амстердам    2442142142      878.00          577\n",
       "4   Швейцария       Берн   29182174204      432.00          968"
      ]
     },
     "execution_count": 83,
     "metadata": {},
     "output_type": "execute_result"
    }
   ],
   "source": [
    "mini_map"
   ]
  },
  {
   "cell_type": "code",
   "execution_count": 70,
   "id": "9b332100-a704-4237-8b65-77f599bea107",
   "metadata": {},
   "outputs": [
    {
     "data": {
      "text/html": [
       "<div>\n",
       "<style scoped>\n",
       "    .dataframe tbody tr th:only-of-type {\n",
       "        vertical-align: middle;\n",
       "    }\n",
       "\n",
       "    .dataframe tbody tr th {\n",
       "        vertical-align: top;\n",
       "    }\n",
       "\n",
       "    .dataframe thead th {\n",
       "        text-align: right;\n",
       "    }\n",
       "</style>\n",
       "<table border=\"1\" class=\"dataframe\">\n",
       "  <thead>\n",
       "    <tr style=\"text-align: right;\">\n",
       "      <th></th>\n",
       "      <th>country</th>\n",
       "      <th>city</th>\n",
       "      <th>population</th>\n",
       "      <th>area_kv_km</th>\n",
       "      <th>pop_density</th>\n",
       "    </tr>\n",
       "  </thead>\n",
       "  <tbody>\n",
       "    <tr>\n",
       "      <th>4</th>\n",
       "      <td>Швейцария</td>\n",
       "      <td>Берн</td>\n",
       "      <td>29182174204</td>\n",
       "      <td>432.00</td>\n",
       "      <td>968</td>\n",
       "    </tr>\n",
       "  </tbody>\n",
       "</table>\n",
       "</div>"
      ],
      "text/plain": [
       "     country  city   population  area_kv_km  pop_density\n",
       "4  Швейцария  Берн  29182174204      432.00          968"
      ]
     },
     "execution_count": 70,
     "metadata": {},
     "output_type": "execute_result"
    }
   ],
   "source": [
    "mini_map.loc[mini_map.loc[:, 'city'] == 'Берн']"
   ]
  },
  {
   "cell_type": "code",
   "execution_count": 71,
   "id": "5452a646-4173-4cb4-89c7-c77d92ccbfaf",
   "metadata": {},
   "outputs": [
    {
     "data": {
      "text/html": [
       "<div>\n",
       "<style scoped>\n",
       "    .dataframe tbody tr th:only-of-type {\n",
       "        vertical-align: middle;\n",
       "    }\n",
       "\n",
       "    .dataframe tbody tr th {\n",
       "        vertical-align: top;\n",
       "    }\n",
       "\n",
       "    .dataframe thead th {\n",
       "        text-align: right;\n",
       "    }\n",
       "</style>\n",
       "<table border=\"1\" class=\"dataframe\">\n",
       "  <thead>\n",
       "    <tr style=\"text-align: right;\">\n",
       "      <th></th>\n",
       "      <th>country</th>\n",
       "      <th>city</th>\n",
       "    </tr>\n",
       "  </thead>\n",
       "  <tbody>\n",
       "    <tr>\n",
       "      <th>4</th>\n",
       "      <td>Швейцария</td>\n",
       "      <td>Берн</td>\n",
       "    </tr>\n",
       "  </tbody>\n",
       "</table>\n",
       "</div>"
      ],
      "text/plain": [
       "     country  city\n",
       "4  Швейцария  Берн"
      ]
     },
     "execution_count": 71,
     "metadata": {},
     "output_type": "execute_result"
    }
   ],
   "source": [
    "mini_map.loc[mini_map.loc[:, 'city'] == 'Берн'][['country', 'city']]"
   ]
  },
  {
   "cell_type": "code",
   "execution_count": 72,
   "id": "6242f435-5a23-42ee-8971-547b32e25e98",
   "metadata": {},
   "outputs": [
    {
     "data": {
      "text/html": [
       "<div>\n",
       "<style scoped>\n",
       "    .dataframe tbody tr th:only-of-type {\n",
       "        vertical-align: middle;\n",
       "    }\n",
       "\n",
       "    .dataframe tbody tr th {\n",
       "        vertical-align: top;\n",
       "    }\n",
       "\n",
       "    .dataframe thead th {\n",
       "        text-align: right;\n",
       "    }\n",
       "</style>\n",
       "<table border=\"1\" class=\"dataframe\">\n",
       "  <thead>\n",
       "    <tr style=\"text-align: right;\">\n",
       "      <th></th>\n",
       "      <th>country</th>\n",
       "      <th>city</th>\n",
       "      <th>population</th>\n",
       "      <th>area_kv_km</th>\n",
       "      <th>pop_density</th>\n",
       "    </tr>\n",
       "  </thead>\n",
       "  <tbody>\n",
       "    <tr>\n",
       "      <th>0</th>\n",
       "      <td>Исландия</td>\n",
       "      <td>Рейкьявик</td>\n",
       "      <td>45464575475</td>\n",
       "      <td>546.00</td>\n",
       "      <td>32</td>\n",
       "    </tr>\n",
       "    <tr>\n",
       "      <th>1</th>\n",
       "      <td>Норвегия</td>\n",
       "      <td>Осло</td>\n",
       "      <td>436346734646</td>\n",
       "      <td>7,547.00</td>\n",
       "      <td>2433</td>\n",
       "    </tr>\n",
       "    <tr>\n",
       "      <th>2</th>\n",
       "      <td>Швеция</td>\n",
       "      <td>Стокгольм</td>\n",
       "      <td>56876967949</td>\n",
       "      <td>3,243.00</td>\n",
       "      <td>536</td>\n",
       "    </tr>\n",
       "    <tr>\n",
       "      <th>4</th>\n",
       "      <td>Швейцария</td>\n",
       "      <td>Берн</td>\n",
       "      <td>29182174204</td>\n",
       "      <td>432.00</td>\n",
       "      <td>968</td>\n",
       "    </tr>\n",
       "  </tbody>\n",
       "</table>\n",
       "</div>"
      ],
      "text/plain": [
       "     country       city    population  area_kv_km  pop_density\n",
       "0   Исландия  Рейкьявик   45464575475      546.00           32\n",
       "1   Норвегия       Осло  436346734646    7,547.00         2433\n",
       "2     Швеция  Стокгольм   56876967949    3,243.00          536\n",
       "4  Швейцария       Берн   29182174204      432.00          968"
      ]
     },
     "execution_count": 72,
     "metadata": {},
     "output_type": "execute_result"
    }
   ],
   "source": [
    "mini_map.loc[mini_map.loc[:, 'population'] > 2442142142]"
   ]
  },
  {
   "cell_type": "code",
   "execution_count": 73,
   "id": "c848cd7e-72aa-4a7f-afc9-7e8f0d5b550b",
   "metadata": {},
   "outputs": [
    {
     "data": {
      "text/plain": [
       "np.int64(4)"
      ]
     },
     "execution_count": 73,
     "metadata": {},
     "output_type": "execute_result"
    }
   ],
   "source": [
    "mini_map.loc[mini_map.loc[:, 'population'] > 2442142142]['population'].count()"
   ]
  },
  {
   "cell_type": "markdown",
   "id": "181fb1ff",
   "metadata": {},
   "source": [
    "# Задание\n",
    "Выполните поиск данных в датафрейме с помощью логической индексации (не менее 4ех различных условий)."
   ]
  },
  {
   "cell_type": "code",
   "execution_count": 91,
   "id": "6831dbf8-b634-4808-b9f3-a4e1a31476f0",
   "metadata": {},
   "outputs": [
    {
     "data": {
      "text/html": [
       "<div>\n",
       "<style scoped>\n",
       "    .dataframe tbody tr th:only-of-type {\n",
       "        vertical-align: middle;\n",
       "    }\n",
       "\n",
       "    .dataframe tbody tr th {\n",
       "        vertical-align: top;\n",
       "    }\n",
       "\n",
       "    .dataframe thead th {\n",
       "        text-align: right;\n",
       "    }\n",
       "</style>\n",
       "<table border=\"1\" class=\"dataframe\">\n",
       "  <thead>\n",
       "    <tr style=\"text-align: right;\">\n",
       "      <th></th>\n",
       "      <th>country</th>\n",
       "      <th>city</th>\n",
       "      <th>population</th>\n",
       "      <th>area_kv_km</th>\n",
       "      <th>pop_density</th>\n",
       "    </tr>\n",
       "  </thead>\n",
       "  <tbody>\n",
       "    <tr>\n",
       "      <th>0</th>\n",
       "      <td>Исландия</td>\n",
       "      <td>Рейкьявик</td>\n",
       "      <td>45464575475</td>\n",
       "      <td>546.00</td>\n",
       "      <td>32</td>\n",
       "    </tr>\n",
       "    <tr>\n",
       "      <th>1</th>\n",
       "      <td>Норвегия</td>\n",
       "      <td>Осло</td>\n",
       "      <td>436346734646</td>\n",
       "      <td>7,547.00</td>\n",
       "      <td>2433</td>\n",
       "    </tr>\n",
       "    <tr>\n",
       "      <th>2</th>\n",
       "      <td>Швеция</td>\n",
       "      <td>Стокгольм</td>\n",
       "      <td>56876967949</td>\n",
       "      <td>3,243.00</td>\n",
       "      <td>536</td>\n",
       "    </tr>\n",
       "    <tr>\n",
       "      <th>3</th>\n",
       "      <td>Нидерланды</td>\n",
       "      <td>Амстердам</td>\n",
       "      <td>2442142142</td>\n",
       "      <td>878.00</td>\n",
       "      <td>577</td>\n",
       "    </tr>\n",
       "    <tr>\n",
       "      <th>4</th>\n",
       "      <td>Швейцария</td>\n",
       "      <td>Берн</td>\n",
       "      <td>29182174204</td>\n",
       "      <td>432.00</td>\n",
       "      <td>968</td>\n",
       "    </tr>\n",
       "  </tbody>\n",
       "</table>\n",
       "</div>"
      ],
      "text/plain": [
       "      country       city    population  area_kv_km  pop_density\n",
       "0    Исландия  Рейкьявик   45464575475      546.00           32\n",
       "1    Норвегия       Осло  436346734646    7,547.00         2433\n",
       "2      Швеция  Стокгольм   56876967949    3,243.00          536\n",
       "3  Нидерланды  Амстердам    2442142142      878.00          577\n",
       "4   Швейцария       Берн   29182174204      432.00          968"
      ]
     },
     "execution_count": 91,
     "metadata": {},
     "output_type": "execute_result"
    }
   ],
   "source": [
    "mini_map"
   ]
  },
  {
   "cell_type": "code",
   "execution_count": 89,
   "id": "20a6c62a",
   "metadata": {},
   "outputs": [
    {
     "data": {
      "text/html": [
       "<div>\n",
       "<style scoped>\n",
       "    .dataframe tbody tr th:only-of-type {\n",
       "        vertical-align: middle;\n",
       "    }\n",
       "\n",
       "    .dataframe tbody tr th {\n",
       "        vertical-align: top;\n",
       "    }\n",
       "\n",
       "    .dataframe thead th {\n",
       "        text-align: right;\n",
       "    }\n",
       "</style>\n",
       "<table border=\"1\" class=\"dataframe\">\n",
       "  <thead>\n",
       "    <tr style=\"text-align: right;\">\n",
       "      <th></th>\n",
       "      <th>country</th>\n",
       "      <th>city</th>\n",
       "      <th>population</th>\n",
       "      <th>area_kv_km</th>\n",
       "      <th>pop_density</th>\n",
       "    </tr>\n",
       "  </thead>\n",
       "  <tbody>\n",
       "    <tr>\n",
       "      <th>1</th>\n",
       "      <td>Норвегия</td>\n",
       "      <td>Осло</td>\n",
       "      <td>436346734646</td>\n",
       "      <td>7,547.00</td>\n",
       "      <td>2433</td>\n",
       "    </tr>\n",
       "  </tbody>\n",
       "</table>\n",
       "</div>"
      ],
      "text/plain": [
       "    country  city    population  area_kv_km  pop_density\n",
       "1  Норвегия  Осло  436346734646    7,547.00         2433"
      ]
     },
     "execution_count": 89,
     "metadata": {},
     "output_type": "execute_result"
    }
   ],
   "source": [
    "mini_map.loc[mini_map.loc[:, 'city'] == 'Осло']"
   ]
  },
  {
   "cell_type": "code",
   "execution_count": 90,
   "id": "0f2fe7c2",
   "metadata": {},
   "outputs": [
    {
     "data": {
      "text/html": [
       "<div>\n",
       "<style scoped>\n",
       "    .dataframe tbody tr th:only-of-type {\n",
       "        vertical-align: middle;\n",
       "    }\n",
       "\n",
       "    .dataframe tbody tr th {\n",
       "        vertical-align: top;\n",
       "    }\n",
       "\n",
       "    .dataframe thead th {\n",
       "        text-align: right;\n",
       "    }\n",
       "</style>\n",
       "<table border=\"1\" class=\"dataframe\">\n",
       "  <thead>\n",
       "    <tr style=\"text-align: right;\">\n",
       "      <th></th>\n",
       "      <th>country</th>\n",
       "      <th>city</th>\n",
       "      <th>area_kv_km</th>\n",
       "    </tr>\n",
       "  </thead>\n",
       "  <tbody>\n",
       "    <tr>\n",
       "      <th>3</th>\n",
       "      <td>Нидерланды</td>\n",
       "      <td>Амстердам</td>\n",
       "      <td>878.00</td>\n",
       "    </tr>\n",
       "  </tbody>\n",
       "</table>\n",
       "</div>"
      ],
      "text/plain": [
       "      country       city  area_kv_km\n",
       "3  Нидерланды  Амстердам      878.00"
      ]
     },
     "execution_count": 90,
     "metadata": {},
     "output_type": "execute_result"
    }
   ],
   "source": [
    "mini_map.loc[mini_map.loc[:, 'country'] == 'Нидерланды'][['country', 'city', 'area_kv_km']]"
   ]
  },
  {
   "cell_type": "code",
   "execution_count": 93,
   "id": "dad27399",
   "metadata": {},
   "outputs": [
    {
     "data": {
      "text/plain": [
       "np.int64(3)"
      ]
     },
     "execution_count": 93,
     "metadata": {},
     "output_type": "execute_result"
    }
   ],
   "source": [
    "mini_map.loc[mini_map.loc[:, 'pop_density'] > 536]['population'].count()"
   ]
  },
  {
   "cell_type": "code",
   "execution_count": 94,
   "id": "e46fb4a4",
   "metadata": {},
   "outputs": [
    {
     "data": {
      "text/html": [
       "<div>\n",
       "<style scoped>\n",
       "    .dataframe tbody tr th:only-of-type {\n",
       "        vertical-align: middle;\n",
       "    }\n",
       "\n",
       "    .dataframe tbody tr th {\n",
       "        vertical-align: top;\n",
       "    }\n",
       "\n",
       "    .dataframe thead th {\n",
       "        text-align: right;\n",
       "    }\n",
       "</style>\n",
       "<table border=\"1\" class=\"dataframe\">\n",
       "  <thead>\n",
       "    <tr style=\"text-align: right;\">\n",
       "      <th></th>\n",
       "      <th>country</th>\n",
       "      <th>city</th>\n",
       "      <th>population</th>\n",
       "      <th>area_kv_km</th>\n",
       "      <th>pop_density</th>\n",
       "    </tr>\n",
       "  </thead>\n",
       "  <tbody>\n",
       "    <tr>\n",
       "      <th>0</th>\n",
       "      <td>Исландия</td>\n",
       "      <td>Рейкьявик</td>\n",
       "      <td>45464575475</td>\n",
       "      <td>546.00</td>\n",
       "      <td>32</td>\n",
       "    </tr>\n",
       "    <tr>\n",
       "      <th>1</th>\n",
       "      <td>Норвегия</td>\n",
       "      <td>Осло</td>\n",
       "      <td>436346734646</td>\n",
       "      <td>7,547.00</td>\n",
       "      <td>2433</td>\n",
       "    </tr>\n",
       "    <tr>\n",
       "      <th>2</th>\n",
       "      <td>Швеция</td>\n",
       "      <td>Стокгольм</td>\n",
       "      <td>56876967949</td>\n",
       "      <td>3,243.00</td>\n",
       "      <td>536</td>\n",
       "    </tr>\n",
       "    <tr>\n",
       "      <th>3</th>\n",
       "      <td>Нидерланды</td>\n",
       "      <td>Амстердам</td>\n",
       "      <td>2442142142</td>\n",
       "      <td>878.00</td>\n",
       "      <td>577</td>\n",
       "    </tr>\n",
       "  </tbody>\n",
       "</table>\n",
       "</div>"
      ],
      "text/plain": [
       "      country       city    population  area_kv_km  pop_density\n",
       "0    Исландия  Рейкьявик   45464575475      546.00           32\n",
       "1    Норвегия       Осло  436346734646    7,547.00         2433\n",
       "2      Швеция  Стокгольм   56876967949    3,243.00          536\n",
       "3  Нидерланды  Амстердам    2442142142      878.00          577"
      ]
     },
     "execution_count": 94,
     "metadata": {},
     "output_type": "execute_result"
    }
   ],
   "source": [
    "mini_map.loc[mini_map.loc[:, 'area_kv_km'] > 432]"
   ]
  },
  {
   "cell_type": "markdown",
   "id": "69d65fac",
   "metadata": {},
   "source": [
    "**Сокращенные** записи"
   ]
  },
  {
   "cell_type": "code",
   "execution_count": 104,
   "id": "3c5950a0",
   "metadata": {},
   "outputs": [
    {
     "data": {
      "text/html": [
       "<div>\n",
       "<style scoped>\n",
       "    .dataframe tbody tr th:only-of-type {\n",
       "        vertical-align: middle;\n",
       "    }\n",
       "\n",
       "    .dataframe tbody tr th {\n",
       "        vertical-align: top;\n",
       "    }\n",
       "\n",
       "    .dataframe thead th {\n",
       "        text-align: right;\n",
       "    }\n",
       "</style>\n",
       "<table border=\"1\" class=\"dataframe\">\n",
       "  <thead>\n",
       "    <tr style=\"text-align: right;\">\n",
       "      <th></th>\n",
       "      <th>country</th>\n",
       "      <th>city</th>\n",
       "      <th>population</th>\n",
       "      <th>area_kv_km</th>\n",
       "      <th>pop_density</th>\n",
       "    </tr>\n",
       "  </thead>\n",
       "  <tbody>\n",
       "    <tr>\n",
       "      <th>1</th>\n",
       "      <td>Норвегия</td>\n",
       "      <td>Осло</td>\n",
       "      <td>436346734646</td>\n",
       "      <td>7,547.00</td>\n",
       "      <td>2433</td>\n",
       "    </tr>\n",
       "  </tbody>\n",
       "</table>\n",
       "</div>"
      ],
      "text/plain": [
       "    country  city    population  area_kv_km  pop_density\n",
       "1  Норвегия  Осло  436346734646    7,547.00         2433"
      ]
     },
     "execution_count": 104,
     "metadata": {},
     "output_type": "execute_result"
    }
   ],
   "source": [
    "mini_map[mini_map['city'] == 'Осло']"
   ]
  },
  {
   "cell_type": "code",
   "execution_count": 105,
   "id": "b4cbe8f1",
   "metadata": {},
   "outputs": [
    {
     "data": {
      "text/html": [
       "<div>\n",
       "<style scoped>\n",
       "    .dataframe tbody tr th:only-of-type {\n",
       "        vertical-align: middle;\n",
       "    }\n",
       "\n",
       "    .dataframe tbody tr th {\n",
       "        vertical-align: top;\n",
       "    }\n",
       "\n",
       "    .dataframe thead th {\n",
       "        text-align: right;\n",
       "    }\n",
       "</style>\n",
       "<table border=\"1\" class=\"dataframe\">\n",
       "  <thead>\n",
       "    <tr style=\"text-align: right;\">\n",
       "      <th></th>\n",
       "      <th>country</th>\n",
       "      <th>city</th>\n",
       "      <th>area_kv_km</th>\n",
       "    </tr>\n",
       "  </thead>\n",
       "  <tbody>\n",
       "    <tr>\n",
       "      <th>3</th>\n",
       "      <td>Нидерланды</td>\n",
       "      <td>Амстердам</td>\n",
       "      <td>878.00</td>\n",
       "    </tr>\n",
       "  </tbody>\n",
       "</table>\n",
       "</div>"
      ],
      "text/plain": [
       "      country       city  area_kv_km\n",
       "3  Нидерланды  Амстердам      878.00"
      ]
     },
     "execution_count": 105,
     "metadata": {},
     "output_type": "execute_result"
    }
   ],
   "source": [
    "mini_map[mini_map['country'] == 'Нидерланды'][['country', 'city', 'area_kv_km']]"
   ]
  },
  {
   "cell_type": "code",
   "execution_count": 106,
   "id": "ca342038-69da-470c-9010-8cca4c7f58f0",
   "metadata": {},
   "outputs": [
    {
     "data": {
      "text/plain": [
       "np.int64(3)"
      ]
     },
     "execution_count": 106,
     "metadata": {},
     "output_type": "execute_result"
    }
   ],
   "source": [
    "mini_map[mini_map['pop_density'] > 536]['population'].count()"
   ]
  },
  {
   "cell_type": "code",
   "execution_count": 107,
   "id": "6d54f938",
   "metadata": {},
   "outputs": [
    {
     "data": {
      "text/html": [
       "<div>\n",
       "<style scoped>\n",
       "    .dataframe tbody tr th:only-of-type {\n",
       "        vertical-align: middle;\n",
       "    }\n",
       "\n",
       "    .dataframe tbody tr th {\n",
       "        vertical-align: top;\n",
       "    }\n",
       "\n",
       "    .dataframe thead th {\n",
       "        text-align: right;\n",
       "    }\n",
       "</style>\n",
       "<table border=\"1\" class=\"dataframe\">\n",
       "  <thead>\n",
       "    <tr style=\"text-align: right;\">\n",
       "      <th></th>\n",
       "      <th>country</th>\n",
       "      <th>city</th>\n",
       "      <th>population</th>\n",
       "      <th>area_kv_km</th>\n",
       "      <th>pop_density</th>\n",
       "    </tr>\n",
       "  </thead>\n",
       "  <tbody>\n",
       "    <tr>\n",
       "      <th>0</th>\n",
       "      <td>Исландия</td>\n",
       "      <td>Рейкьявик</td>\n",
       "      <td>45464575475</td>\n",
       "      <td>546.00</td>\n",
       "      <td>32</td>\n",
       "    </tr>\n",
       "    <tr>\n",
       "      <th>1</th>\n",
       "      <td>Норвегия</td>\n",
       "      <td>Осло</td>\n",
       "      <td>436346734646</td>\n",
       "      <td>7,547.00</td>\n",
       "      <td>2433</td>\n",
       "    </tr>\n",
       "    <tr>\n",
       "      <th>2</th>\n",
       "      <td>Швеция</td>\n",
       "      <td>Стокгольм</td>\n",
       "      <td>56876967949</td>\n",
       "      <td>3,243.00</td>\n",
       "      <td>536</td>\n",
       "    </tr>\n",
       "    <tr>\n",
       "      <th>3</th>\n",
       "      <td>Нидерланды</td>\n",
       "      <td>Амстердам</td>\n",
       "      <td>2442142142</td>\n",
       "      <td>878.00</td>\n",
       "      <td>577</td>\n",
       "    </tr>\n",
       "  </tbody>\n",
       "</table>\n",
       "</div>"
      ],
      "text/plain": [
       "      country       city    population  area_kv_km  pop_density\n",
       "0    Исландия  Рейкьявик   45464575475      546.00           32\n",
       "1    Норвегия       Осло  436346734646    7,547.00         2433\n",
       "2      Швеция  Стокгольм   56876967949    3,243.00          536\n",
       "3  Нидерланды  Амстердам    2442142142      878.00          577"
      ]
     },
     "execution_count": 107,
     "metadata": {},
     "output_type": "execute_result"
    }
   ],
   "source": [
    "mini_map[mini_map['area_kv_km'] > 432]"
   ]
  },
  {
   "cell_type": "markdown",
   "id": "4bdf4b51",
   "metadata": {},
   "source": [
    "**В логической индексации можно использовать логические выражения с любыми логическими операциями: ==,  !=, >, <, >=, <=**, а также функции-предикаты, которые возвращают логическое значение. "
   ]
  },
  {
   "cell_type": "code",
   "execution_count": 111,
   "id": "ba2fc5ee",
   "metadata": {},
   "outputs": [
    {
     "data": {
      "text/html": [
       "<div>\n",
       "<style scoped>\n",
       "    .dataframe tbody tr th:only-of-type {\n",
       "        vertical-align: middle;\n",
       "    }\n",
       "\n",
       "    .dataframe tbody tr th {\n",
       "        vertical-align: top;\n",
       "    }\n",
       "\n",
       "    .dataframe thead th {\n",
       "        text-align: right;\n",
       "    }\n",
       "</style>\n",
       "<table border=\"1\" class=\"dataframe\">\n",
       "  <thead>\n",
       "    <tr style=\"text-align: right;\">\n",
       "      <th></th>\n",
       "      <th>country</th>\n",
       "      <th>city</th>\n",
       "      <th>population</th>\n",
       "      <th>area_kv_km</th>\n",
       "      <th>pop_density</th>\n",
       "    </tr>\n",
       "  </thead>\n",
       "  <tbody>\n",
       "    <tr>\n",
       "      <th>0</th>\n",
       "      <td>Исландия</td>\n",
       "      <td>Рейкьявик</td>\n",
       "      <td>45464575475</td>\n",
       "      <td>546.00</td>\n",
       "      <td>32</td>\n",
       "    </tr>\n",
       "    <tr>\n",
       "      <th>3</th>\n",
       "      <td>Нидерланды</td>\n",
       "      <td>Амстердам</td>\n",
       "      <td>2442142142</td>\n",
       "      <td>878.00</td>\n",
       "      <td>577</td>\n",
       "    </tr>\n",
       "    <tr>\n",
       "      <th>4</th>\n",
       "      <td>Швейцария</td>\n",
       "      <td>Берн</td>\n",
       "      <td>29182174204</td>\n",
       "      <td>432.00</td>\n",
       "      <td>968</td>\n",
       "    </tr>\n",
       "  </tbody>\n",
       "</table>\n",
       "</div>"
      ],
      "text/plain": [
       "      country       city   population  area_kv_km  pop_density\n",
       "0    Исландия  Рейкьявик  45464575475      546.00           32\n",
       "3  Нидерланды  Амстердам   2442142142      878.00          577\n",
       "4   Швейцария       Берн  29182174204      432.00          968"
      ]
     },
     "execution_count": 111,
     "metadata": {},
     "output_type": "execute_result"
    }
   ],
   "source": [
    "mini_map[mini_map['area_kv_km'] % 2 == 0]"
   ]
  },
  {
   "cell_type": "code",
   "execution_count": 113,
   "id": "c83d763d",
   "metadata": {},
   "outputs": [
    {
     "data": {
      "text/html": [
       "<div>\n",
       "<style scoped>\n",
       "    .dataframe tbody tr th:only-of-type {\n",
       "        vertical-align: middle;\n",
       "    }\n",
       "\n",
       "    .dataframe tbody tr th {\n",
       "        vertical-align: top;\n",
       "    }\n",
       "\n",
       "    .dataframe thead th {\n",
       "        text-align: right;\n",
       "    }\n",
       "</style>\n",
       "<table border=\"1\" class=\"dataframe\">\n",
       "  <thead>\n",
       "    <tr style=\"text-align: right;\">\n",
       "      <th></th>\n",
       "      <th>country</th>\n",
       "      <th>city</th>\n",
       "      <th>population</th>\n",
       "      <th>area_kv_km</th>\n",
       "      <th>pop_density</th>\n",
       "    </tr>\n",
       "  </thead>\n",
       "  <tbody>\n",
       "    <tr>\n",
       "      <th>0</th>\n",
       "      <td>Исландия</td>\n",
       "      <td>Рейкьявик</td>\n",
       "      <td>45464575475</td>\n",
       "      <td>546.00</td>\n",
       "      <td>32</td>\n",
       "    </tr>\n",
       "    <tr>\n",
       "      <th>1</th>\n",
       "      <td>Норвегия</td>\n",
       "      <td>Осло</td>\n",
       "      <td>436346734646</td>\n",
       "      <td>7,547.00</td>\n",
       "      <td>2433</td>\n",
       "    </tr>\n",
       "    <tr>\n",
       "      <th>2</th>\n",
       "      <td>Швеция</td>\n",
       "      <td>Стокгольм</td>\n",
       "      <td>56876967949</td>\n",
       "      <td>3,243.00</td>\n",
       "      <td>536</td>\n",
       "    </tr>\n",
       "  </tbody>\n",
       "</table>\n",
       "</div>"
      ],
      "text/plain": [
       "    country       city    population  area_kv_km  pop_density\n",
       "0  Исландия  Рейкьявик   45464575475      546.00           32\n",
       "1  Норвегия       Осло  436346734646    7,547.00         2433\n",
       "2    Швеция  Стокгольм   56876967949    3,243.00          536"
      ]
     },
     "execution_count": 113,
     "metadata": {},
     "output_type": "execute_result"
    }
   ],
   "source": [
    "mini_map[mini_map['population'] >= mini_map['population'].median()]\n"
   ]
  },
  {
   "cell_type": "code",
   "execution_count": 120,
   "id": "185a8344",
   "metadata": {},
   "outputs": [
    {
     "data": {
      "text/html": [
       "<div>\n",
       "<style scoped>\n",
       "    .dataframe tbody tr th:only-of-type {\n",
       "        vertical-align: middle;\n",
       "    }\n",
       "\n",
       "    .dataframe tbody tr th {\n",
       "        vertical-align: top;\n",
       "    }\n",
       "\n",
       "    .dataframe thead th {\n",
       "        text-align: right;\n",
       "    }\n",
       "</style>\n",
       "<table border=\"1\" class=\"dataframe\">\n",
       "  <thead>\n",
       "    <tr style=\"text-align: right;\">\n",
       "      <th></th>\n",
       "      <th>country</th>\n",
       "      <th>city</th>\n",
       "      <th>population</th>\n",
       "      <th>area_kv_km</th>\n",
       "      <th>pop_density</th>\n",
       "    </tr>\n",
       "  </thead>\n",
       "  <tbody>\n",
       "    <tr>\n",
       "      <th>0</th>\n",
       "      <td>Исландия</td>\n",
       "      <td>Рейкьявик</td>\n",
       "      <td>45464575475</td>\n",
       "      <td>546.00</td>\n",
       "      <td>32</td>\n",
       "    </tr>\n",
       "  </tbody>\n",
       "</table>\n",
       "</div>"
      ],
      "text/plain": [
       "    country       city   population  area_kv_km  pop_density\n",
       "0  Исландия  Рейкьявик  45464575475      546.00           32"
      ]
     },
     "execution_count": 120,
     "metadata": {},
     "output_type": "execute_result"
    }
   ],
   "source": [
    "mini_map[(mini_map['pop_density'] >= 20) & (mini_map['pop_density'] <= 40)]\n"
   ]
  },
  {
   "cell_type": "markdown",
   "id": "9143b6b3",
   "metadata": {},
   "source": [
    "**Чтобы применить несколько условий для фильтрации**, сначала примените первое условие и сохраните результат. Затем вызовите логическую индексацию со вторым условием."
   ]
  },
  {
   "cell_type": "code",
   "execution_count": 122,
   "id": "ff4ec872",
   "metadata": {},
   "outputs": [
    {
     "data": {
      "text/html": [
       "<div>\n",
       "<style scoped>\n",
       "    .dataframe tbody tr th:only-of-type {\n",
       "        vertical-align: middle;\n",
       "    }\n",
       "\n",
       "    .dataframe tbody tr th {\n",
       "        vertical-align: top;\n",
       "    }\n",
       "\n",
       "    .dataframe thead th {\n",
       "        text-align: right;\n",
       "    }\n",
       "</style>\n",
       "<table border=\"1\" class=\"dataframe\">\n",
       "  <thead>\n",
       "    <tr style=\"text-align: right;\">\n",
       "      <th></th>\n",
       "      <th>country</th>\n",
       "      <th>city</th>\n",
       "      <th>population</th>\n",
       "      <th>area_kv_km</th>\n",
       "      <th>pop_density</th>\n",
       "    </tr>\n",
       "  </thead>\n",
       "  <tbody>\n",
       "    <tr>\n",
       "      <th>3</th>\n",
       "      <td>Нидерланды</td>\n",
       "      <td>Амстердам</td>\n",
       "      <td>2442142142</td>\n",
       "      <td>878.00</td>\n",
       "      <td>577</td>\n",
       "    </tr>\n",
       "    <tr>\n",
       "      <th>4</th>\n",
       "      <td>Швейцария</td>\n",
       "      <td>Берн</td>\n",
       "      <td>29182174204</td>\n",
       "      <td>432.00</td>\n",
       "      <td>968</td>\n",
       "    </tr>\n",
       "  </tbody>\n",
       "</table>\n",
       "</div>"
      ],
      "text/plain": [
       "      country       city   population  area_kv_km  pop_density\n",
       "3  Нидерланды  Амстердам   2442142142      878.00          577\n",
       "4   Швейцария       Берн  29182174204      432.00          968"
      ]
     },
     "execution_count": 122,
     "metadata": {},
     "output_type": "execute_result"
    }
   ],
   "source": [
    "uslovie_1 = mini_map['pop_density'] >= 300\n",
    "uslovie_2 = mini_map['area_kv_km'] <= 900\n",
    "\n",
    "result = mini_map[uslovie_1 & uslovie_2]\n",
    "result"
   ]
  },
  {
   "cell_type": "markdown",
   "id": "72eb4ab0",
   "metadata": {},
   "source": [
    "# Задание\n",
    "Продумайте и выполните поиск данных в датафрейме с помощью логической индексации:\n",
    "- 2 фильтра на поиск по столбцу со строковыми значениями\n",
    "- 2 фильтра на поиск по столбцу с числовыми значениями\n",
    "- 2 фильтра на поиск по нескольким условиями\n",
    "Убедитесь, что все фильтры - рабочие.<br>\n",
    "**!! Используйте все логические операции: ==, !=, >, <, >=, <=**"
   ]
  },
  {
   "cell_type": "code",
   "execution_count": 123,
   "id": "9ac92913",
   "metadata": {},
   "outputs": [
    {
     "data": {
      "text/html": [
       "<div>\n",
       "<style scoped>\n",
       "    .dataframe tbody tr th:only-of-type {\n",
       "        vertical-align: middle;\n",
       "    }\n",
       "\n",
       "    .dataframe tbody tr th {\n",
       "        vertical-align: top;\n",
       "    }\n",
       "\n",
       "    .dataframe thead th {\n",
       "        text-align: right;\n",
       "    }\n",
       "</style>\n",
       "<table border=\"1\" class=\"dataframe\">\n",
       "  <thead>\n",
       "    <tr style=\"text-align: right;\">\n",
       "      <th></th>\n",
       "      <th>country</th>\n",
       "      <th>city</th>\n",
       "      <th>population</th>\n",
       "      <th>area_kv_km</th>\n",
       "      <th>pop_density</th>\n",
       "    </tr>\n",
       "  </thead>\n",
       "  <tbody>\n",
       "    <tr>\n",
       "      <th>0</th>\n",
       "      <td>Исландия</td>\n",
       "      <td>Рейкьявик</td>\n",
       "      <td>45464575475</td>\n",
       "      <td>546.00</td>\n",
       "      <td>32</td>\n",
       "    </tr>\n",
       "    <tr>\n",
       "      <th>1</th>\n",
       "      <td>Норвегия</td>\n",
       "      <td>Осло</td>\n",
       "      <td>436346734646</td>\n",
       "      <td>7,547.00</td>\n",
       "      <td>2433</td>\n",
       "    </tr>\n",
       "    <tr>\n",
       "      <th>2</th>\n",
       "      <td>Швеция</td>\n",
       "      <td>Стокгольм</td>\n",
       "      <td>56876967949</td>\n",
       "      <td>3,243.00</td>\n",
       "      <td>536</td>\n",
       "    </tr>\n",
       "    <tr>\n",
       "      <th>3</th>\n",
       "      <td>Нидерланды</td>\n",
       "      <td>Амстердам</td>\n",
       "      <td>2442142142</td>\n",
       "      <td>878.00</td>\n",
       "      <td>577</td>\n",
       "    </tr>\n",
       "    <tr>\n",
       "      <th>4</th>\n",
       "      <td>Швейцария</td>\n",
       "      <td>Берн</td>\n",
       "      <td>29182174204</td>\n",
       "      <td>432.00</td>\n",
       "      <td>968</td>\n",
       "    </tr>\n",
       "  </tbody>\n",
       "</table>\n",
       "</div>"
      ],
      "text/plain": [
       "      country       city    population  area_kv_km  pop_density\n",
       "0    Исландия  Рейкьявик   45464575475      546.00           32\n",
       "1    Норвегия       Осло  436346734646    7,547.00         2433\n",
       "2      Швеция  Стокгольм   56876967949    3,243.00          536\n",
       "3  Нидерланды  Амстердам    2442142142      878.00          577\n",
       "4   Швейцария       Берн   29182174204      432.00          968"
      ]
     },
     "execution_count": 123,
     "metadata": {},
     "output_type": "execute_result"
    }
   ],
   "source": [
    "mini_map"
   ]
  },
  {
   "cell_type": "code",
   "execution_count": 135,
   "id": "cbfa093c",
   "metadata": {},
   "outputs": [
    {
     "data": {
      "text/html": [
       "<div>\n",
       "<style scoped>\n",
       "    .dataframe tbody tr th:only-of-type {\n",
       "        vertical-align: middle;\n",
       "    }\n",
       "\n",
       "    .dataframe tbody tr th {\n",
       "        vertical-align: top;\n",
       "    }\n",
       "\n",
       "    .dataframe thead th {\n",
       "        text-align: right;\n",
       "    }\n",
       "</style>\n",
       "<table border=\"1\" class=\"dataframe\">\n",
       "  <thead>\n",
       "    <tr style=\"text-align: right;\">\n",
       "      <th></th>\n",
       "      <th>country</th>\n",
       "      <th>city</th>\n",
       "      <th>population</th>\n",
       "      <th>area_kv_km</th>\n",
       "      <th>pop_density</th>\n",
       "    </tr>\n",
       "  </thead>\n",
       "  <tbody>\n",
       "    <tr>\n",
       "      <th>2</th>\n",
       "      <td>Швеция</td>\n",
       "      <td>Стокгольм</td>\n",
       "      <td>56876967949</td>\n",
       "      <td>3,243.00</td>\n",
       "      <td>536</td>\n",
       "    </tr>\n",
       "    <tr>\n",
       "      <th>4</th>\n",
       "      <td>Швейцария</td>\n",
       "      <td>Берн</td>\n",
       "      <td>29182174204</td>\n",
       "      <td>432.00</td>\n",
       "      <td>968</td>\n",
       "    </tr>\n",
       "  </tbody>\n",
       "</table>\n",
       "</div>"
      ],
      "text/plain": [
       "     country       city   population  area_kv_km  pop_density\n",
       "2     Швеция  Стокгольм  56876967949    3,243.00          536\n",
       "4  Швейцария       Берн  29182174204      432.00          968"
      ]
     },
     "execution_count": 135,
     "metadata": {},
     "output_type": "execute_result"
    }
   ],
   "source": [
    "filter_1 = mini_map['country'].str.startswith('Ш')\n",
    "mini_map[filter_1]"
   ]
  },
  {
   "cell_type": "code",
   "execution_count": 136,
   "id": "2eb8394b",
   "metadata": {},
   "outputs": [
    {
     "data": {
      "text/html": [
       "<div>\n",
       "<style scoped>\n",
       "    .dataframe tbody tr th:only-of-type {\n",
       "        vertical-align: middle;\n",
       "    }\n",
       "\n",
       "    .dataframe tbody tr th {\n",
       "        vertical-align: top;\n",
       "    }\n",
       "\n",
       "    .dataframe thead th {\n",
       "        text-align: right;\n",
       "    }\n",
       "</style>\n",
       "<table border=\"1\" class=\"dataframe\">\n",
       "  <thead>\n",
       "    <tr style=\"text-align: right;\">\n",
       "      <th></th>\n",
       "      <th>country</th>\n",
       "      <th>city</th>\n",
       "      <th>population</th>\n",
       "      <th>area_kv_km</th>\n",
       "      <th>pop_density</th>\n",
       "    </tr>\n",
       "  </thead>\n",
       "  <tbody>\n",
       "    <tr>\n",
       "      <th>0</th>\n",
       "      <td>Исландия</td>\n",
       "      <td>Рейкьявик</td>\n",
       "      <td>45464575475</td>\n",
       "      <td>546.00</td>\n",
       "      <td>32</td>\n",
       "    </tr>\n",
       "    <tr>\n",
       "      <th>2</th>\n",
       "      <td>Швеция</td>\n",
       "      <td>Стокгольм</td>\n",
       "      <td>56876967949</td>\n",
       "      <td>3,243.00</td>\n",
       "      <td>536</td>\n",
       "    </tr>\n",
       "    <tr>\n",
       "      <th>3</th>\n",
       "      <td>Нидерланды</td>\n",
       "      <td>Амстердам</td>\n",
       "      <td>2442142142</td>\n",
       "      <td>878.00</td>\n",
       "      <td>577</td>\n",
       "    </tr>\n",
       "    <tr>\n",
       "      <th>4</th>\n",
       "      <td>Швейцария</td>\n",
       "      <td>Берн</td>\n",
       "      <td>29182174204</td>\n",
       "      <td>432.00</td>\n",
       "      <td>968</td>\n",
       "    </tr>\n",
       "  </tbody>\n",
       "</table>\n",
       "</div>"
      ],
      "text/plain": [
       "      country       city   population  area_kv_km  pop_density\n",
       "0    Исландия  Рейкьявик  45464575475      546.00           32\n",
       "2      Швеция  Стокгольм  56876967949    3,243.00          536\n",
       "3  Нидерланды  Амстердам   2442142142      878.00          577\n",
       "4   Швейцария       Берн  29182174204      432.00          968"
      ]
     },
     "execution_count": 136,
     "metadata": {},
     "output_type": "execute_result"
    }
   ],
   "source": [
    "filter_2 = mini_map['city'] != 'Осло'\n",
    "mini_map[filter_2]"
   ]
  },
  {
   "cell_type": "code",
   "execution_count": 137,
   "id": "38805319",
   "metadata": {},
   "outputs": [
    {
     "data": {
      "text/html": [
       "<div>\n",
       "<style scoped>\n",
       "    .dataframe tbody tr th:only-of-type {\n",
       "        vertical-align: middle;\n",
       "    }\n",
       "\n",
       "    .dataframe tbody tr th {\n",
       "        vertical-align: top;\n",
       "    }\n",
       "\n",
       "    .dataframe thead th {\n",
       "        text-align: right;\n",
       "    }\n",
       "</style>\n",
       "<table border=\"1\" class=\"dataframe\">\n",
       "  <thead>\n",
       "    <tr style=\"text-align: right;\">\n",
       "      <th></th>\n",
       "      <th>country</th>\n",
       "      <th>city</th>\n",
       "      <th>population</th>\n",
       "      <th>area_kv_km</th>\n",
       "      <th>pop_density</th>\n",
       "    </tr>\n",
       "  </thead>\n",
       "  <tbody>\n",
       "    <tr>\n",
       "      <th>1</th>\n",
       "      <td>Норвегия</td>\n",
       "      <td>Осло</td>\n",
       "      <td>436346734646</td>\n",
       "      <td>7,547.00</td>\n",
       "      <td>2433</td>\n",
       "    </tr>\n",
       "    <tr>\n",
       "      <th>2</th>\n",
       "      <td>Швеция</td>\n",
       "      <td>Стокгольм</td>\n",
       "      <td>56876967949</td>\n",
       "      <td>3,243.00</td>\n",
       "      <td>536</td>\n",
       "    </tr>\n",
       "    <tr>\n",
       "      <th>3</th>\n",
       "      <td>Нидерланды</td>\n",
       "      <td>Амстердам</td>\n",
       "      <td>2442142142</td>\n",
       "      <td>878.00</td>\n",
       "      <td>577</td>\n",
       "    </tr>\n",
       "    <tr>\n",
       "      <th>4</th>\n",
       "      <td>Швейцария</td>\n",
       "      <td>Берн</td>\n",
       "      <td>29182174204</td>\n",
       "      <td>432.00</td>\n",
       "      <td>968</td>\n",
       "    </tr>\n",
       "  </tbody>\n",
       "</table>\n",
       "</div>"
      ],
      "text/plain": [
       "      country       city    population  area_kv_km  pop_density\n",
       "1    Норвегия       Осло  436346734646    7,547.00         2433\n",
       "2      Швеция  Стокгольм   56876967949    3,243.00          536\n",
       "3  Нидерланды  Амстердам    2442142142      878.00          577\n",
       "4   Швейцария       Берн   29182174204      432.00          968"
      ]
     },
     "execution_count": 137,
     "metadata": {},
     "output_type": "execute_result"
    }
   ],
   "source": [
    "filter_3 = mini_map['pop_density'] > 500\n",
    "mini_map[filter_3]"
   ]
  },
  {
   "cell_type": "code",
   "execution_count": 138,
   "id": "f6aca9b3",
   "metadata": {},
   "outputs": [
    {
     "data": {
      "text/html": [
       "<div>\n",
       "<style scoped>\n",
       "    .dataframe tbody tr th:only-of-type {\n",
       "        vertical-align: middle;\n",
       "    }\n",
       "\n",
       "    .dataframe tbody tr th {\n",
       "        vertical-align: top;\n",
       "    }\n",
       "\n",
       "    .dataframe thead th {\n",
       "        text-align: right;\n",
       "    }\n",
       "</style>\n",
       "<table border=\"1\" class=\"dataframe\">\n",
       "  <thead>\n",
       "    <tr style=\"text-align: right;\">\n",
       "      <th></th>\n",
       "      <th>country</th>\n",
       "      <th>city</th>\n",
       "      <th>population</th>\n",
       "      <th>area_kv_km</th>\n",
       "      <th>pop_density</th>\n",
       "    </tr>\n",
       "  </thead>\n",
       "  <tbody>\n",
       "    <tr>\n",
       "      <th>0</th>\n",
       "      <td>Исландия</td>\n",
       "      <td>Рейкьявик</td>\n",
       "      <td>45464575475</td>\n",
       "      <td>546.00</td>\n",
       "      <td>32</td>\n",
       "    </tr>\n",
       "    <tr>\n",
       "      <th>3</th>\n",
       "      <td>Нидерланды</td>\n",
       "      <td>Амстердам</td>\n",
       "      <td>2442142142</td>\n",
       "      <td>878.00</td>\n",
       "      <td>577</td>\n",
       "    </tr>\n",
       "    <tr>\n",
       "      <th>4</th>\n",
       "      <td>Швейцария</td>\n",
       "      <td>Берн</td>\n",
       "      <td>29182174204</td>\n",
       "      <td>432.00</td>\n",
       "      <td>968</td>\n",
       "    </tr>\n",
       "  </tbody>\n",
       "</table>\n",
       "</div>"
      ],
      "text/plain": [
       "      country       city   population  area_kv_km  pop_density\n",
       "0    Исландия  Рейкьявик  45464575475      546.00           32\n",
       "3  Нидерланды  Амстердам   2442142142      878.00          577\n",
       "4   Швейцария       Берн  29182174204      432.00          968"
      ]
     },
     "execution_count": 138,
     "metadata": {},
     "output_type": "execute_result"
    }
   ],
   "source": [
    "filter_4 = mini_map['area_kv_km'] < 1000\n",
    "mini_map[filter_4]"
   ]
  },
  {
   "cell_type": "code",
   "execution_count": 140,
   "id": "995fb099",
   "metadata": {},
   "outputs": [
    {
     "data": {
      "text/html": [
       "<div>\n",
       "<style scoped>\n",
       "    .dataframe tbody tr th:only-of-type {\n",
       "        vertical-align: middle;\n",
       "    }\n",
       "\n",
       "    .dataframe tbody tr th {\n",
       "        vertical-align: top;\n",
       "    }\n",
       "\n",
       "    .dataframe thead th {\n",
       "        text-align: right;\n",
       "    }\n",
       "</style>\n",
       "<table border=\"1\" class=\"dataframe\">\n",
       "  <thead>\n",
       "    <tr style=\"text-align: right;\">\n",
       "      <th></th>\n",
       "      <th>country</th>\n",
       "      <th>city</th>\n",
       "      <th>population</th>\n",
       "      <th>area_kv_km</th>\n",
       "      <th>pop_density</th>\n",
       "    </tr>\n",
       "  </thead>\n",
       "  <tbody>\n",
       "    <tr>\n",
       "      <th>1</th>\n",
       "      <td>Норвегия</td>\n",
       "      <td>Осло</td>\n",
       "      <td>436346734646</td>\n",
       "      <td>7,547.00</td>\n",
       "      <td>2433</td>\n",
       "    </tr>\n",
       "    <tr>\n",
       "      <th>3</th>\n",
       "      <td>Нидерланды</td>\n",
       "      <td>Амстердам</td>\n",
       "      <td>2442142142</td>\n",
       "      <td>878.00</td>\n",
       "      <td>577</td>\n",
       "    </tr>\n",
       "  </tbody>\n",
       "</table>\n",
       "</div>"
      ],
      "text/plain": [
       "      country       city    population  area_kv_km  pop_density\n",
       "1    Норвегия       Осло  436346734646    7,547.00         2433\n",
       "3  Нидерланды  Амстердам    2442142142      878.00          577"
      ]
     },
     "execution_count": 140,
     "metadata": {},
     "output_type": "execute_result"
    }
   ],
   "source": [
    "filter_5 = (mini_map['country'].str.startswith('Н')) & (mini_map['pop_density'] > 500)\n",
    "mini_map[filter_5]"
   ]
  },
  {
   "cell_type": "code",
   "execution_count": 141,
   "id": "5ae8bbb9",
   "metadata": {},
   "outputs": [
    {
     "data": {
      "text/html": [
       "<div>\n",
       "<style scoped>\n",
       "    .dataframe tbody tr th:only-of-type {\n",
       "        vertical-align: middle;\n",
       "    }\n",
       "\n",
       "    .dataframe tbody tr th {\n",
       "        vertical-align: top;\n",
       "    }\n",
       "\n",
       "    .dataframe thead th {\n",
       "        text-align: right;\n",
       "    }\n",
       "</style>\n",
       "<table border=\"1\" class=\"dataframe\">\n",
       "  <thead>\n",
       "    <tr style=\"text-align: right;\">\n",
       "      <th></th>\n",
       "      <th>country</th>\n",
       "      <th>city</th>\n",
       "      <th>population</th>\n",
       "      <th>area_kv_km</th>\n",
       "      <th>pop_density</th>\n",
       "    </tr>\n",
       "  </thead>\n",
       "  <tbody>\n",
       "    <tr>\n",
       "      <th>0</th>\n",
       "      <td>Исландия</td>\n",
       "      <td>Рейкьявик</td>\n",
       "      <td>45464575475</td>\n",
       "      <td>546.00</td>\n",
       "      <td>32</td>\n",
       "    </tr>\n",
       "    <tr>\n",
       "      <th>1</th>\n",
       "      <td>Норвегия</td>\n",
       "      <td>Осло</td>\n",
       "      <td>436346734646</td>\n",
       "      <td>7,547.00</td>\n",
       "      <td>2433</td>\n",
       "    </tr>\n",
       "    <tr>\n",
       "      <th>2</th>\n",
       "      <td>Швеция</td>\n",
       "      <td>Стокгольм</td>\n",
       "      <td>56876967949</td>\n",
       "      <td>3,243.00</td>\n",
       "      <td>536</td>\n",
       "    </tr>\n",
       "  </tbody>\n",
       "</table>\n",
       "</div>"
      ],
      "text/plain": [
       "    country       city    population  area_kv_km  pop_density\n",
       "0  Исландия  Рейкьявик   45464575475      546.00           32\n",
       "1  Норвегия       Осло  436346734646    7,547.00         2433\n",
       "2    Швеция  Стокгольм   56876967949    3,243.00          536"
      ]
     },
     "execution_count": 141,
     "metadata": {},
     "output_type": "execute_result"
    }
   ],
   "source": [
    "filter_6 = (mini_map['area_kv_km'] >= 1000) | (mini_map['pop_density'] < 500)\n",
    "mini_map[filter_6]"
   ]
  }
 ],
 "metadata": {
  "kernelspec": {
   "display_name": "Python 3 (ipykernel)",
   "language": "python",
   "name": "python3"
  },
  "language_info": {
   "codemirror_mode": {
    "name": "ipython",
    "version": 3
   },
   "file_extension": ".py",
   "mimetype": "text/x-python",
   "name": "python",
   "nbconvert_exporter": "python",
   "pygments_lexer": "ipython3",
   "version": "3.12.2"
  }
 },
 "nbformat": 4,
 "nbformat_minor": 5
}
