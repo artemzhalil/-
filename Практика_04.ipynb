{
 "cells": [
  {
   "cell_type": "code",
   "execution_count": 1,
   "id": "afbd9c3e-142d-4ed1-9d37-0a231a44f4f5",
   "metadata": {},
   "outputs": [],
   "source": [
    "import numpy as np\n",
    "import pandas as pd\n",
    "import matplotlib.pyplot as plt"
   ]
  },
  {
   "cell_type": "code",
   "execution_count": 2,
   "id": "3d257404-5c17-41e9-ba8d-1c696f5dc5f3",
   "metadata": {},
   "outputs": [],
   "source": [
    "# csv.zip = pd.read_csv('... .zip')\n",
    "# csv.zip.head(3)"
   ]
  },
  {
   "cell_type": "code",
   "execution_count": null,
   "id": "f58bb88e-4466-4043-9415-f75c4a9ec83e",
   "metadata": {},
   "outputs": [],
   "source": []
  },
  {
   "cell_type": "code",
   "execution_count": 52,
   "id": "6280f94c-9beb-42ba-8417-c22b18835ae0",
   "metadata": {},
   "outputs": [],
   "source": [
    "# csv.zip = pd.read_excel('.xlsx', sheet_name = 0)\n",
    "# csv.zip.head(3)"
   ]
  },
  {
   "cell_type": "code",
   "execution_count": 53,
   "id": "9d5a8097-118f-4702-bee4-ba496ce731dd",
   "metadata": {},
   "outputs": [],
   "source": [
    "# создадим несколько списвом и массивов Numpy с информацией о семи странах мира\n",
    "\n",
    "country = (['Russia', 'Chili', 'Portugal', 'Spain', 'USA', 'Kazahstan', 'Ukraina'])"
   ]
  },
  {
   "cell_type": "code",
   "execution_count": 146,
   "id": "d0e7477b-1a55-477d-877f-ca4fd34be22a",
   "metadata": {},
   "outputs": [],
   "source": [
    "capital = (['Moscow', 'Santhago', 'Lisabon', 'Madrid', 'Vashington', 'Astana', 'Kiev'])"
   ]
  },
  {
   "cell_type": "code",
   "execution_count": 147,
   "id": "dd379864-ae5e-442c-a5f1-f4b93a38b794",
   "metadata": {},
   "outputs": [],
   "source": [
    "# млн. человек\n",
    "population = ([1250 , 5432 , 1245 , 6721 , 9982 , 4564 , 4444])"
   ]
  },
  {
   "cell_type": "code",
   "execution_count": 148,
   "id": "2d447a7e-c019-4ce4-980f-05cf826d777c",
   "metadata": {},
   "outputs": [],
   "source": [
    "# млн. кв. км.\n",
    "area = ([0.5 , 0.2 , 0.4 , 1.2 , 0.3 , 0.9, 0.7])"
   ]
  },
  {
   "cell_type": "code",
   "execution_count": 149,
   "id": "7b4b1bdc-c2b5-425b-aacd-d78f70fd6a69",
   "metadata": {},
   "outputs": [],
   "source": [
    "# выход к морю\n",
    "sea = [1] * 5 + [0, 1]"
   ]
  },
  {
   "cell_type": "code",
   "execution_count": 150,
   "id": "678602b5-2d35-4e47-bda1-8ca396108e8e",
   "metadata": {},
   "outputs": [],
   "source": [
    "# создадим пустой словарь\n",
    "countries_dict = {}\n",
    "\n",
    "# превратим эти списки в значения словаря,\n",
    "# одновременно снабдив необходимыми ключами\n",
    "countries_dict['country'] = country\n",
    "countries_dict['capital'] = capital\n",
    "countries_dict['population'] = population\n",
    "countries_dict['area'] = area\n",
    "countries_dict['sea'] = sea\n"
   ]
  },
  {
   "cell_type": "code",
   "execution_count": 151,
   "id": "16011d05-539a-4748-9ab8-17b57a9224be",
   "metadata": {},
   "outputs": [
    {
     "data": {
      "text/plain": [
       "{'country': ['Russia',\n",
       "  'Chili',\n",
       "  'Portugal',\n",
       "  'Spain',\n",
       "  'USA',\n",
       "  'Kazahstan',\n",
       "  'Ukraina'],\n",
       " 'capital': ['Moscow',\n",
       "  'Santhago',\n",
       "  'Lisabon',\n",
       "  'Madrid',\n",
       "  'Vashington',\n",
       "  'Astana',\n",
       "  'Kiev'],\n",
       " 'population': [1250, 5432, 1245, 6721, 9982, 4564, 4444],\n",
       " 'area': [0.5, 0.2, 0.4, 1.2, 0.3, 0.9, 0.7],\n",
       " 'sea': [1, 1, 1, 1, 1, 0, 1]}"
      ]
     },
     "execution_count": 151,
     "metadata": {},
     "output_type": "execute_result"
    }
   ],
   "source": [
    "countries_dict"
   ]
  },
  {
   "cell_type": "code",
   "execution_count": 152,
   "id": "72dc8fb5-5bf7-4ca7-b4c9-5902a75b2b42",
   "metadata": {},
   "outputs": [
    {
     "data": {
      "text/html": [
       "<div>\n",
       "<style scoped>\n",
       "    .dataframe tbody tr th:only-of-type {\n",
       "        vertical-align: middle;\n",
       "    }\n",
       "\n",
       "    .dataframe tbody tr th {\n",
       "        vertical-align: top;\n",
       "    }\n",
       "\n",
       "    .dataframe thead th {\n",
       "        text-align: right;\n",
       "    }\n",
       "</style>\n",
       "<table border=\"1\" class=\"dataframe\">\n",
       "  <thead>\n",
       "    <tr style=\"text-align: right;\">\n",
       "      <th></th>\n",
       "      <th>country</th>\n",
       "      <th>capital</th>\n",
       "      <th>population</th>\n",
       "      <th>area</th>\n",
       "      <th>sea</th>\n",
       "    </tr>\n",
       "  </thead>\n",
       "  <tbody>\n",
       "    <tr>\n",
       "      <th>0</th>\n",
       "      <td>Russia</td>\n",
       "      <td>Moscow</td>\n",
       "      <td>1250</td>\n",
       "      <td>0.5</td>\n",
       "      <td>1</td>\n",
       "    </tr>\n",
       "    <tr>\n",
       "      <th>1</th>\n",
       "      <td>Chili</td>\n",
       "      <td>Santhago</td>\n",
       "      <td>5432</td>\n",
       "      <td>0.2</td>\n",
       "      <td>1</td>\n",
       "    </tr>\n",
       "    <tr>\n",
       "      <th>2</th>\n",
       "      <td>Portugal</td>\n",
       "      <td>Lisabon</td>\n",
       "      <td>1245</td>\n",
       "      <td>0.4</td>\n",
       "      <td>1</td>\n",
       "    </tr>\n",
       "    <tr>\n",
       "      <th>3</th>\n",
       "      <td>Spain</td>\n",
       "      <td>Madrid</td>\n",
       "      <td>6721</td>\n",
       "      <td>1.2</td>\n",
       "      <td>1</td>\n",
       "    </tr>\n",
       "    <tr>\n",
       "      <th>4</th>\n",
       "      <td>USA</td>\n",
       "      <td>Vashington</td>\n",
       "      <td>9982</td>\n",
       "      <td>0.3</td>\n",
       "      <td>1</td>\n",
       "    </tr>\n",
       "    <tr>\n",
       "      <th>5</th>\n",
       "      <td>Kazahstan</td>\n",
       "      <td>Astana</td>\n",
       "      <td>4564</td>\n",
       "      <td>0.9</td>\n",
       "      <td>0</td>\n",
       "    </tr>\n",
       "    <tr>\n",
       "      <th>6</th>\n",
       "      <td>Ukraina</td>\n",
       "      <td>Kiev</td>\n",
       "      <td>4444</td>\n",
       "      <td>0.7</td>\n",
       "      <td>1</td>\n",
       "    </tr>\n",
       "  </tbody>\n",
       "</table>\n",
       "</div>"
      ],
      "text/plain": [
       "     country     capital  population  area  sea\n",
       "0     Russia      Moscow        1250   0.5    1\n",
       "1      Chili    Santhago        5432   0.2    1\n",
       "2   Portugal     Lisabon        1245   0.4    1\n",
       "3      Spain      Madrid        6721   1.2    1\n",
       "4        USA  Vashington        9982   0.3    1\n",
       "5  Kazahstan      Astana        4564   0.9    0\n",
       "6    Ukraina        Kiev        4444   0.7    1"
      ]
     },
     "execution_count": 152,
     "metadata": {},
     "output_type": "execute_result"
    }
   ],
   "source": [
    "# создадим датафрейм\n",
    "countries = pd.DataFrame(countries_dict)\n",
    "countries"
   ]
  },
  {
   "cell_type": "code",
   "execution_count": 153,
   "id": "2f02ae30-a3c6-4b1e-aef6-764ef28d5f1a",
   "metadata": {},
   "outputs": [
    {
     "data": {
      "text/html": [
       "<div>\n",
       "<style scoped>\n",
       "    .dataframe tbody tr th:only-of-type {\n",
       "        vertical-align: middle;\n",
       "    }\n",
       "\n",
       "    .dataframe tbody tr th {\n",
       "        vertical-align: top;\n",
       "    }\n",
       "\n",
       "    .dataframe thead th {\n",
       "        text-align: right;\n",
       "    }\n",
       "</style>\n",
       "<table border=\"1\" class=\"dataframe\">\n",
       "  <thead>\n",
       "    <tr style=\"text-align: right;\">\n",
       "      <th></th>\n",
       "      <th>0</th>\n",
       "      <th>1</th>\n",
       "      <th>2</th>\n",
       "    </tr>\n",
       "  </thead>\n",
       "  <tbody>\n",
       "    <tr>\n",
       "      <th>0</th>\n",
       "      <td>1</td>\n",
       "      <td>1</td>\n",
       "      <td>1</td>\n",
       "    </tr>\n",
       "    <tr>\n",
       "      <th>1</th>\n",
       "      <td>2</td>\n",
       "      <td>2</td>\n",
       "      <td>2</td>\n",
       "    </tr>\n",
       "    <tr>\n",
       "      <th>2</th>\n",
       "      <td>3</td>\n",
       "      <td>3</td>\n",
       "      <td>3</td>\n",
       "    </tr>\n",
       "  </tbody>\n",
       "</table>\n",
       "</div>"
      ],
      "text/plain": [
       "   0  1  2\n",
       "0  1  1  1\n",
       "1  2  2  2\n",
       "2  3  3  3"
      ]
     },
     "execution_count": 153,
     "metadata": {},
     "output_type": "execute_result"
    }
   ],
   "source": [
    "# внешнее измерение будет столбцами, внутренее - строками\n",
    "arr = np.array([[1, 1, 1],\n",
    "               [2, 2, 2],\n",
    "               [3, 3, 3]])\n",
    "pd.DataFrame(arr)"
   ]
  },
  {
   "cell_type": "code",
   "execution_count": 154,
   "id": "f7c24793-e1f5-4413-b15e-d8cadc64a663",
   "metadata": {},
   "outputs": [
    {
     "data": {
      "text/plain": [
       "Index(['country', 'capital', 'population', 'area', 'sea'], dtype='object')"
      ]
     },
     "execution_count": 154,
     "metadata": {},
     "output_type": "execute_result"
    }
   ],
   "source": [
    "# через атрибутт columтs можно посмотреть название столбцов\n",
    "countries.columns"
   ]
  },
  {
   "cell_type": "code",
   "execution_count": 155,
   "id": "2a1bd042-6a05-4722-aff9-e4d8a8fd2a3e",
   "metadata": {},
   "outputs": [],
   "source": [
    "columns = ['country', 'capital', 'population', 'area', 'sea']"
   ]
  },
  {
   "cell_type": "code",
   "execution_count": 156,
   "id": "ba77ef7a-1eeb-4a7f-af38-b925c86dbbf0",
   "metadata": {},
   "outputs": [
    {
     "data": {
      "text/plain": [
       "RangeIndex(start=0, stop=7, step=1)"
      ]
     },
     "execution_count": 156,
     "metadata": {},
     "output_type": "execute_result"
    }
   ],
   "source": [
    "# атрибут index показывает, каким образом идентифицируются строки\n",
    "countries.index"
   ]
  },
  {
   "cell_type": "code",
   "execution_count": 157,
   "id": "17a7d1e2-b139-4f40-949e-51e0b3e28513",
   "metadata": {},
   "outputs": [
    {
     "data": {
      "text/plain": [
       "array([['Russia', 'Moscow', 1250, 0.5, 1],\n",
       "       ['Chili', 'Santhago', 5432, 0.2, 1],\n",
       "       ['Portugal', 'Lisabon', 1245, 0.4, 1],\n",
       "       ['Spain', 'Madrid', 6721, 1.2, 1],\n",
       "       ['USA', 'Vashington', 9982, 0.3, 1],\n",
       "       ['Kazahstan', 'Astana', 4564, 0.9, 0],\n",
       "       ['Ukraina', 'Kiev', 4444, 0.7, 1]], dtype=object)"
      ]
     },
     "execution_count": 157,
     "metadata": {},
     "output_type": "execute_result"
    }
   ],
   "source": [
    "# через values мы видим сами значения\n",
    "countries.values"
   ]
  },
  {
   "cell_type": "code",
   "execution_count": 158,
   "id": "99cdf5c3-20b2-4b75-9436-1aec03f03603",
   "metadata": {},
   "outputs": [
    {
     "data": {
      "text/plain": [
       "RangeIndex(start=0, stop=7, step=1)"
      ]
     },
     "execution_count": 158,
     "metadata": {},
     "output_type": "execute_result"
    }
   ],
   "source": [
    "# выведем описание индекса датафрейма через атрибут axes[0] (это оси)\n",
    "countries.axes[0]"
   ]
  },
  {
   "cell_type": "code",
   "execution_count": 159,
   "id": "166bb28f-ba85-49f9-ac36-0250c8fcf100",
   "metadata": {},
   "outputs": [
    {
     "data": {
      "text/plain": [
       "Index(['country', 'capital', 'population', 'area', 'sea'], dtype='object')"
      ]
     },
     "execution_count": 159,
     "metadata": {},
     "output_type": "execute_result"
    }
   ],
   "source": [
    "# axes[1] выводит названия столбцов\n",
    "countries.axes[1]"
   ]
  },
  {
   "cell_type": "code",
   "execution_count": 160,
   "id": "88189a7c-6e96-48ad-970c-70861a9a72a6",
   "metadata": {},
   "outputs": [
    {
     "data": {
      "text/plain": [
       "(2, (7, 5), 35)"
      ]
     },
     "execution_count": 160,
     "metadata": {},
     "output_type": "execute_result"
    }
   ],
   "source": [
    "# также можно посмотреть количество измерений, размерность и общее количество элементов\n",
    "countries.ndim, countries.shape, countries.size"
   ]
  },
  {
   "cell_type": "code",
   "execution_count": 161,
   "id": "ee715861-30ee-4265-8546-a0ae96017f23",
   "metadata": {},
   "outputs": [
    {
     "data": {
      "text/plain": [
       "country        object\n",
       "capital        object\n",
       "population      int64\n",
       "area          float64\n",
       "sea             int64\n",
       "dtype: object"
      ]
     },
     "execution_count": 161,
     "metadata": {},
     "output_type": "execute_result"
    }
   ],
   "source": [
    "# атрибут dtypes выдает типы данных каждого столбца (делается в первую очередь)\n",
    "countries.dtypes"
   ]
  },
  {
   "cell_type": "code",
   "execution_count": 162,
   "id": "0086c47b-5215-42de-a789-3ab74ac94c62",
   "metadata": {},
   "outputs": [
    {
     "data": {
      "text/plain": [
       "Index         132\n",
       "country        56\n",
       "capital        56\n",
       "population     56\n",
       "area           56\n",
       "sea            56\n",
       "dtype: int64"
      ]
     },
     "execution_count": 162,
     "metadata": {},
     "output_type": "execute_result"
    }
   ],
   "source": [
    "# также можно посмотреть объем занимаемоц памяти по столбам в байтах\n",
    "countries.memory_usage()"
   ]
  },
  {
   "cell_type": "code",
   "execution_count": 163,
   "id": "5d2e626b-9b09-4f32-8b96-78f83296e6f9",
   "metadata": {},
   "outputs": [],
   "source": [
    "# в датафрейме можно задать собственный индекс (например, коды стран)\n",
    "\n",
    "custom_index = (['RU', 'CH', 'PR', 'SP', 'US', 'KZ', 'UK'])"
   ]
  },
  {
   "cell_type": "code",
   "execution_count": 164,
   "id": "b41c50b3-be6f-462a-bc28-7c7527890086",
   "metadata": {},
   "outputs": [
    {
     "data": {
      "text/html": [
       "<div>\n",
       "<style scoped>\n",
       "    .dataframe tbody tr th:only-of-type {\n",
       "        vertical-align: middle;\n",
       "    }\n",
       "\n",
       "    .dataframe tbody tr th {\n",
       "        vertical-align: top;\n",
       "    }\n",
       "\n",
       "    .dataframe thead th {\n",
       "        text-align: right;\n",
       "    }\n",
       "</style>\n",
       "<table border=\"1\" class=\"dataframe\">\n",
       "  <thead>\n",
       "    <tr style=\"text-align: right;\">\n",
       "      <th></th>\n",
       "      <th>country</th>\n",
       "      <th>capital</th>\n",
       "      <th>population</th>\n",
       "      <th>area</th>\n",
       "      <th>sea</th>\n",
       "    </tr>\n",
       "  </thead>\n",
       "  <tbody>\n",
       "    <tr>\n",
       "      <th>RU</th>\n",
       "      <td>Russia</td>\n",
       "      <td>Moscow</td>\n",
       "      <td>1250</td>\n",
       "      <td>0.5</td>\n",
       "      <td>1</td>\n",
       "    </tr>\n",
       "    <tr>\n",
       "      <th>CH</th>\n",
       "      <td>Chili</td>\n",
       "      <td>Santhago</td>\n",
       "      <td>5432</td>\n",
       "      <td>0.2</td>\n",
       "      <td>1</td>\n",
       "    </tr>\n",
       "    <tr>\n",
       "      <th>PR</th>\n",
       "      <td>Portugal</td>\n",
       "      <td>Lisabon</td>\n",
       "      <td>1245</td>\n",
       "      <td>0.4</td>\n",
       "      <td>1</td>\n",
       "    </tr>\n",
       "    <tr>\n",
       "      <th>SP</th>\n",
       "      <td>Spain</td>\n",
       "      <td>Madrid</td>\n",
       "      <td>6721</td>\n",
       "      <td>1.2</td>\n",
       "      <td>1</td>\n",
       "    </tr>\n",
       "    <tr>\n",
       "      <th>US</th>\n",
       "      <td>USA</td>\n",
       "      <td>Vashington</td>\n",
       "      <td>9982</td>\n",
       "      <td>0.3</td>\n",
       "      <td>1</td>\n",
       "    </tr>\n",
       "    <tr>\n",
       "      <th>KZ</th>\n",
       "      <td>Kazahstan</td>\n",
       "      <td>Astana</td>\n",
       "      <td>4564</td>\n",
       "      <td>0.9</td>\n",
       "      <td>0</td>\n",
       "    </tr>\n",
       "    <tr>\n",
       "      <th>UK</th>\n",
       "      <td>Ukraina</td>\n",
       "      <td>Kiev</td>\n",
       "      <td>4444</td>\n",
       "      <td>0.7</td>\n",
       "      <td>1</td>\n",
       "    </tr>\n",
       "  </tbody>\n",
       "</table>\n",
       "</div>"
      ],
      "text/plain": [
       "      country     capital  population  area  sea\n",
       "RU     Russia      Moscow        1250   0.5    1\n",
       "CH      Chili    Santhago        5432   0.2    1\n",
       "PR   Portugal     Lisabon        1245   0.4    1\n",
       "SP      Spain      Madrid        6721   1.2    1\n",
       "US        USA  Vashington        9982   0.3    1\n",
       "KZ  Kazahstan      Astana        4564   0.9    0\n",
       "UK    Ukraina        Kiev        4444   0.7    1"
      ]
     },
     "execution_count": 164,
     "metadata": {},
     "output_type": "execute_result"
    }
   ],
   "source": [
    "# для этого при создании датафрейма используется параметр index\n",
    "\n",
    "countries_index = pd.DataFrame(countries_dict, index = custom_index)\n",
    "countries_index"
   ]
  },
  {
   "cell_type": "code",
   "execution_count": 165,
   "id": "90e3a0be-5fe4-4a37-9ee2-a65ba344bf22",
   "metadata": {},
   "outputs": [
    {
     "data": {
      "text/html": [
       "<div>\n",
       "<style scoped>\n",
       "    .dataframe tbody tr th:only-of-type {\n",
       "        vertical-align: middle;\n",
       "    }\n",
       "\n",
       "    .dataframe tbody tr th {\n",
       "        vertical-align: top;\n",
       "    }\n",
       "\n",
       "    .dataframe thead th {\n",
       "        text-align: right;\n",
       "    }\n",
       "</style>\n",
       "<table border=\"1\" class=\"dataframe\">\n",
       "  <thead>\n",
       "    <tr style=\"text-align: right;\">\n",
       "      <th></th>\n",
       "      <th>index</th>\n",
       "      <th>country</th>\n",
       "      <th>capital</th>\n",
       "      <th>population</th>\n",
       "      <th>area</th>\n",
       "      <th>sea</th>\n",
       "    </tr>\n",
       "  </thead>\n",
       "  <tbody>\n",
       "    <tr>\n",
       "      <th>0</th>\n",
       "      <td>RU</td>\n",
       "      <td>Russia</td>\n",
       "      <td>Moscow</td>\n",
       "      <td>1250</td>\n",
       "      <td>0.5</td>\n",
       "      <td>1</td>\n",
       "    </tr>\n",
       "    <tr>\n",
       "      <th>1</th>\n",
       "      <td>CH</td>\n",
       "      <td>Chili</td>\n",
       "      <td>Santhago</td>\n",
       "      <td>5432</td>\n",
       "      <td>0.2</td>\n",
       "      <td>1</td>\n",
       "    </tr>\n",
       "    <tr>\n",
       "      <th>2</th>\n",
       "      <td>PR</td>\n",
       "      <td>Portugal</td>\n",
       "      <td>Lisabon</td>\n",
       "      <td>1245</td>\n",
       "      <td>0.4</td>\n",
       "      <td>1</td>\n",
       "    </tr>\n",
       "    <tr>\n",
       "      <th>3</th>\n",
       "      <td>SP</td>\n",
       "      <td>Spain</td>\n",
       "      <td>Madrid</td>\n",
       "      <td>6721</td>\n",
       "      <td>1.2</td>\n",
       "      <td>1</td>\n",
       "    </tr>\n",
       "    <tr>\n",
       "      <th>4</th>\n",
       "      <td>US</td>\n",
       "      <td>USA</td>\n",
       "      <td>Vashington</td>\n",
       "      <td>9982</td>\n",
       "      <td>0.3</td>\n",
       "      <td>1</td>\n",
       "    </tr>\n",
       "    <tr>\n",
       "      <th>5</th>\n",
       "      <td>KZ</td>\n",
       "      <td>Kazahstan</td>\n",
       "      <td>Astana</td>\n",
       "      <td>4564</td>\n",
       "      <td>0.9</td>\n",
       "      <td>0</td>\n",
       "    </tr>\n",
       "    <tr>\n",
       "      <th>6</th>\n",
       "      <td>UK</td>\n",
       "      <td>Ukraina</td>\n",
       "      <td>Kiev</td>\n",
       "      <td>4444</td>\n",
       "      <td>0.7</td>\n",
       "      <td>1</td>\n",
       "    </tr>\n",
       "  </tbody>\n",
       "</table>\n",
       "</div>"
      ],
      "text/plain": [
       "  index    country     capital  population  area  sea\n",
       "0    RU     Russia      Moscow        1250   0.5    1\n",
       "1    CH      Chili    Santhago        5432   0.2    1\n",
       "2    PR   Portugal     Lisabon        1245   0.4    1\n",
       "3    SP      Spain      Madrid        6721   1.2    1\n",
       "4    US        USA  Vashington        9982   0.3    1\n",
       "5    KZ  Kazahstan      Astana        4564   0.9    0\n",
       "6    UK    Ukraina        Kiev        4444   0.7    1"
      ]
     },
     "execution_count": 165,
     "metadata": {},
     "output_type": "execute_result"
    }
   ],
   "source": [
    "# этот индекс можно сбросить\n",
    "# параметр inplace = True сохраняет изменения\n",
    "\n",
    "countries_index.reset_index(inplace = True)\n",
    "countries_index"
   ]
  },
  {
   "cell_type": "markdown",
   "id": "e3cf9755-004c-4743-8cae-15797b29d5e9",
   "metadata": {},
   "source": [
    "# Другие форматы"
   ]
  },
  {
   "cell_type": "code",
   "execution_count": 166,
   "id": "0569aace-9284-4584-a34a-f8669fb25dc8",
   "metadata": {},
   "outputs": [
    {
     "name": "stdout",
     "output_type": "stream",
     "text": [
      "{'country': {0: 'Russia', 1: 'Chili', 2: 'Portugal', 3: 'Spain', 4: 'USA', 5: 'Kazahstan', 6: 'Ukraina'}, 'capital': {0: 'Moscow', 1: 'Santhago', 2: 'Lisabon', 3: 'Madrid', 4: 'Vashington', 5: 'Astana', 6: 'Kiev'}, 'population': {0: 1250, 1: 5432, 2: 1245, 3: 6721, 4: 9982, 5: 4564, 6: 4444}, 'area': {0: 0.5, 1: 0.2, 2: 0.4, 3: 1.2, 4: 0.3, 5: 0.9, 6: 0.7}, 'sea': {0: 1, 1: 1, 2: 1, 3: 1, 4: 1, 5: 0, 6: 1}}\n"
     ]
    }
   ],
   "source": [
    "# получившийся датафрейм можно преобразовать в словарь\n",
    "print(countries.to_dict())"
   ]
  },
  {
   "cell_type": "code",
   "execution_count": 167,
   "id": "ecf4e4ee-af90-4042-bcb3-1b7d876cbadb",
   "metadata": {},
   "outputs": [
    {
     "data": {
      "text/plain": [
       "array([['Russia', 'Moscow', 1250, 0.5, 1],\n",
       "       ['Chili', 'Santhago', 5432, 0.2, 1],\n",
       "       ['Portugal', 'Lisabon', 1245, 0.4, 1],\n",
       "       ['Spain', 'Madrid', 6721, 1.2, 1],\n",
       "       ['USA', 'Vashington', 9982, 0.3, 1],\n",
       "       ['Kazahstan', 'Astana', 4564, 0.9, 0],\n",
       "       ['Ukraina', 'Kiev', 4444, 0.7, 1]], dtype=object)"
      ]
     },
     "execution_count": 167,
     "metadata": {},
     "output_type": "execute_result"
    }
   ],
   "source": [
    "# массив numpy\n",
    "countries.to_numpy()"
   ]
  },
  {
   "cell_type": "code",
   "execution_count": 168,
   "id": "de3d2a0b-228d-4c8c-bc8b-46f2086e460d",
   "metadata": {},
   "outputs": [],
   "source": [
    "# или поместить в файл\n",
    "# по умолчанию, индекс также станет часть .csv файла\n",
    "# параметр index = False позволит этого избежать\n",
    "countries.to_csv('countries.csv', index = False)"
   ]
  },
  {
   "cell_type": "code",
   "execution_count": 169,
   "id": "8bfb36c6-6a34-491b-93e3-c63da8ae1257",
   "metadata": {},
   "outputs": [
    {
     "name": "stdout",
     "output_type": "stream",
     "text": [
      "[1250, 5432, 1245, 6721, 9982, 4564, 4444]\n"
     ]
    }
   ],
   "source": [
    "print(countries.population.to_list())"
   ]
  },
  {
   "cell_type": "markdown",
   "id": "5f7505ec-f36c-494d-8c0d-b2cd4c98ca00",
   "metadata": {},
   "source": [
    "# Создание Series"
   ]
  },
  {
   "cell_type": "code",
   "execution_count": 170,
   "id": "dd572774-ad43-4c04-91e3-eb8d845bdae7",
   "metadata": {},
   "outputs": [
    {
     "data": {
      "text/html": [
       "<div>\n",
       "<style scoped>\n",
       "    .dataframe tbody tr th:only-of-type {\n",
       "        vertical-align: middle;\n",
       "    }\n",
       "\n",
       "    .dataframe tbody tr th {\n",
       "        vertical-align: top;\n",
       "    }\n",
       "\n",
       "    .dataframe thead th {\n",
       "        text-align: right;\n",
       "    }\n",
       "</style>\n",
       "<table border=\"1\" class=\"dataframe\">\n",
       "  <thead>\n",
       "    <tr style=\"text-align: right;\">\n",
       "      <th></th>\n",
       "      <th>country</th>\n",
       "      <th>capital</th>\n",
       "      <th>population</th>\n",
       "      <th>area</th>\n",
       "      <th>sea</th>\n",
       "    </tr>\n",
       "  </thead>\n",
       "  <tbody>\n",
       "    <tr>\n",
       "      <th>0</th>\n",
       "      <td>Russia</td>\n",
       "      <td>Moscow</td>\n",
       "      <td>1250</td>\n",
       "      <td>0.5</td>\n",
       "      <td>1</td>\n",
       "    </tr>\n",
       "    <tr>\n",
       "      <th>1</th>\n",
       "      <td>Chili</td>\n",
       "      <td>Santhago</td>\n",
       "      <td>5432</td>\n",
       "      <td>0.2</td>\n",
       "      <td>1</td>\n",
       "    </tr>\n",
       "    <tr>\n",
       "      <th>2</th>\n",
       "      <td>Portugal</td>\n",
       "      <td>Lisabon</td>\n",
       "      <td>1245</td>\n",
       "      <td>0.4</td>\n",
       "      <td>1</td>\n",
       "    </tr>\n",
       "    <tr>\n",
       "      <th>3</th>\n",
       "      <td>Spain</td>\n",
       "      <td>Madrid</td>\n",
       "      <td>6721</td>\n",
       "      <td>1.2</td>\n",
       "      <td>1</td>\n",
       "    </tr>\n",
       "    <tr>\n",
       "      <th>4</th>\n",
       "      <td>USA</td>\n",
       "      <td>Vashington</td>\n",
       "      <td>9982</td>\n",
       "      <td>0.3</td>\n",
       "      <td>1</td>\n",
       "    </tr>\n",
       "    <tr>\n",
       "      <th>5</th>\n",
       "      <td>Kazahstan</td>\n",
       "      <td>Astana</td>\n",
       "      <td>4564</td>\n",
       "      <td>0.9</td>\n",
       "      <td>0</td>\n",
       "    </tr>\n",
       "    <tr>\n",
       "      <th>6</th>\n",
       "      <td>Ukraina</td>\n",
       "      <td>Kiev</td>\n",
       "      <td>4444</td>\n",
       "      <td>0.7</td>\n",
       "      <td>1</td>\n",
       "    </tr>\n",
       "  </tbody>\n",
       "</table>\n",
       "</div>"
      ],
      "text/plain": [
       "     country     capital  population  area  sea\n",
       "0     Russia      Moscow        1250   0.5    1\n",
       "1      Chili    Santhago        5432   0.2    1\n",
       "2   Portugal     Lisabon        1245   0.4    1\n",
       "3      Spain      Madrid        6721   1.2    1\n",
       "4        USA  Vashington        9982   0.3    1\n",
       "5  Kazahstan      Astana        4564   0.9    0\n",
       "6    Ukraina        Kiev        4444   0.7    1"
      ]
     },
     "execution_count": 170,
     "metadata": {},
     "output_type": "execute_result"
    }
   ],
   "source": [
    "countries"
   ]
  },
  {
   "cell_type": "code",
   "execution_count": 171,
   "id": "08147ffc-3428-48d8-8624-b45ad7129f34",
   "metadata": {},
   "outputs": [],
   "source": [
    "# создадим список с названиями стран\n",
    "country_list = ['Russia', 'Chili', 'Portugal', 'Spain', 'USA', 'Kazahstan', 'Ukraina']\n"
   ]
  },
  {
   "cell_type": "code",
   "execution_count": 172,
   "id": "4139aa09-6f1a-47a8-a7d5-6ac59efb65e3",
   "metadata": {},
   "outputs": [
    {
     "data": {
      "text/plain": [
       "0       Russia\n",
       "1        Chili\n",
       "2     Portugal\n",
       "3        Spain\n",
       "4          USA\n",
       "5    Kazahstan\n",
       "6      Ukraina\n",
       "dtype: object"
      ]
     },
     "execution_count": 172,
     "metadata": {},
     "output_type": "execute_result"
    }
   ],
   "source": [
    "# передадим его в функцию pd.Series()\n",
    "country_series = pd.Series(country_list)\n",
    "country_series"
   ]
  },
  {
   "cell_type": "code",
   "execution_count": 173,
   "id": "3d44612d-7c85-4615-a733-59c540938abf",
   "metadata": {},
   "outputs": [
    {
     "data": {
      "text/plain": [
       "'Kazahstan'"
      ]
     },
     "execution_count": 173,
     "metadata": {},
     "output_type": "execute_result"
    }
   ],
   "source": [
    "# по числовому индексу можно получитьь доступ к первому элементу\n",
    "country_series[5]"
   ]
  },
  {
   "cell_type": "code",
   "execution_count": 174,
   "id": "6e1952ed-489a-43f5-8d8e-24e44b91d7ec",
   "metadata": {},
   "outputs": [],
   "source": [
    "country_dict = {\n",
    "    'RU': 'Russia',\n",
    "    'CH': 'Chili',\n",
    "    'PR': 'Portugal',\n",
    "    'SP': 'Spain',\n",
    "    'US': 'USA',\n",
    "    'KZ': 'Kazahstan',\n",
    "    'UK': 'Ukraina'\n",
    "}"
   ]
  },
  {
   "cell_type": "code",
   "execution_count": 175,
   "id": "1c52dcb6-b9be-4e2b-b3c6-b9b22efaba42",
   "metadata": {},
   "outputs": [
    {
     "data": {
      "text/plain": [
       "RU       Russia\n",
       "CH        Chili\n",
       "PR     Portugal\n",
       "SP        Spain\n",
       "US          USA\n",
       "KZ    Kazahstan\n",
       "UK      Ukraina\n",
       "dtype: object"
      ]
     },
     "execution_count": 175,
     "metadata": {},
     "output_type": "execute_result"
    }
   ],
   "source": [
    "country_series = pd.Series(country_dict)\n",
    "country_series"
   ]
  },
  {
   "cell_type": "code",
   "execution_count": 176,
   "id": "3203c267-6f9f-4780-b47b-b73f08ceafb3",
   "metadata": {},
   "outputs": [
    {
     "data": {
      "text/plain": [
       "'Kazahstan'"
      ]
     },
     "execution_count": 176,
     "metadata": {},
     "output_type": "execute_result"
    }
   ],
   "source": [
    "country_series['KZ']"
   ]
  },
  {
   "cell_type": "markdown",
   "id": "301aaf2d-6f25-43c9-83b5-ed13a4875cc8",
   "metadata": {},
   "source": [
    "# Доступ к строкам и столбам"
   ]
  },
  {
   "cell_type": "code",
   "execution_count": 177,
   "id": "799c12e7-0f29-44ba-8934-c929abb385ee",
   "metadata": {},
   "outputs": [
    {
     "data": {
      "text/html": [
       "<div>\n",
       "<style scoped>\n",
       "    .dataframe tbody tr th:only-of-type {\n",
       "        vertical-align: middle;\n",
       "    }\n",
       "\n",
       "    .dataframe tbody tr th {\n",
       "        vertical-align: top;\n",
       "    }\n",
       "\n",
       "    .dataframe thead th {\n",
       "        text-align: right;\n",
       "    }\n",
       "</style>\n",
       "<table border=\"1\" class=\"dataframe\">\n",
       "  <thead>\n",
       "    <tr style=\"text-align: right;\">\n",
       "      <th></th>\n",
       "      <th>country</th>\n",
       "      <th>capital</th>\n",
       "      <th>population</th>\n",
       "      <th>area</th>\n",
       "      <th>sea</th>\n",
       "    </tr>\n",
       "  </thead>\n",
       "  <tbody>\n",
       "    <tr>\n",
       "      <th>0</th>\n",
       "      <td>Russia</td>\n",
       "      <td>Moscow</td>\n",
       "      <td>1250</td>\n",
       "      <td>0.5</td>\n",
       "      <td>1</td>\n",
       "    </tr>\n",
       "    <tr>\n",
       "      <th>1</th>\n",
       "      <td>Chili</td>\n",
       "      <td>Santhago</td>\n",
       "      <td>5432</td>\n",
       "      <td>0.2</td>\n",
       "      <td>1</td>\n",
       "    </tr>\n",
       "    <tr>\n",
       "      <th>2</th>\n",
       "      <td>Portugal</td>\n",
       "      <td>Lisabon</td>\n",
       "      <td>1245</td>\n",
       "      <td>0.4</td>\n",
       "      <td>1</td>\n",
       "    </tr>\n",
       "    <tr>\n",
       "      <th>3</th>\n",
       "      <td>Spain</td>\n",
       "      <td>Madrid</td>\n",
       "      <td>6721</td>\n",
       "      <td>1.2</td>\n",
       "      <td>1</td>\n",
       "    </tr>\n",
       "    <tr>\n",
       "      <th>4</th>\n",
       "      <td>USA</td>\n",
       "      <td>Vashington</td>\n",
       "      <td>9982</td>\n",
       "      <td>0.3</td>\n",
       "      <td>1</td>\n",
       "    </tr>\n",
       "    <tr>\n",
       "      <th>5</th>\n",
       "      <td>Kazahstan</td>\n",
       "      <td>Astana</td>\n",
       "      <td>4564</td>\n",
       "      <td>0.9</td>\n",
       "      <td>0</td>\n",
       "    </tr>\n",
       "    <tr>\n",
       "      <th>6</th>\n",
       "      <td>Ukraina</td>\n",
       "      <td>Kiev</td>\n",
       "      <td>4444</td>\n",
       "      <td>0.7</td>\n",
       "      <td>1</td>\n",
       "    </tr>\n",
       "  </tbody>\n",
       "</table>\n",
       "</div>"
      ],
      "text/plain": [
       "     country     capital  population  area  sea\n",
       "0     Russia      Moscow        1250   0.5    1\n",
       "1      Chili    Santhago        5432   0.2    1\n",
       "2   Portugal     Lisabon        1245   0.4    1\n",
       "3      Spain      Madrid        6721   1.2    1\n",
       "4        USA  Vashington        9982   0.3    1\n",
       "5  Kazahstan      Astana        4564   0.9    0\n",
       "6    Ukraina        Kiev        4444   0.7    1"
      ]
     },
     "execution_count": 177,
     "metadata": {},
     "output_type": "execute_result"
    }
   ],
   "source": [
    "countries"
   ]
  },
  {
   "cell_type": "code",
   "execution_count": 178,
   "id": "a98c9a1c-2007-4e94-9079-d1ab55435a6c",
   "metadata": {},
   "outputs": [
    {
     "name": "stdout",
     "output_type": "stream",
     "text": [
      "country\n",
      "capital\n",
      "population\n",
      "area\n",
      "sea\n"
     ]
    }
   ],
   "source": [
    "# мы можем получить доступ к названиям стлбцов с помощью циклов for\n",
    "for column in countries:\n",
    "    print(column)"
   ]
  },
  {
   "cell_type": "code",
   "execution_count": 179,
   "id": "d68072c1-5f69-430b-af05-c3b1b5fcae5d",
   "metadata": {},
   "outputs": [
    {
     "name": "stdout",
     "output_type": "stream",
     "text": [
      "0\n",
      "country       Russia\n",
      "capital       Moscow\n",
      "population      1250\n",
      "area             0.5\n",
      "sea                1\n",
      "Name: 0, dtype: object\n",
      "...\n",
      "1\n",
      "country          Chili\n",
      "capital       Santhago\n",
      "population        5432\n",
      "area               0.2\n",
      "sea                  1\n",
      "Name: 1, dtype: object\n",
      "...\n",
      "2\n",
      "country       Portugal\n",
      "capital        Lisabon\n",
      "population        1245\n",
      "area               0.4\n",
      "sea                  1\n",
      "Name: 2, dtype: object\n",
      "...\n",
      "3\n",
      "country        Spain\n",
      "capital       Madrid\n",
      "population      6721\n",
      "area             1.2\n",
      "sea                1\n",
      "Name: 3, dtype: object\n",
      "...\n",
      "4\n",
      "country              USA\n",
      "capital       Vashington\n",
      "population          9982\n",
      "area                 0.3\n",
      "sea                    1\n",
      "Name: 4, dtype: object\n",
      "...\n",
      "5\n",
      "country       Kazahstan\n",
      "capital          Astana\n",
      "population         4564\n",
      "area                0.9\n",
      "sea                   0\n",
      "Name: 5, dtype: object\n",
      "...\n",
      "6\n",
      "country       Ukraina\n",
      "capital          Kiev\n",
      "population       4444\n",
      "area              0.7\n",
      "sea                 1\n",
      "Name: 6, dtype: object\n",
      "...\n"
     ]
    }
   ],
   "source": [
    "# метод .iterrows() возвращает индекс строки и ее содержимое в формате Series\n",
    "for index, row in countries.iterrows():\n",
    "    print(index)\n",
    "    print(row)\n",
    "    print('...')"
   ]
  },
  {
   "cell_type": "code",
   "execution_count": 180,
   "id": "f0530107-3a75-4079-96e7-3b6f7d8087d2",
   "metadata": {},
   "outputs": [
    {
     "name": "stdout",
     "output_type": "stream",
     "text": [
      "Moscow is the capital of Russia\n",
      "Santhago is the capital of Chili\n",
      "Lisabon is the capital of Portugal\n",
      "Madrid is the capital of Spain\n",
      "Vashington is the capital of USA\n",
      "Astana is the capital of Kazahstan\n",
      "Kiev is the capital of Ukraina\n"
     ]
    }
   ],
   "source": [
    "# получить доступ к данным ожной строки можно по индексу Series\n",
    "for _, row in countries.iterrows():\n",
    "    print(row['capital'] + \" is the capital of \" + row['country']) "
   ]
  },
  {
   "cell_type": "code",
   "execution_count": 181,
   "id": "72393841-44af-49f6-ad5f-53a5c0b187a0",
   "metadata": {},
   "outputs": [
    {
     "name": "stdout",
     "output_type": "stream",
     "text": [
      "Moscow is the capital of Russia\n"
     ]
    }
   ],
   "source": [
    "for _, row in countries.iterrows():\n",
    "    print(row['capital'] + \" is the capital of \" + row['country'])\n",
    "    break"
   ]
  },
  {
   "cell_type": "markdown",
   "id": "5f4435cf-7266-4eab-b27c-a7df7f8a67f9",
   "metadata": {},
   "source": [
    "# Доступ к столбцам"
   ]
  },
  {
   "cell_type": "code",
   "execution_count": 183,
   "id": "4ccdb986-9588-4ae8-9691-c2b8c35f9aed",
   "metadata": {},
   "outputs": [
    {
     "data": {
      "text/plain": [
       "0        Moscow\n",
       "1      Santhago\n",
       "2       Lisabon\n",
       "3        Madrid\n",
       "4    Vashington\n",
       "5        Astana\n",
       "6          Kiev\n",
       "Name: capital, dtype: object"
      ]
     },
     "execution_count": 183,
     "metadata": {},
     "output_type": "execute_result"
    }
   ],
   "source": [
    "# в отличие от Series, в датафрейме через квадратные скобки\n",
    "# мы получаем доступ к столбцам\n",
    "countries['capital']"
   ]
  },
  {
   "cell_type": "code",
   "execution_count": 184,
   "id": "918653e6-592a-45f8-abdf-54c2c36f942d",
   "metadata": {},
   "outputs": [
    {
     "data": {
      "text/plain": [
       "0        Moscow\n",
       "1      Santhago\n",
       "2       Lisabon\n",
       "3        Madrid\n",
       "4    Vashington\n",
       "5        Astana\n",
       "6          Kiev\n",
       "Name: capital, dtype: object"
      ]
     },
     "execution_count": 184,
     "metadata": {},
     "output_type": "execute_result"
    }
   ],
   "source": [
    "# можно также узнать название столбца через точку\n",
    "# однако в этом случве название не должно содержать пробелов\n",
    "countries.capital"
   ]
  },
  {
   "cell_type": "code",
   "execution_count": 188,
   "id": "68129325-85b7-45b7-9710-65ede355bc00",
   "metadata": {},
   "outputs": [
    {
     "data": {
      "text/plain": [
       "pandas.core.series.Series"
      ]
     },
     "execution_count": 188,
     "metadata": {},
     "output_type": "execute_result"
    }
   ],
   "source": [
    "# onдельные столбцы в датафрейме имеют тип данных Series\n",
    "type(countries.capital)"
   ]
  },
  {
   "cell_type": "code",
   "execution_count": 192,
   "id": "7903717a-9583-4b96-ae04-429bb3146dd3",
   "metadata": {},
   "outputs": [
    {
     "data": {
      "text/html": [
       "<div>\n",
       "<style scoped>\n",
       "    .dataframe tbody tr th:only-of-type {\n",
       "        vertical-align: middle;\n",
       "    }\n",
       "\n",
       "    .dataframe tbody tr th {\n",
       "        vertical-align: top;\n",
       "    }\n",
       "\n",
       "    .dataframe thead th {\n",
       "        text-align: right;\n",
       "    }\n",
       "</style>\n",
       "<table border=\"1\" class=\"dataframe\">\n",
       "  <thead>\n",
       "    <tr style=\"text-align: right;\">\n",
       "      <th></th>\n",
       "      <th>capital</th>\n",
       "    </tr>\n",
       "  </thead>\n",
       "  <tbody>\n",
       "    <tr>\n",
       "      <th>0</th>\n",
       "      <td>Moscow</td>\n",
       "    </tr>\n",
       "    <tr>\n",
       "      <th>1</th>\n",
       "      <td>Santhago</td>\n",
       "    </tr>\n",
       "    <tr>\n",
       "      <th>2</th>\n",
       "      <td>Lisabon</td>\n",
       "    </tr>\n",
       "    <tr>\n",
       "      <th>3</th>\n",
       "      <td>Madrid</td>\n",
       "    </tr>\n",
       "    <tr>\n",
       "      <th>4</th>\n",
       "      <td>Vashington</td>\n",
       "    </tr>\n",
       "    <tr>\n",
       "      <th>5</th>\n",
       "      <td>Astana</td>\n",
       "    </tr>\n",
       "    <tr>\n",
       "      <th>6</th>\n",
       "      <td>Kiev</td>\n",
       "    </tr>\n",
       "  </tbody>\n",
       "</table>\n",
       "</div>"
      ],
      "text/plain": [
       "      capital\n",
       "0      Moscow\n",
       "1    Santhago\n",
       "2     Lisabon\n",
       "3      Madrid\n",
       "4  Vashington\n",
       "5      Astana\n",
       "6        Kiev"
      ]
     },
     "execution_count": 192,
     "metadata": {},
     "output_type": "execute_result"
    }
   ],
   "source": [
    "countries[['capital']]"
   ]
  },
  {
   "cell_type": "code",
   "execution_count": 196,
   "id": "2d8fc071-2a79-4f4b-a21e-dc4648fdacd9",
   "metadata": {},
   "outputs": [
    {
     "data": {
      "text/html": [
       "<div>\n",
       "<style scoped>\n",
       "    .dataframe tbody tr th:only-of-type {\n",
       "        vertical-align: middle;\n",
       "    }\n",
       "\n",
       "    .dataframe tbody tr th {\n",
       "        vertical-align: top;\n",
       "    }\n",
       "\n",
       "    .dataframe thead th {\n",
       "        text-align: right;\n",
       "    }\n",
       "</style>\n",
       "<table border=\"1\" class=\"dataframe\">\n",
       "  <thead>\n",
       "    <tr style=\"text-align: right;\">\n",
       "      <th></th>\n",
       "      <th>country</th>\n",
       "      <th>capital</th>\n",
       "      <th>sea</th>\n",
       "    </tr>\n",
       "  </thead>\n",
       "  <tbody>\n",
       "    <tr>\n",
       "      <th>0</th>\n",
       "      <td>Russia</td>\n",
       "      <td>Moscow</td>\n",
       "      <td>1</td>\n",
       "    </tr>\n",
       "    <tr>\n",
       "      <th>1</th>\n",
       "      <td>Chili</td>\n",
       "      <td>Santhago</td>\n",
       "      <td>1</td>\n",
       "    </tr>\n",
       "    <tr>\n",
       "      <th>2</th>\n",
       "      <td>Portugal</td>\n",
       "      <td>Lisabon</td>\n",
       "      <td>1</td>\n",
       "    </tr>\n",
       "    <tr>\n",
       "      <th>3</th>\n",
       "      <td>Spain</td>\n",
       "      <td>Madrid</td>\n",
       "      <td>1</td>\n",
       "    </tr>\n",
       "    <tr>\n",
       "      <th>4</th>\n",
       "      <td>USA</td>\n",
       "      <td>Vashington</td>\n",
       "      <td>1</td>\n",
       "    </tr>\n",
       "    <tr>\n",
       "      <th>5</th>\n",
       "      <td>Kazahstan</td>\n",
       "      <td>Astana</td>\n",
       "      <td>0</td>\n",
       "    </tr>\n",
       "    <tr>\n",
       "      <th>6</th>\n",
       "      <td>Ukraina</td>\n",
       "      <td>Kiev</td>\n",
       "      <td>1</td>\n",
       "    </tr>\n",
       "  </tbody>\n",
       "</table>\n",
       "</div>"
      ],
      "text/plain": [
       "     country     capital  sea\n",
       "0     Russia      Moscow    1\n",
       "1      Chili    Santhago    1\n",
       "2   Portugal     Lisabon    1\n",
       "3      Spain      Madrid    1\n",
       "4        USA  Vashington    1\n",
       "5  Kazahstan      Astana    0\n",
       "6    Ukraina        Kiev    1"
      ]
     },
     "execution_count": 196,
     "metadata": {},
     "output_type": "execute_result"
    }
   ],
   "source": [
    "# и так мы можем получить доступ к нескольким столбцам\n",
    "countries[['country', 'capital', 'sea']]"
   ]
  },
  {
   "cell_type": "code",
   "execution_count": 197,
   "id": "4ba76593-e5e0-4681-9fe6-a424aff60a3d",
   "metadata": {},
   "outputs": [
    {
     "data": {
      "text/html": [
       "<div>\n",
       "<style scoped>\n",
       "    .dataframe tbody tr th:only-of-type {\n",
       "        vertical-align: middle;\n",
       "    }\n",
       "\n",
       "    .dataframe tbody tr th {\n",
       "        vertical-align: top;\n",
       "    }\n",
       "\n",
       "    .dataframe thead th {\n",
       "        text-align: right;\n",
       "    }\n",
       "</style>\n",
       "<table border=\"1\" class=\"dataframe\">\n",
       "  <thead>\n",
       "    <tr style=\"text-align: right;\">\n",
       "      <th></th>\n",
       "      <th>country</th>\n",
       "      <th>capital</th>\n",
       "    </tr>\n",
       "  </thead>\n",
       "  <tbody>\n",
       "    <tr>\n",
       "      <th>0</th>\n",
       "      <td>Russia</td>\n",
       "      <td>Moscow</td>\n",
       "    </tr>\n",
       "    <tr>\n",
       "      <th>1</th>\n",
       "      <td>Chili</td>\n",
       "      <td>Santhago</td>\n",
       "    </tr>\n",
       "    <tr>\n",
       "      <th>2</th>\n",
       "      <td>Portugal</td>\n",
       "      <td>Lisabon</td>\n",
       "    </tr>\n",
       "    <tr>\n",
       "      <th>3</th>\n",
       "      <td>Spain</td>\n",
       "      <td>Madrid</td>\n",
       "    </tr>\n",
       "    <tr>\n",
       "      <th>4</th>\n",
       "      <td>USA</td>\n",
       "      <td>Vashington</td>\n",
       "    </tr>\n",
       "    <tr>\n",
       "      <th>5</th>\n",
       "      <td>Kazahstan</td>\n",
       "      <td>Astana</td>\n",
       "    </tr>\n",
       "    <tr>\n",
       "      <th>6</th>\n",
       "      <td>Ukraina</td>\n",
       "      <td>Kiev</td>\n",
       "    </tr>\n",
       "  </tbody>\n",
       "</table>\n",
       "</div>"
      ],
      "text/plain": [
       "     country     capital\n",
       "0     Russia      Moscow\n",
       "1      Chili    Santhago\n",
       "2   Portugal     Lisabon\n",
       "3      Spain      Madrid\n",
       "4        USA  Vashington\n",
       "5  Kazahstan      Astana\n",
       "6    Ukraina        Kiev"
      ]
     },
     "execution_count": 197,
     "metadata": {},
     "output_type": "execute_result"
    }
   ],
   "source": [
    "# доступ к столбцам с параметром items\n",
    "countries.filter(items = ['country', 'capital'])"
   ]
  },
  {
   "cell_type": "code",
   "execution_count": 205,
   "id": "9dbaeae6-4276-4322-9629-6d28ad3ac66e",
   "metadata": {},
   "outputs": [
    {
     "data": {
      "text/html": [
       "<div>\n",
       "<style scoped>\n",
       "    .dataframe tbody tr th:only-of-type {\n",
       "        vertical-align: middle;\n",
       "    }\n",
       "\n",
       "    .dataframe tbody tr th {\n",
       "        vertical-align: top;\n",
       "    }\n",
       "\n",
       "    .dataframe thead th {\n",
       "        text-align: right;\n",
       "    }\n",
       "</style>\n",
       "<table border=\"1\" class=\"dataframe\">\n",
       "  <thead>\n",
       "    <tr style=\"text-align: right;\">\n",
       "      <th></th>\n",
       "      <th>country</th>\n",
       "      <th>capital</th>\n",
       "      <th>population</th>\n",
       "      <th>area</th>\n",
       "      <th>sea</th>\n",
       "    </tr>\n",
       "  </thead>\n",
       "  <tbody>\n",
       "    <tr>\n",
       "      <th>1</th>\n",
       "      <td>Chili</td>\n",
       "      <td>Santhago</td>\n",
       "      <td>5432</td>\n",
       "      <td>0.2</td>\n",
       "      <td>1</td>\n",
       "    </tr>\n",
       "    <tr>\n",
       "      <th>2</th>\n",
       "      <td>Portugal</td>\n",
       "      <td>Lisabon</td>\n",
       "      <td>1245</td>\n",
       "      <td>0.4</td>\n",
       "      <td>1</td>\n",
       "    </tr>\n",
       "    <tr>\n",
       "      <th>3</th>\n",
       "      <td>Spain</td>\n",
       "      <td>Madrid</td>\n",
       "      <td>6721</td>\n",
       "      <td>1.2</td>\n",
       "      <td>1</td>\n",
       "    </tr>\n",
       "    <tr>\n",
       "      <th>4</th>\n",
       "      <td>USA</td>\n",
       "      <td>Vashington</td>\n",
       "      <td>9982</td>\n",
       "      <td>0.3</td>\n",
       "      <td>1</td>\n",
       "    </tr>\n",
       "  </tbody>\n",
       "</table>\n",
       "</div>"
      ],
      "text/plain": [
       "    country     capital  population  area  sea\n",
       "1     Chili    Santhago        5432   0.2    1\n",
       "2  Portugal     Lisabon        1245   0.4    1\n",
       "3     Spain      Madrid        6721   1.2    1\n",
       "4       USA  Vashington        9982   0.3    1"
      ]
     },
     "execution_count": 205,
     "metadata": {},
     "output_type": "execute_result"
    }
   ],
   "source": [
    "# доступ к строкам можно получить через срез индекса (левая скобка - включительно, вторая - не включительно, нумерация с 0)\n",
    "countries[1:5]"
   ]
  }
 ],
 "metadata": {
  "kernelspec": {
   "display_name": "Python 3 (ipykernel)",
   "language": "python",
   "name": "python3"
  },
  "language_info": {
   "codemirror_mode": {
    "name": "ipython",
    "version": 3
   },
   "file_extension": ".py",
   "mimetype": "text/x-python",
   "name": "python",
   "nbconvert_exporter": "python",
   "pygments_lexer": "ipython3",
   "version": "3.12.2"
  }
 },
 "nbformat": 4,
 "nbformat_minor": 5
}
